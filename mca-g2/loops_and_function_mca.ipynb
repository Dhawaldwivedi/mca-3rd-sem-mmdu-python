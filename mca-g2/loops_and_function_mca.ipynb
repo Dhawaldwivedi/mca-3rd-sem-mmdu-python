{
  "nbformat": 4,
  "nbformat_minor": 0,
  "metadata": {
    "colab": {
      "provenance": [],
      "authorship_tag": "ABX9TyPxy+/lnywtqG11it6ebsBJ",
      "include_colab_link": true
    },
    "kernelspec": {
      "name": "python3",
      "display_name": "Python 3"
    },
    "language_info": {
      "name": "python"
    }
  },
  "cells": [
    {
      "cell_type": "markdown",
      "metadata": {
        "id": "view-in-github",
        "colab_type": "text"
      },
      "source": [
        "<a href=\"https://colab.research.google.com/github/Dhawaldwivedi/mca-3rd-sem-mmdu-python/blob/main/mca-g2/loops_and_function_mca.ipynb\" target=\"_parent\"><img src=\"https://colab.research.google.com/assets/colab-badge.svg\" alt=\"Open In Colab\"/></a>"
      ]
    },
    {
      "cell_type": "markdown",
      "source": [
        "# Loops"
      ],
      "metadata": {
        "id": "i6AcLzknwfSm"
      }
    },
    {
      "cell_type": "code",
      "source": [
        "# for loop\n",
        "for i in range(2,10):\n",
        "  print(i)"
      ],
      "metadata": {
        "id": "HyfgCCu0wh8b",
        "colab": {
          "base_uri": "https://localhost:8080/"
        },
        "outputId": "938fab88-a8a1-4e73-ad8e-083a7f661419"
      },
      "execution_count": 23,
      "outputs": [
        {
          "output_type": "stream",
          "name": "stdout",
          "text": [
            "2\n",
            "3\n",
            "4\n",
            "5\n",
            "6\n",
            "7\n",
            "8\n",
            "9\n"
          ]
        }
      ]
    },
    {
      "cell_type": "code",
      "source": [
        "# step size  range(start index , end index-1, step size)\n",
        "for i in range(10,2,-2):\n",
        "  print(i)"
      ],
      "metadata": {
        "id": "puB-E6a3wnKS",
        "colab": {
          "base_uri": "https://localhost:8080/"
        },
        "outputId": "32cb5555-0296-4fd1-b505-9838b7cf0e79"
      },
      "execution_count": 26,
      "outputs": [
        {
          "output_type": "stream",
          "name": "stdout",
          "text": [
            "10\n",
            "8\n",
            "6\n",
            "4\n"
          ]
        }
      ]
    },
    {
      "cell_type": "code",
      "source": [
        "# iterating a string\n",
        "s = \"mmdu mca\"\n",
        "for i in s:\n",
        "  print(i)"
      ],
      "metadata": {
        "id": "jA5M1C3AwqtK",
        "colab": {
          "base_uri": "https://localhost:8080/"
        },
        "outputId": "611c613d-e7fd-4ef8-e6e5-81539e92310f"
      },
      "execution_count": 27,
      "outputs": [
        {
          "output_type": "stream",
          "name": "stdout",
          "text": [
            "m\n",
            "m\n",
            "d\n",
            "u\n",
            " \n",
            "m\n",
            "c\n",
            "a\n"
          ]
        }
      ]
    },
    {
      "cell_type": "code",
      "source": [
        "# while loop\n",
        "i = 0\n",
        "while i<5:\n",
        "  print(i)\n",
        "  i+=1\n"
      ],
      "metadata": {
        "id": "H3zb83DZwsl9",
        "colab": {
          "base_uri": "https://localhost:8080/"
        },
        "outputId": "7f1cdbfe-c8e1-4e6a-ce92-2897658f5e36"
      },
      "execution_count": 28,
      "outputs": [
        {
          "output_type": "stream",
          "name": "stdout",
          "text": [
            "0\n",
            "1\n",
            "2\n",
            "3\n",
            "4\n"
          ]
        }
      ]
    },
    {
      "cell_type": "code",
      "source": [
        "# break\n",
        "for i in range(10):\n",
        "  if i==5:\n",
        "    break\n",
        "  print(i)"
      ],
      "metadata": {
        "id": "0PGSUbWZwvlX",
        "colab": {
          "base_uri": "https://localhost:8080/"
        },
        "outputId": "8596431a-812e-4b08-c841-c0ac1f9ab37a"
      },
      "execution_count": 29,
      "outputs": [
        {
          "output_type": "stream",
          "name": "stdout",
          "text": [
            "0\n",
            "1\n",
            "2\n",
            "3\n",
            "4\n"
          ]
        }
      ]
    },
    {
      "cell_type": "code",
      "source": [
        "#continue\n",
        "for i in range(10):\n",
        "\n",
        "  if i==5:\n",
        "\n",
        "    continue\n",
        "  print(i)"
      ],
      "metadata": {
        "id": "q5daM10AwxdP",
        "colab": {
          "base_uri": "https://localhost:8080/"
        },
        "outputId": "e49cb8ec-8204-48ef-b1a7-d0eaa7d8c61a"
      },
      "execution_count": null,
      "outputs": [
        {
          "output_type": "stream",
          "name": "stdout",
          "text": [
            "0\n",
            "1\n",
            "2\n",
            "3\n",
            "4\n",
            "6\n",
            "7\n",
            "8\n",
            "9\n"
          ]
        }
      ]
    },
    {
      "cell_type": "code",
      "source": [
        "# nested loops\n",
        "for i in range(3):\n",
        "    for j in range(2):\n",
        "        print(f\"i:{i} and j:{j}\")"
      ],
      "metadata": {
        "id": "WfrP7pqzwzKh",
        "colab": {
          "base_uri": "https://localhost:8080/"
        },
        "outputId": "465cfc25-b823-4cd5-b046-7c3e2c285417"
      },
      "execution_count": null,
      "outputs": [
        {
          "output_type": "stream",
          "name": "stdout",
          "text": [
            "i:0 and j:0\n",
            "i:0 and j:1\n",
            "i:1 and j:0\n",
            "i:1 and j:1\n",
            "i:2 and j:0\n",
            "i:2 and j:1\n"
          ]
        }
      ]
    },
    {
      "cell_type": "code",
      "source": [
        "i = 4\n",
        "j = 6\n",
        "print(f\"value of i is {i} and j is {j}\")"
      ],
      "metadata": {
        "colab": {
          "base_uri": "https://localhost:8080/"
        },
        "id": "WFr7rUvcxoFY",
        "outputId": "45feab54-37c8-4c4f-9dcf-6e75c248d767"
      },
      "execution_count": 30,
      "outputs": [
        {
          "output_type": "stream",
          "name": "stdout",
          "text": [
            "value of i is 4 and j is 6\n"
          ]
        }
      ]
    },
    {
      "cell_type": "code",
      "source": [
        "# calculate sum of first n natural numbers"
      ],
      "metadata": {
        "id": "b5vpvKwAw7hx"
      },
      "execution_count": null,
      "outputs": []
    },
    {
      "cell_type": "code",
      "source": [
        "# pattern printing\n",
        "''' *****\n",
        "    *****\n",
        "    *****\n",
        "    *****\n",
        "    *****  '''\n",
        "for i in range(5):\n",
        "  for j in range(5):\n",
        "    print(\"*\",end = \"\")\n",
        "  print()"
      ],
      "metadata": {
        "id": "qiM9I2sYw7nf",
        "colab": {
          "base_uri": "https://localhost:8080/"
        },
        "outputId": "c7afc50b-716b-44d8-c9b1-fc1fff95a47d"
      },
      "execution_count": 34,
      "outputs": [
        {
          "output_type": "stream",
          "name": "stdout",
          "text": [
            "*****\n",
            "*****\n",
            "*****\n",
            "*****\n",
            "*****\n"
          ]
        }
      ]
    },
    {
      "cell_type": "code",
      "source": [
        "''' *\n",
        "    **\n",
        "    ***\n",
        "    ****\n",
        "    ***** '''\n",
        "for i in range(5):\n",
        "  for j in range(i):\n",
        "    print(\"*\",end = \"\")\n",
        "  print()"
      ],
      "metadata": {
        "id": "CyHYx43bw7rF",
        "colab": {
          "base_uri": "https://localhost:8080/"
        },
        "outputId": "fd989068-ff03-401e-c3c3-9d43727118d7"
      },
      "execution_count": 35,
      "outputs": [
        {
          "output_type": "stream",
          "name": "stdout",
          "text": [
            "\n",
            "*\n",
            "**\n",
            "***\n",
            "****\n"
          ]
        }
      ]
    },
    {
      "cell_type": "code",
      "source": [
        "# find prime numbers between 1 to 100"
      ],
      "metadata": {
        "id": "u-iiXbyAxmXW"
      },
      "execution_count": null,
      "outputs": []
    },
    {
      "cell_type": "code",
      "source": [
        "''' *****\n",
        "    ****\n",
        "    ***\n",
        "    **\n",
        "    * '''\n",
        ""
      ],
      "metadata": {
        "id": "EuyEVJtEx_5i"
      },
      "execution_count": null,
      "outputs": []
    },
    {
      "cell_type": "code",
      "source": [],
      "metadata": {
        "id": "Naw2WvjWuRu-"
      },
      "execution_count": null,
      "outputs": []
    },
    {
      "cell_type": "markdown",
      "source": [
        "# Functions"
      ],
      "metadata": {
        "id": "IsQkVlG7yW-b"
      }
    },
    {
      "cell_type": "code",
      "source": [
        "# function definition\n",
        "def greet():\n",
        "  print(\"hello\")\n"
      ],
      "metadata": {
        "id": "yopY3qh1yY7j"
      },
      "execution_count": 36,
      "outputs": []
    },
    {
      "cell_type": "code",
      "source": [
        "# function call\n",
        "\n",
        "for i in range(5):\n",
        "  greet()"
      ],
      "metadata": {
        "id": "b9JuAeD9ybEC",
        "colab": {
          "base_uri": "https://localhost:8080/"
        },
        "outputId": "18654a7a-6a5a-4d5c-e8d1-320d31daae13"
      },
      "execution_count": 38,
      "outputs": [
        {
          "output_type": "stream",
          "name": "stdout",
          "text": [
            "hello\n",
            "hello\n",
            "hello\n",
            "hello\n",
            "hello\n"
          ]
        }
      ]
    },
    {
      "cell_type": "code",
      "source": [
        "# types of function\n",
        "# print , input , len , sum , max , count"
      ],
      "metadata": {
        "id": "15sVjTbnycvc"
      },
      "execution_count": null,
      "outputs": []
    },
    {
      "cell_type": "code",
      "source": [
        "# local and global variables\n",
        "a = 6 # global\n",
        "def fun():\n",
        "  b = 3 # local\n",
        "\n",
        "print(b)"
      ],
      "metadata": {
        "id": "e-fEUHhLfuM6",
        "colab": {
          "base_uri": "https://localhost:8080/",
          "height": 185
        },
        "outputId": "475a3c31-1d24-4c16-db35-adf67995bd01"
      },
      "execution_count": 40,
      "outputs": [
        {
          "output_type": "error",
          "ename": "NameError",
          "evalue": "name 'b' is not defined",
          "traceback": [
            "\u001b[0;31m---------------------------------------------------------------------------\u001b[0m",
            "\u001b[0;31mNameError\u001b[0m                                 Traceback (most recent call last)",
            "\u001b[0;32m/tmp/ipython-input-41876599.py\u001b[0m in \u001b[0;36m<cell line: 0>\u001b[0;34m()\u001b[0m\n\u001b[1;32m      4\u001b[0m   \u001b[0mb\u001b[0m \u001b[0;34m=\u001b[0m \u001b[0;36m3\u001b[0m\u001b[0;34m\u001b[0m\u001b[0;34m\u001b[0m\u001b[0m\n\u001b[1;32m      5\u001b[0m \u001b[0;34m\u001b[0m\u001b[0m\n\u001b[0;32m----> 6\u001b[0;31m \u001b[0mprint\u001b[0m\u001b[0;34m(\u001b[0m\u001b[0mb\u001b[0m\u001b[0;34m)\u001b[0m\u001b[0;34m\u001b[0m\u001b[0;34m\u001b[0m\u001b[0m\n\u001b[0m",
            "\u001b[0;31mNameError\u001b[0m: name 'b' is not defined"
          ]
        }
      ]
    },
    {
      "cell_type": "code",
      "source": [
        "# parameters in a function\n",
        "def add(a,b):\n",
        "  print(a+b)\n",
        "\n",
        "add(4,6)\n"
      ],
      "metadata": {
        "id": "OaYcg5Cnye7E",
        "colab": {
          "base_uri": "https://localhost:8080/"
        },
        "outputId": "ddbc4207-a11e-450c-f1f2-8064ceb43e07"
      },
      "execution_count": 43,
      "outputs": [
        {
          "output_type": "stream",
          "name": "stdout",
          "text": [
            "10\n"
          ]
        }
      ]
    },
    {
      "cell_type": "code",
      "source": [
        "# return statement\n",
        "def fun(a,b):\n",
        "  return \"hello\"\n",
        "\n",
        "fun(16,6)"
      ],
      "metadata": {
        "id": "QkGYUF2sy4ur",
        "colab": {
          "base_uri": "https://localhost:8080/",
          "height": 36
        },
        "outputId": "9562b4c2-a5d5-47c8-a225-7230075368a6"
      },
      "execution_count": 46,
      "outputs": [
        {
          "output_type": "execute_result",
          "data": {
            "text/plain": [
              "'hello'"
            ],
            "application/vnd.google.colaboratory.intrinsic+json": {
              "type": "string"
            }
          },
          "metadata": {},
          "execution_count": 46
        }
      ]
    },
    {
      "cell_type": "code",
      "source": [
        "# keyword and positional arguments\n",
        "# positional\n",
        "def student(name,age):\n",
        "  print(f\"{name} is {age} years old\")\n",
        "\n",
        "student(30,\"Amit\")"
      ],
      "metadata": {
        "id": "AJyHgwTSy5Q3",
        "colab": {
          "base_uri": "https://localhost:8080/"
        },
        "outputId": "1a5f7fc2-1d96-4feb-8788-abae339914ce"
      },
      "execution_count": 48,
      "outputs": [
        {
          "output_type": "stream",
          "name": "stdout",
          "text": [
            "30 is Amit years old\n"
          ]
        }
      ]
    },
    {
      "cell_type": "code",
      "source": [
        "student(age=32,name=\"Amit\")"
      ],
      "metadata": {
        "id": "O8I0wLflo_gL",
        "colab": {
          "base_uri": "https://localhost:8080/"
        },
        "outputId": "8e1cbfcd-c5e8-4068-a6e6-a2efee5878b9"
      },
      "execution_count": 49,
      "outputs": [
        {
          "output_type": "stream",
          "name": "stdout",
          "text": [
            "Amit is 32 years old\n"
          ]
        }
      ]
    },
    {
      "cell_type": "code",
      "source": [
        "# wap to find max of 3 numbers\n"
      ],
      "metadata": {
        "id": "vB2JLI7YXB_M"
      },
      "execution_count": null,
      "outputs": []
    },
    {
      "cell_type": "code",
      "source": [
        "# print multiplication table of a number"
      ],
      "metadata": {
        "id": "UX_PJkULXCk4"
      },
      "execution_count": null,
      "outputs": []
    },
    {
      "cell_type": "code",
      "source": [
        "1900"
      ],
      "metadata": {
        "id": "2WwEiorBiSW6",
        "colab": {
          "base_uri": "https://localhost:8080/"
        },
        "outputId": "06619c4a-164a-492c-8844-fa8910e5288f"
      },
      "execution_count": null,
      "outputs": [
        {
          "output_type": "execute_result",
          "data": {
            "text/plain": [
              "2000"
            ]
          },
          "metadata": {},
          "execution_count": 20
        }
      ]
    },
    {
      "cell_type": "markdown",
      "source": [
        "# Check if a given year is leap year or not"
      ],
      "metadata": {
        "id": "ClaenKsGirVS"
      }
    },
    {
      "cell_type": "code",
      "source": [
        "def is_leap_year(year):\n",
        "  \"\"\"Checks if a given year is a leap year.\"\"\"\n",
        "  if (year % 4 == 0 and year % 100 != 0) or (year % 400 == 0):\n",
        "    return True\n",
        "  else:\n",
        "    return False\n",
        "\n",
        "y = int(input(\"enter a year \"))\n",
        "print(is_leap_year(y))"
      ],
      "metadata": {
        "id": "KDqF-cXbiv5m",
        "colab": {
          "base_uri": "https://localhost:8080/"
        },
        "outputId": "7f186c1a-307d-4f31-8a10-be860318619f"
      },
      "execution_count": 21,
      "outputs": [
        {
          "output_type": "stream",
          "name": "stdout",
          "text": [
            "enter a year 2\n",
            "False\n"
          ]
        }
      ]
    },
    {
      "cell_type": "code",
      "source": [],
      "metadata": {
        "id": "5N7Eewnni-so"
      },
      "execution_count": 21,
      "outputs": []
    },
    {
      "cell_type": "code",
      "source": [],
      "metadata": {
        "id": "PprRWChCpiQD"
      },
      "execution_count": 21,
      "outputs": []
    }
  ]
}