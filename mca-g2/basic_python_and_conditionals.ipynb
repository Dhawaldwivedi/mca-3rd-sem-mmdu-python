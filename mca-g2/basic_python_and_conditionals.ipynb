{
  "nbformat": 4,
  "nbformat_minor": 0,
  "metadata": {
    "colab": {
      "provenance": [],
      "authorship_tag": "ABX9TyNvXkbDtdm5ZDkdWcWmXZGJ",
      "include_colab_link": true
    },
    "kernelspec": {
      "name": "python3",
      "display_name": "Python 3"
    },
    "language_info": {
      "name": "python"
    }
  },
  "cells": [
    {
      "cell_type": "markdown",
      "metadata": {
        "id": "view-in-github",
        "colab_type": "text"
      },
      "source": [
        "<a href=\"https://colab.research.google.com/github/Dhawaldwivedi/mca-3rd-sem-mmdu-python/blob/main/mca-g2/basic_python_and_conditionals.ipynb\" target=\"_parent\"><img src=\"https://colab.research.google.com/assets/colab-badge.svg\" alt=\"Open In Colab\"/></a>"
      ]
    },
    {
      "cell_type": "code",
      "execution_count": 23,
      "metadata": {
        "id": "iccp_E2PtQo1",
        "colab": {
          "base_uri": "https://localhost:8080/"
        },
        "outputId": "4e8668e9-35ee-4605-c15f-456222237d38"
      },
      "outputs": [
        {
          "output_type": "stream",
          "name": "stdout",
          "text": [
            "hello\n"
          ]
        }
      ],
      "source": [
        "print(\"hello\")"
      ]
    },
    {
      "cell_type": "markdown",
      "source": [
        "# Comments"
      ],
      "metadata": {
        "id": "11C1H0lXk1gZ"
      }
    },
    {
      "cell_type": "code",
      "source": [
        "# single line comment\n",
        "# This is a single line comment"
      ],
      "metadata": {
        "id": "J31lX0TsD8wM"
      },
      "execution_count": 24,
      "outputs": []
    },
    {
      "cell_type": "code",
      "source": [
        "\n",
        "# multi line comment\n",
        "''' this is\n",
        " a multiline\n",
        " comment'''\n",
        "print(\"hey\")\n",
        "\n",
        "\n",
        "\n"
      ],
      "metadata": {
        "id": "ixCaflRLD83l",
        "colab": {
          "base_uri": "https://localhost:8080/"
        },
        "outputId": "74989c3b-7c21-46b3-fed2-4da5b9cfb160"
      },
      "execution_count": 26,
      "outputs": [
        {
          "output_type": "stream",
          "name": "stdout",
          "text": [
            "hey\n"
          ]
        }
      ]
    },
    {
      "cell_type": "markdown",
      "source": [
        "# Variables"
      ],
      "metadata": {
        "id": "a_Hka5D5lr4k"
      }
    },
    {
      "cell_type": "code",
      "source": [
        "# declaring and assigning variables\n"
      ],
      "metadata": {
        "id": "p6W20HHTlvDD"
      },
      "execution_count": 3,
      "outputs": []
    },
    {
      "cell_type": "code",
      "source": [
        "a = 10\n",
        "print(a)"
      ],
      "metadata": {
        "colab": {
          "base_uri": "https://localhost:8080/"
        },
        "id": "ANhuQAmsOt4y",
        "outputId": "6be63ac0-8df3-4f83-811a-41ddcd6249d7"
      },
      "execution_count": 28,
      "outputs": [
        {
          "output_type": "execute_result",
          "data": {
            "text/plain": [
              "10"
            ]
          },
          "metadata": {},
          "execution_count": 28
        }
      ]
    },
    {
      "cell_type": "code",
      "source": [
        "b = 23.45\n",
        "print(b)\n"
      ],
      "metadata": {
        "colab": {
          "base_uri": "https://localhost:8080/"
        },
        "id": "Ntg16CxjPAm9",
        "outputId": "c67403e7-dd0e-489e-8ddb-82725f9e2aa1"
      },
      "execution_count": 29,
      "outputs": [
        {
          "output_type": "stream",
          "name": "stdout",
          "text": [
            "23.45\n"
          ]
        }
      ]
    },
    {
      "cell_type": "code",
      "source": [
        "c= \"gfg\"\n",
        "print(c)"
      ],
      "metadata": {
        "colab": {
          "base_uri": "https://localhost:8080/"
        },
        "id": "_U2OU-X3PDSO",
        "outputId": "1c10096d-06f1-4eea-d4a6-d38027f0bd0a"
      },
      "execution_count": 30,
      "outputs": [
        {
          "output_type": "stream",
          "name": "stdout",
          "text": [
            "gfg\n"
          ]
        }
      ]
    },
    {
      "cell_type": "code",
      "source": [
        "d =True\n",
        "print(d)"
      ],
      "metadata": {
        "colab": {
          "base_uri": "https://localhost:8080/"
        },
        "id": "2WZG4ti9PD27",
        "outputId": "dc8c1fa4-14a2-45a9-92db-b7d09011c24e"
      },
      "execution_count": 31,
      "outputs": [
        {
          "output_type": "stream",
          "name": "stdout",
          "text": [
            "True\n"
          ]
        }
      ]
    },
    {
      "cell_type": "code",
      "source": [
        "print(type(a))\n",
        "print(type(b))\n",
        "print(type(c))\n",
        "print(type(d))"
      ],
      "metadata": {
        "id": "NMPc5t_ukKDJ",
        "colab": {
          "base_uri": "https://localhost:8080/"
        },
        "outputId": "561fd8a1-0c13-41c5-c17e-612ee7675665"
      },
      "execution_count": 34,
      "outputs": [
        {
          "output_type": "stream",
          "name": "stdout",
          "text": [
            "<class 'int'>\n",
            "<class 'float'>\n",
            "<class 'str'>\n",
            "<class 'bool'>\n"
          ]
        }
      ]
    },
    {
      "cell_type": "code",
      "source": [],
      "metadata": {
        "id": "YRM-zaHokKYx"
      },
      "execution_count": 3,
      "outputs": []
    },
    {
      "cell_type": "code",
      "source": [
        "\n",
        "\n",
        "# valid invalid variable names\n",
        "-ab = 10\n",
        "a@b\n",
        "2ab\n"
      ],
      "metadata": {
        "id": "X06VG0KrmVhq",
        "colab": {
          "base_uri": "https://localhost:8080/"
        },
        "outputId": "e39e8bd5-cb10-43c6-eddd-2e5c2d763747"
      },
      "execution_count": 35,
      "outputs": [
        {
          "output_type": "execute_result",
          "data": {
            "text/plain": [
              "10"
            ]
          },
          "metadata": {},
          "execution_count": 35
        }
      ]
    },
    {
      "cell_type": "code",
      "source": [
        "# case sensitivity in python\n",
        "Name = \"Dhawal\"\n",
        "print(name)\n"
      ],
      "metadata": {
        "id": "XdoJ6seymbFl",
        "colab": {
          "base_uri": "https://localhost:8080/",
          "height": 185
        },
        "outputId": "6a710d3f-d705-42e9-ce87-dd872183aaff"
      },
      "execution_count": 36,
      "outputs": [
        {
          "output_type": "error",
          "ename": "NameError",
          "evalue": "name 'name' is not defined",
          "traceback": [
            "\u001b[0;31m---------------------------------------------------------------------------\u001b[0m",
            "\u001b[0;31mNameError\u001b[0m                                 Traceback (most recent call last)",
            "\u001b[0;32m/tmp/ipython-input-862015064.py\u001b[0m in \u001b[0;36m<cell line: 0>\u001b[0;34m()\u001b[0m\n\u001b[1;32m      1\u001b[0m \u001b[0;31m# case sensitivity in python\u001b[0m\u001b[0;34m\u001b[0m\u001b[0;34m\u001b[0m\u001b[0m\n\u001b[1;32m      2\u001b[0m \u001b[0mName\u001b[0m \u001b[0;34m=\u001b[0m \u001b[0;34m\"Dhawal\"\u001b[0m\u001b[0;34m\u001b[0m\u001b[0;34m\u001b[0m\u001b[0m\n\u001b[0;32m----> 3\u001b[0;31m \u001b[0mprint\u001b[0m\u001b[0;34m(\u001b[0m\u001b[0mname\u001b[0m\u001b[0;34m)\u001b[0m\u001b[0;34m\u001b[0m\u001b[0;34m\u001b[0m\u001b[0m\n\u001b[0m",
            "\u001b[0;31mNameError\u001b[0m: name 'name' is not defined"
          ]
        }
      ]
    },
    {
      "cell_type": "code",
      "source": [
        "## Understanding Variable types\n",
        "## Python is dynamically typed,type of a variable is determined at runtime\n",
        "\n"
      ],
      "metadata": {
        "id": "wfRnJP1fmvx8"
      },
      "execution_count": 6,
      "outputs": []
    },
    {
      "cell_type": "code",
      "source": [
        "# Type Conversion\n",
        "\n",
        "a = 10\n",
        "print(type(a))\n",
        "b = float(a)\n",
        "print(type(b))\n",
        "c = str(a)\n",
        "print(type(c))\n"
      ],
      "metadata": {
        "id": "duKYA6kWmzZu",
        "colab": {
          "base_uri": "https://localhost:8080/"
        },
        "outputId": "82215d5d-62d0-49bf-b318-94574d6c7799"
      },
      "execution_count": 39,
      "outputs": [
        {
          "output_type": "stream",
          "name": "stdout",
          "text": [
            "<class 'int'>\n",
            "<class 'float'>\n",
            "<class 'str'>\n"
          ]
        }
      ]
    },
    {
      "cell_type": "code",
      "source": [
        "c = \"gfg\"\n",
        "d = int(c)\n",
        "d"
      ],
      "metadata": {
        "colab": {
          "base_uri": "https://localhost:8080/",
          "height": 185
        },
        "id": "_REZXvhOSPCh",
        "outputId": "a3056c08-631f-4ea8-f481-df1f48bc5120"
      },
      "execution_count": 40,
      "outputs": [
        {
          "output_type": "error",
          "ename": "ValueError",
          "evalue": "invalid literal for int() with base 10: 'gfg'",
          "traceback": [
            "\u001b[0;31m---------------------------------------------------------------------------\u001b[0m",
            "\u001b[0;31mValueError\u001b[0m                                Traceback (most recent call last)",
            "\u001b[0;32m/tmp/ipython-input-3845478422.py\u001b[0m in \u001b[0;36m<cell line: 0>\u001b[0;34m()\u001b[0m\n\u001b[1;32m      1\u001b[0m \u001b[0mc\u001b[0m \u001b[0;34m=\u001b[0m \u001b[0;34m\"gfg\"\u001b[0m\u001b[0;34m\u001b[0m\u001b[0;34m\u001b[0m\u001b[0m\n\u001b[0;32m----> 2\u001b[0;31m \u001b[0md\u001b[0m \u001b[0;34m=\u001b[0m \u001b[0mint\u001b[0m\u001b[0;34m(\u001b[0m\u001b[0mc\u001b[0m\u001b[0;34m)\u001b[0m\u001b[0;34m\u001b[0m\u001b[0;34m\u001b[0m\u001b[0m\n\u001b[0m\u001b[1;32m      3\u001b[0m \u001b[0md\u001b[0m\u001b[0;34m\u001b[0m\u001b[0;34m\u001b[0m\u001b[0m\n",
            "\u001b[0;31mValueError\u001b[0m: invalid literal for int() with base 10: 'gfg'"
          ]
        }
      ]
    },
    {
      "cell_type": "code",
      "source": [],
      "metadata": {
        "id": "bHsPHa_iSiSh"
      },
      "execution_count": 7,
      "outputs": []
    },
    {
      "cell_type": "code",
      "source": [],
      "metadata": {
        "id": "qelfTDamTKOm"
      },
      "execution_count": 7,
      "outputs": []
    },
    {
      "cell_type": "code",
      "source": [
        "# variables reinitialization\n",
        "var = 10\n",
        "var = 34.5\n",
        "var = \"hi\"\n",
        "var"
      ],
      "metadata": {
        "id": "kW3cCIasm3Nl",
        "colab": {
          "base_uri": "https://localhost:8080/",
          "height": 36
        },
        "outputId": "da636b7a-23f4-4110-9041-31d63d0ddca1"
      },
      "execution_count": 43,
      "outputs": [
        {
          "output_type": "execute_result",
          "data": {
            "text/plain": [
              "'hi'"
            ],
            "application/vnd.google.colaboratory.intrinsic+json": {
              "type": "string"
            }
          },
          "metadata": {},
          "execution_count": 43
        }
      ]
    },
    {
      "cell_type": "code",
      "source": [
        "# input function\n",
        "var = float(input(\"enter a number \"))\n",
        "var"
      ],
      "metadata": {
        "id": "HM74a3mwnkVe",
        "colab": {
          "base_uri": "https://localhost:8080/"
        },
        "outputId": "e1e8918d-59d3-4f83-864d-df58700b8488"
      },
      "execution_count": 49,
      "outputs": [
        {
          "name": "stdout",
          "output_type": "stream",
          "text": [
            "enter a number 23.5\n"
          ]
        },
        {
          "output_type": "execute_result",
          "data": {
            "text/plain": [
              "23.5"
            ]
          },
          "metadata": {},
          "execution_count": 49
        }
      ]
    },
    {
      "cell_type": "code",
      "source": [
        "type(var)"
      ],
      "metadata": {
        "id": "8fJXuc68npNb",
        "colab": {
          "base_uri": "https://localhost:8080/"
        },
        "outputId": "0a0fefc5-1f5d-45f2-e5dd-ee2e81822eda"
      },
      "execution_count": 50,
      "outputs": [
        {
          "output_type": "execute_result",
          "data": {
            "text/plain": [
              "float"
            ]
          },
          "metadata": {},
          "execution_count": 50
        }
      ]
    },
    {
      "cell_type": "markdown",
      "source": [
        "# Data Types"
      ],
      "metadata": {
        "id": "QqI8N_gnnrPq"
      }
    },
    {
      "cell_type": "code",
      "source": [
        "# understanding different data types\n",
        "# int\n",
        "# float\n",
        "# bool\n",
        "# string"
      ],
      "metadata": {
        "id": "__l1gvhSoFFA"
      },
      "execution_count": 10,
      "outputs": []
    },
    {
      "cell_type": "code",
      "source": [
        "# adding 2 diff datatype variables\n",
        "a = 23\n",
        "b = 67.8\n",
        "c = a+b\n",
        "type(c)"
      ],
      "metadata": {
        "id": "Qb5xKslroRQD",
        "colab": {
          "base_uri": "https://localhost:8080/"
        },
        "outputId": "4ace7dcd-0946-461d-9e99-fb6fe15d81bf"
      },
      "execution_count": 51,
      "outputs": [
        {
          "output_type": "execute_result",
          "data": {
            "text/plain": [
              "float"
            ]
          },
          "metadata": {},
          "execution_count": 51
        }
      ]
    },
    {
      "cell_type": "code",
      "source": [
        "a = \"hey\"\n",
        "b = 23\n",
        "c = a+ str(b)\n",
        "c"
      ],
      "metadata": {
        "id": "6opHNoPcodpq",
        "colab": {
          "base_uri": "https://localhost:8080/",
          "height": 36
        },
        "outputId": "2c841aa5-f6dd-4421-8604-dc64cb2988f6"
      },
      "execution_count": 53,
      "outputs": [
        {
          "output_type": "execute_result",
          "data": {
            "text/plain": [
              "'hey23'"
            ],
            "application/vnd.google.colaboratory.intrinsic+json": {
              "type": "string"
            }
          },
          "metadata": {},
          "execution_count": 53
        }
      ]
    },
    {
      "cell_type": "markdown",
      "source": [
        "# Operators"
      ],
      "metadata": {
        "id": "lP16bpW1pAib"
      }
    },
    {
      "cell_type": "code",
      "source": [
        "# Arithmetic Operators\n",
        "# addition\n",
        "# subtraction\n",
        "# multiplication\n",
        "# division\n",
        "# modulus\n",
        "# floor division\n",
        "# exponential\n",
        "a =12\n",
        "b = 5\n",
        "print(a/b)\n",
        "print(a//b)\n",
        "print(a**b)\n"
      ],
      "metadata": {
        "id": "o9NjcTYhpD7b",
        "colab": {
          "base_uri": "https://localhost:8080/"
        },
        "outputId": "5239057c-15c5-4ea1-d26a-582e7d5f6dc8"
      },
      "execution_count": 62,
      "outputs": [
        {
          "output_type": "stream",
          "name": "stdout",
          "text": [
            "2.4\n",
            "2\n",
            "248832\n"
          ]
        }
      ]
    },
    {
      "cell_type": "code",
      "source": [
        "# comparison operators\n",
        "# equals ==\n",
        "# not equals !=\n",
        "# greater than\n",
        "# less than\n",
        "print(a==b)\n",
        "print(a!=b)\n",
        "print(a>=b)"
      ],
      "metadata": {
        "id": "4RWB0J6ypcC0",
        "colab": {
          "base_uri": "https://localhost:8080/"
        },
        "outputId": "4524b26c-5754-4a54-a12c-916cdf2624ae"
      },
      "execution_count": 55,
      "outputs": [
        {
          "output_type": "stream",
          "name": "stdout",
          "text": [
            "False\n",
            "True\n",
            "True\n"
          ]
        }
      ]
    },
    {
      "cell_type": "code",
      "source": [
        "# logical operators\n",
        "# and\n",
        "# or\n",
        "# not\n",
        "a = True\n",
        "b = False\n",
        "print(a and b)\n",
        "print(a or b)\n",
        "print( not b)\n"
      ],
      "metadata": {
        "id": "FZYn3B2RrBe9",
        "colab": {
          "base_uri": "https://localhost:8080/"
        },
        "outputId": "8453a0d6-bace-4af4-804a-bcb632fd5dcb"
      },
      "execution_count": 57,
      "outputs": [
        {
          "output_type": "stream",
          "name": "stdout",
          "text": [
            "False\n",
            "True\n",
            "True\n"
          ]
        }
      ]
    },
    {
      "cell_type": "markdown",
      "source": [
        "# simple calculator program"
      ],
      "metadata": {
        "id": "F0p8Pa2Sr7aA"
      }
    },
    {
      "cell_type": "code",
      "source": [
        "# create a simple calculator program taking 2 inputs from user and printing different arithemtic outputs"
      ],
      "metadata": {
        "id": "MqZpGPU3soXS"
      },
      "execution_count": 15,
      "outputs": []
    },
    {
      "cell_type": "markdown",
      "source": [
        "# Conditionals"
      ],
      "metadata": {
        "id": "LEGKanWexkui"
      }
    },
    {
      "cell_type": "code",
      "source": [
        "# basics which enables decision making in python"
      ],
      "metadata": {
        "id": "Z1ysObmpxnyc"
      },
      "execution_count": 16,
      "outputs": []
    },
    {
      "cell_type": "code",
      "source": [
        "a = 9\n",
        "if a>5:\n",
        "  print(\"a is greater than 5\")\n",
        "else:\n",
        "  print(\"a is lesser than 5\")\n",
        "\n",
        "\n"
      ],
      "metadata": {
        "id": "iUsI55RuxteS",
        "colab": {
          "base_uri": "https://localhost:8080/"
        },
        "outputId": "d0f8a1c3-0fad-435a-e438-ca44ea04dc08"
      },
      "execution_count": 58,
      "outputs": [
        {
          "output_type": "stream",
          "name": "stdout",
          "text": [
            "a is greater than 5\n"
          ]
        }
      ]
    },
    {
      "cell_type": "code",
      "source": [
        "#Q) Find if the number is even\n",
        "\n"
      ],
      "metadata": {
        "id": "9_k2il0Sxthp"
      },
      "execution_count": 17,
      "outputs": []
    },
    {
      "cell_type": "code",
      "source": [
        "# elif\n",
        "# if condition:\n",
        "    #print(true)\n",
        "# elif conditon2:\n",
        "#    print(true)\n",
        "# else:\n",
        "# print(true)\n",
        "\n",
        "if ()\n",
        "if ()\n",
        "\n",
        "\n",
        "\n",
        "\n",
        "if()\n",
        "elif()"
      ],
      "metadata": {
        "id": "w4wp3Gkkxvzn"
      },
      "execution_count": 18,
      "outputs": []
    },
    {
      "cell_type": "code",
      "source": [
        "# nested conditonals\n",
        "## number even ,odd,negative\n",
        "a = int(input(\"enter a number \"))\n",
        "if a>0:\n",
        "  if a%2==0:\n",
        "    print(\"even\")\n",
        "  else:\n",
        "    print(\"odd\")\n",
        "else:\n",
        "  print(\"negative\")"
      ],
      "metadata": {
        "id": "Wsf_xnRYxzLq",
        "colab": {
          "base_uri": "https://localhost:8080/"
        },
        "outputId": "29f9ea19-3efb-4da0-880e-35f9ed301ba0"
      },
      "execution_count": 61,
      "outputs": [
        {
          "output_type": "stream",
          "name": "stdout",
          "text": [
            "enter a number -4\n",
            "negative\n"
          ]
        }
      ]
    },
    {
      "cell_type": "code",
      "source": [
        "## Simple Calculator program\n",
        "# Take user input for operation"
      ],
      "metadata": {
        "id": "eYdkWjagx2gr"
      },
      "execution_count": 20,
      "outputs": []
    },
    {
      "cell_type": "code",
      "source": [
        " # A simple user login system that checks the username and password.\n",
        "user = \"admin\"\n",
        "password = \"admin@123\""
      ],
      "metadata": {
        "id": "xmodxKADyGhE"
      },
      "execution_count": 21,
      "outputs": []
    },
    {
      "cell_type": "code",
      "source": [
        "# marks baSED ON grade\n",
        "''' 90+ --> A+\n",
        "    80-89 -->A\n",
        "    70-79 --> B\n",
        "    50-69 --> C\n",
        "    below 50 --> D '''"
      ],
      "metadata": {
        "id": "QFpaZy39yIuF",
        "colab": {
          "base_uri": "https://localhost:8080/",
          "height": 36
        },
        "outputId": "3767d45f-264a-4b8d-a43b-9f39e811da56"
      },
      "execution_count": 22,
      "outputs": [
        {
          "output_type": "execute_result",
          "data": {
            "text/plain": [
              "' 90+ --> A+\\n    80-89 -->A\\n    70-79 --> B\\n    50-69 --> C\\n    below 50 --> D '"
            ],
            "application/vnd.google.colaboratory.intrinsic+json": {
              "type": "string"
            }
          },
          "metadata": {},
          "execution_count": 22
        }
      ]
    },
    {
      "cell_type": "code",
      "source": [],
      "metadata": {
        "id": "A3ZLlHBDX804"
      },
      "execution_count": 22,
      "outputs": []
    },
    {
      "cell_type": "markdown",
      "source": [],
      "metadata": {
        "id": "LZ0TeHkN5ZFm"
      }
    }
  ]
}