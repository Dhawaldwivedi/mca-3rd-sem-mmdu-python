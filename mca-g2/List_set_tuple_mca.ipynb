{
  "nbformat": 4,
  "nbformat_minor": 0,
  "metadata": {
    "colab": {
      "provenance": [],
      "authorship_tag": "ABX9TyPLVPsUOoOpGmiIYj7DSJ0Z",
      "include_colab_link": true
    },
    "kernelspec": {
      "name": "python3",
      "display_name": "Python 3"
    },
    "language_info": {
      "name": "python"
    }
  },
  "cells": [
    {
      "cell_type": "markdown",
      "metadata": {
        "id": "view-in-github",
        "colab_type": "text"
      },
      "source": [
        "<a href=\"https://colab.research.google.com/github/Dhawaldwivedi/mca-3rd-sem-mmdu-python/blob/main/mca-g2/List_set_tuple_mca.ipynb\" target=\"_parent\"><img src=\"https://colab.research.google.com/assets/colab-badge.svg\" alt=\"Open In Colab\"/></a>"
      ]
    },
    {
      "cell_type": "code",
      "execution_count": 3,
      "metadata": {
        "id": "Bk1bwffLj19z",
        "colab": {
          "base_uri": "https://localhost:8080/"
        },
        "outputId": "a42efe25-2683-4767-afbc-089e0dfc55f7"
      },
      "outputs": [
        {
          "output_type": "execute_result",
          "data": {
            "text/plain": [
              "list"
            ]
          },
          "metadata": {},
          "execution_count": 3
        }
      ],
      "source": [
        "# empty list\n",
        "lst = []\n",
        "type(lst)"
      ]
    },
    {
      "cell_type": "code",
      "source": [
        "names=[\"Harsh\",\"Rahul\",\"Nitin\",1,2,3,4,5.6,True]\n",
        "print(names)"
      ],
      "metadata": {
        "id": "ZY0HIo0fkFoI",
        "colab": {
          "base_uri": "https://localhost:8080/"
        },
        "outputId": "a067132e-6c1b-4ac3-c15d-c908d4b02c93"
      },
      "execution_count": null,
      "outputs": [
        {
          "output_type": "stream",
          "name": "stdout",
          "text": [
            "['Harsh', 'Rahul', 'Nitin', 1, 2, 3, 4, 5.6, True]\n"
          ]
        }
      ]
    },
    {
      "cell_type": "code",
      "source": [
        "mixed_list=[1,\"Hello\",3.14,True]\n",
        "print(mixed_list)"
      ],
      "metadata": {
        "id": "3jIbyS3vkFq0"
      },
      "execution_count": null,
      "outputs": []
    },
    {
      "cell_type": "code",
      "source": [
        "### Accessing List Elements\n",
        "\n",
        "fruits=[\"apple\",\"banana\",\"cherry\",\"kiwi\",\"gauva\"]"
      ],
      "metadata": {
        "id": "hpbzo8w1kFtn"
      },
      "execution_count": 5,
      "outputs": []
    },
    {
      "cell_type": "code",
      "source": [
        "print(fruits[0])\n",
        "print(fruits[2])\n",
        "print(fruits[4])\n",
        "print(fruits[-1])"
      ],
      "metadata": {
        "id": "q5lY81m1kFwa",
        "colab": {
          "base_uri": "https://localhost:8080/"
        },
        "outputId": "2e70c667-c94f-4ec3-93b0-6de8140536bf"
      },
      "execution_count": null,
      "outputs": [
        {
          "output_type": "stream",
          "name": "stdout",
          "text": [
            "apple\n",
            "cherry\n",
            "gauva\n",
            "gauva\n"
          ]
        }
      ]
    },
    {
      "cell_type": "code",
      "source": [],
      "metadata": {
        "id": "K8vODw_GkFzL"
      },
      "execution_count": null,
      "outputs": []
    },
    {
      "cell_type": "code",
      "source": [
        "# changing elements\n",
        "fruits[1] = \"Mango\"\n",
        "fruits"
      ],
      "metadata": {
        "id": "Q6Re9sQukF19",
        "colab": {
          "base_uri": "https://localhost:8080/"
        },
        "outputId": "8d623b1d-4b63-4169-fe30-96e24fdbcf36"
      },
      "execution_count": 6,
      "outputs": [
        {
          "output_type": "execute_result",
          "data": {
            "text/plain": [
              "['apple', 'Mango', 'cherry', 'kiwi', 'gauva']"
            ]
          },
          "metadata": {},
          "execution_count": 6
        }
      ]
    },
    {
      "cell_type": "code",
      "source": [
        "fruits=[\"apple\",\"banana\",\"cherry\",\"kiwi\",\"gauva\"]"
      ],
      "metadata": {
        "id": "Lq48PS5-kF5T"
      },
      "execution_count": null,
      "outputs": []
    },
    {
      "cell_type": "code",
      "source": [
        "## List Methods\n",
        "\n",
        "fruits.append(\"orange\") ## Add an item to the end\n",
        "print(fruits)"
      ],
      "metadata": {
        "id": "lgdZBIozkzKW",
        "colab": {
          "base_uri": "https://localhost:8080/"
        },
        "outputId": "cdf538e4-7185-44a0-a96b-23c6b2c786e2"
      },
      "execution_count": 7,
      "outputs": [
        {
          "output_type": "stream",
          "name": "stdout",
          "text": [
            "['apple', 'Mango', 'cherry', 'kiwi', 'gauva', 'orange']\n"
          ]
        }
      ]
    },
    {
      "cell_type": "code",
      "source": [
        "fruits.insert(1,\"watermelon\")\n",
        "print(fruits)"
      ],
      "metadata": {
        "id": "tlb2osUCkzNK",
        "colab": {
          "base_uri": "https://localhost:8080/"
        },
        "outputId": "555376cb-0dba-4578-f562-d8ac1c0ec145"
      },
      "execution_count": 8,
      "outputs": [
        {
          "output_type": "stream",
          "name": "stdout",
          "text": [
            "['apple', 'watermelon', 'Mango', 'cherry', 'kiwi', 'gauva', 'orange']\n"
          ]
        }
      ]
    },
    {
      "cell_type": "code",
      "source": [
        "fruits.remove(\"watermelon\") ## Removing the first occurance of an item\n",
        "print(fruits)"
      ],
      "metadata": {
        "id": "xd7-QpGSkzQJ",
        "colab": {
          "base_uri": "https://localhost:8080/"
        },
        "outputId": "4111679f-dead-42ac-82a7-bfae89fddddc"
      },
      "execution_count": 9,
      "outputs": [
        {
          "output_type": "stream",
          "name": "stdout",
          "text": [
            "['apple', 'Mango', 'cherry', 'kiwi', 'gauva', 'orange']\n"
          ]
        }
      ]
    },
    {
      "cell_type": "code",
      "source": [
        "## Remove and return the last element\n",
        "popped_fruits=fruits.pop(3)\n",
        "print(popped_fruits)\n",
        "print(fruits)"
      ],
      "metadata": {
        "id": "iDaXcmXmkzS6",
        "colab": {
          "base_uri": "https://localhost:8080/"
        },
        "outputId": "d91d1416-5b8b-4042-c2f5-b928a3ac0259"
      },
      "execution_count": 11,
      "outputs": [
        {
          "output_type": "stream",
          "name": "stdout",
          "text": [
            "kiwi\n",
            "['apple', 'Mango', 'cherry', 'gauva']\n"
          ]
        }
      ]
    },
    {
      "cell_type": "code",
      "source": [
        "index=fruits.index(\"cherry\")\n",
        "print(index)"
      ],
      "metadata": {
        "id": "bBhWOB7skzV7",
        "colab": {
          "base_uri": "https://localhost:8080/"
        },
        "outputId": "9087f9a7-0a0c-417a-8abc-cc5587422025"
      },
      "execution_count": 12,
      "outputs": [
        {
          "output_type": "stream",
          "name": "stdout",
          "text": [
            "2\n"
          ]
        }
      ]
    },
    {
      "cell_type": "code",
      "source": [
        "fruits.insert(2,\"banana\")\n",
        "print(fruits.count(\"banana\"))"
      ],
      "metadata": {
        "id": "qxI_vnYjkzYn",
        "colab": {
          "base_uri": "https://localhost:8080/"
        },
        "outputId": "3a86e239-80e5-462b-cdd2-136faaaf9609"
      },
      "execution_count": null,
      "outputs": [
        {
          "output_type": "stream",
          "name": "stdout",
          "text": [
            "1\n"
          ]
        }
      ]
    },
    {
      "cell_type": "code",
      "source": [
        " ## SSorts the list in ascending order\n",
        "fruits.sort(ascending = False)\n",
        "fruits"
      ],
      "metadata": {
        "id": "StuMqmeikzbO",
        "colab": {
          "base_uri": "https://localhost:8080/"
        },
        "outputId": "8b2e433b-b4f3-4889-8671-8131d282cf4c"
      },
      "execution_count": 13,
      "outputs": [
        {
          "output_type": "execute_result",
          "data": {
            "text/plain": [
              "['Mango', 'apple', 'cherry', 'gauva']"
            ]
          },
          "metadata": {},
          "execution_count": 13
        }
      ]
    },
    {
      "cell_type": "code",
      "source": [
        " ## REverse the list\n",
        "fruits.reverse()\n",
        "fruits"
      ],
      "metadata": {
        "id": "Lwfj_tNwkzd0",
        "colab": {
          "base_uri": "https://localhost:8080/"
        },
        "outputId": "bf0914ad-e7a3-42a5-be18-4ee54cbe61e0"
      },
      "execution_count": 14,
      "outputs": [
        {
          "output_type": "execute_result",
          "data": {
            "text/plain": [
              "['gauva', 'cherry', 'apple', 'Mango']"
            ]
          },
          "metadata": {},
          "execution_count": 14
        }
      ]
    },
    {
      "cell_type": "code",
      "source": [
        " ## Remove all items from the list\n",
        "fruits.clear()\n",
        "\n",
        "print(fruits)"
      ],
      "metadata": {
        "id": "CPy7reO-kzgo",
        "colab": {
          "base_uri": "https://localhost:8080/"
        },
        "outputId": "4f67391e-ac82-4371-ae6b-d3e27b819bda"
      },
      "execution_count": 15,
      "outputs": [
        {
          "output_type": "stream",
          "name": "stdout",
          "text": [
            "[]\n"
          ]
        }
      ]
    },
    {
      "cell_type": "code",
      "source": [
        "## Slicing List\n",
        "numbers = [1, 2, 3, 4, 5, 6, 7, 8, 9, 10]\n",
        "numbers[::-1]\n"
      ],
      "metadata": {
        "id": "hsFhQcuMkzjY",
        "colab": {
          "base_uri": "https://localhost:8080/"
        },
        "outputId": "2c15505b-72d5-4718-fd73-0a70a743a48f"
      },
      "execution_count": 22,
      "outputs": [
        {
          "output_type": "execute_result",
          "data": {
            "text/plain": [
              "[10, 9, 8, 7, 6, 5, 4, 3, 2, 1]"
            ]
          },
          "metadata": {},
          "execution_count": 22
        }
      ]
    },
    {
      "cell_type": "code",
      "source": [
        "## List comprehension\n",
        "lst = [0,1,2,3,4,5,6,7,8,9]\n",
        "for i in lst:\n",
        "  print(lst[i]**2)\n"
      ],
      "metadata": {
        "id": "KpHLSdw3kzmt"
      },
      "execution_count": null,
      "outputs": []
    },
    {
      "cell_type": "code",
      "source": [
        "[x**2 for x in range(10) if x%2==0]"
      ],
      "metadata": {
        "id": "JSeZjpoxlaeD",
        "colab": {
          "base_uri": "https://localhost:8080/"
        },
        "outputId": "f6e7003e-f630-4af5-c197-735d505bdd77"
      },
      "execution_count": 24,
      "outputs": [
        {
          "output_type": "execute_result",
          "data": {
            "text/plain": [
              "[0, 4, 16, 36, 64]"
            ]
          },
          "metadata": {},
          "execution_count": 24
        }
      ]
    },
    {
      "cell_type": "markdown",
      "source": [
        "Example 1. Manage A To Do List\n",
        "\n",
        "Create a To Do List To Keep Track OF Tasks"
      ],
      "metadata": {
        "id": "pBaSM2Svlpd5"
      }
    },
    {
      "cell_type": "code",
      "source": [
        "to_do_list=[\"Buy Groceries\",\"Clean the house\",\"Pay bills\"]"
      ],
      "metadata": {
        "id": "kwzAskSOlc4Z"
      },
      "execution_count": null,
      "outputs": []
    },
    {
      "cell_type": "markdown",
      "source": [
        "# Tuples"
      ],
      "metadata": {
        "id": "w83d-InQlz6r"
      }
    },
    {
      "cell_type": "code",
      "source": [
        "## creating a tuple\n",
        "empty_tuple=()\n",
        "print(empty_tuple)\n",
        "print(type(empty_tuple))"
      ],
      "metadata": {
        "id": "rSTsaWYtlc70",
        "colab": {
          "base_uri": "https://localhost:8080/"
        },
        "outputId": "c30635d1-7f81-47df-bf33-f9e78b882ad7"
      },
      "execution_count": 25,
      "outputs": [
        {
          "output_type": "stream",
          "name": "stdout",
          "text": [
            "()\n",
            "<class 'tuple'>\n"
          ]
        }
      ]
    },
    {
      "cell_type": "code",
      "source": [
        "lst=list()\n",
        "print(type(lst))\n",
        "tpl=tuple()\n",
        "print(type(tpl))"
      ],
      "metadata": {
        "id": "64wNQ7MClc_R"
      },
      "execution_count": null,
      "outputs": []
    },
    {
      "cell_type": "code",
      "source": [
        "numbers=tuple([1,2,3,4,5,6])\n",
        "numbers"
      ],
      "metadata": {
        "id": "d9SwEQsml9Ke",
        "colab": {
          "base_uri": "https://localhost:8080/"
        },
        "outputId": "db0f6721-c8bf-4a36-cbe1-84a2f2190e09"
      },
      "execution_count": 26,
      "outputs": [
        {
          "output_type": "execute_result",
          "data": {
            "text/plain": [
              "(1, 2, 3, 4, 5, 6)"
            ]
          },
          "metadata": {},
          "execution_count": 26
        }
      ]
    },
    {
      "cell_type": "code",
      "source": [
        "mixed_tuple=(1,\"Hello World\",3.14, True)\n",
        "print(mixed_tuple)"
      ],
      "metadata": {
        "id": "sObH1Y92l9Nc",
        "colab": {
          "base_uri": "https://localhost:8080/"
        },
        "outputId": "114fcfc8-cfcc-403c-e16e-0d9f0af3ad69"
      },
      "execution_count": 27,
      "outputs": [
        {
          "output_type": "stream",
          "name": "stdout",
          "text": [
            "(1, 'Hello World', 3.14, True)\n"
          ]
        }
      ]
    },
    {
      "cell_type": "code",
      "source": [
        "print(numbers[2])\n",
        "print(numbers[-1])"
      ],
      "metadata": {
        "id": "Q93a17cGl9Qg",
        "colab": {
          "base_uri": "https://localhost:8080/"
        },
        "outputId": "7ff91f4b-59a9-42fb-a05e-ec9867f2c744"
      },
      "execution_count": null,
      "outputs": [
        {
          "output_type": "stream",
          "name": "stdout",
          "text": [
            "3\n",
            "6\n"
          ]
        }
      ]
    },
    {
      "cell_type": "code",
      "source": [
        "## Tuple Operations\n",
        "\n",
        "concatenation_tuple=numbers + mixed_tuple\n",
        "print(concatenation_tuple)"
      ],
      "metadata": {
        "id": "3wFqJeTEl9TJ",
        "colab": {
          "base_uri": "https://localhost:8080/"
        },
        "outputId": "2cb458a9-e2c7-453b-e2ab-5412f51bc03f"
      },
      "execution_count": 28,
      "outputs": [
        {
          "output_type": "stream",
          "name": "stdout",
          "text": [
            "(1, 2, 3, 4, 5, 6, 1, 'Hello World', 3.14, True)\n"
          ]
        }
      ]
    },
    {
      "cell_type": "code",
      "source": [],
      "metadata": {
        "id": "7OS-qIv5tYHo"
      },
      "execution_count": 1,
      "outputs": []
    },
    {
      "cell_type": "code",
      "source": [
        "lst=[1,2,3,4,5]\n",
        "print(lst)\n",
        "\n",
        "lst[1]=\"Krish\"\n",
        "print(lst)"
      ],
      "metadata": {
        "id": "uSTk1OMQl9Wm",
        "colab": {
          "base_uri": "https://localhost:8080/"
        },
        "outputId": "5ac1bec3-571a-4779-994f-343f63fc3d24"
      },
      "execution_count": 29,
      "outputs": [
        {
          "output_type": "stream",
          "name": "stdout",
          "text": [
            "[1, 2, 3, 4, 5]\n",
            "[1, 'Krish', 3, 4, 5]\n"
          ]
        }
      ]
    },
    {
      "cell_type": "code",
      "source": [
        "numbers[1] = 6"
      ],
      "metadata": {
        "colab": {
          "base_uri": "https://localhost:8080/",
          "height": 148
        },
        "id": "4t_XOLLutoHi",
        "outputId": "17438d8a-ba6d-436c-d36a-16162c6b057b"
      },
      "execution_count": 30,
      "outputs": [
        {
          "output_type": "error",
          "ename": "TypeError",
          "evalue": "'tuple' object does not support item assignment",
          "traceback": [
            "\u001b[0;31m---------------------------------------------------------------------------\u001b[0m",
            "\u001b[0;31mTypeError\u001b[0m                                 Traceback (most recent call last)",
            "\u001b[0;32m/tmp/ipython-input-1676683664.py\u001b[0m in \u001b[0;36m<cell line: 0>\u001b[0;34m()\u001b[0m\n\u001b[0;32m----> 1\u001b[0;31m \u001b[0mnumbers\u001b[0m\u001b[0;34m[\u001b[0m\u001b[0;36m1\u001b[0m\u001b[0;34m]\u001b[0m \u001b[0;34m=\u001b[0m \u001b[0;36m6\u001b[0m\u001b[0;34m\u001b[0m\u001b[0;34m\u001b[0m\u001b[0m\n\u001b[0m",
            "\u001b[0;31mTypeError\u001b[0m: 'tuple' object does not support item assignment"
          ]
        }
      ]
    },
    {
      "cell_type": "code",
      "source": [
        "## Tuple Methods\n",
        "print(numbers.count(1))\n",
        "print(numbers.index(3))"
      ],
      "metadata": {
        "id": "nKoTUiaVmJt3",
        "colab": {
          "base_uri": "https://localhost:8080/"
        },
        "outputId": "8bac840a-a96a-489a-b017-79491092f616"
      },
      "execution_count": null,
      "outputs": [
        {
          "output_type": "stream",
          "name": "stdout",
          "text": [
            "1\n",
            "2\n"
          ]
        }
      ]
    },
    {
      "cell_type": "code",
      "source": [
        "## Packing and Unpacking tuple\n",
        "## packing\n",
        "packed_tuple=(1,\"Hello\",3.14)\n",
        "print(packed_tuple)"
      ],
      "metadata": {
        "id": "Cn_oobSTmJw-",
        "colab": {
          "base_uri": "https://localhost:8080/"
        },
        "outputId": "a1d074ed-29af-4d21-96b0-15128a2d9af6"
      },
      "execution_count": 32,
      "outputs": [
        {
          "output_type": "stream",
          "name": "stdout",
          "text": [
            "(1, 'Hello', 3.14)\n"
          ]
        }
      ]
    },
    {
      "cell_type": "code",
      "source": [
        "##unpacking a tuple\n",
        "a,b,c=packed_tuple\n",
        "\n",
        "print(a)\n",
        "print(b)\n",
        "print(c)"
      ],
      "metadata": {
        "id": "Lla_gvBGmJzp",
        "colab": {
          "base_uri": "https://localhost:8080/"
        },
        "outputId": "cba43a9b-5752-46eb-b682-4ac979b8dd62"
      },
      "execution_count": 33,
      "outputs": [
        {
          "output_type": "stream",
          "name": "stdout",
          "text": [
            "1\n",
            "Hello\n",
            "3.14\n"
          ]
        }
      ]
    },
    {
      "cell_type": "code",
      "source": [
        "## Unpacking with *\n",
        "numbers=(1,2,3,4,5,6)\n",
        "first,*middle,last=numbers\n",
        "print(first)\n",
        "print(middle)\n",
        "print(last)"
      ],
      "metadata": {
        "id": "CriIzldRmJ2O",
        "colab": {
          "base_uri": "https://localhost:8080/"
        },
        "outputId": "c2b0c904-189f-47c1-cd2f-ae287c538bf9"
      },
      "execution_count": 36,
      "outputs": [
        {
          "output_type": "stream",
          "name": "stdout",
          "text": [
            "1\n",
            "[2, 3, 4, 5]\n",
            "6\n"
          ]
        }
      ]
    },
    {
      "cell_type": "code",
      "source": [
        "## Nested Tuple\n",
        "## Nested List\n",
        "lst=[[1,2,3,4],[6,7,8,9],[1,\"Hello\",3.14,\"c\"]]\n",
        "lst[1][:3]"
      ],
      "metadata": {
        "id": "njHp1eWAmJ45",
        "colab": {
          "base_uri": "https://localhost:8080/"
        },
        "outputId": "e15e6527-8c9a-4fc9-fe5e-5609c01fc272"
      },
      "execution_count": 39,
      "outputs": [
        {
          "output_type": "execute_result",
          "data": {
            "text/plain": [
              "[6, 7, 8]"
            ]
          },
          "metadata": {},
          "execution_count": 39
        }
      ]
    },
    {
      "cell_type": "code",
      "source": [
        "nested_tuple = ((1, 2, 3), (\"a\", \"b\", \"c\"), (True, False))\n",
        "\n",
        "## access the elements inside a tuple\n",
        "print(nested_tuple[0])\n",
        "print(nested_tuple[1][2])"
      ],
      "metadata": {
        "id": "1VLmLgjImJ7d"
      },
      "execution_count": null,
      "outputs": []
    },
    {
      "cell_type": "markdown",
      "source": [
        "# Sets"
      ],
      "metadata": {
        "id": "hMpLyEtZmjkQ"
      }
    },
    {
      "cell_type": "code",
      "source": [
        "##create a set\n",
        "my_set={1,2,3,4,5} # if empty its a dict\n",
        "print(my_set)\n",
        "print(type(my_set))"
      ],
      "metadata": {
        "id": "mTCPzhQwmlWW",
        "colab": {
          "base_uri": "https://localhost:8080/"
        },
        "outputId": "2d5220f6-edbd-4700-9285-e6b3e667fc46"
      },
      "execution_count": 40,
      "outputs": [
        {
          "output_type": "stream",
          "name": "stdout",
          "text": [
            "{1, 2, 3, 4, 5}\n",
            "<class 'set'>\n"
          ]
        }
      ]
    },
    {
      "cell_type": "code",
      "source": [
        "my_set=set([1,2,3,4,5,6])\n",
        "print(my_set)"
      ],
      "metadata": {
        "id": "zB7RuUxHoHM2",
        "colab": {
          "base_uri": "https://localhost:8080/"
        },
        "outputId": "27e17108-3231-4631-d8df-a6e87e462612"
      },
      "execution_count": 41,
      "outputs": [
        {
          "output_type": "stream",
          "name": "stdout",
          "text": [
            "{1, 2, 3, 4, 5, 6}\n"
          ]
        }
      ]
    },
    {
      "cell_type": "code",
      "source": [
        "my_empty_set=set([1,2,3,6,5,4,5,6]) # Contains unique values\n",
        "print(my_empty_set)"
      ],
      "metadata": {
        "id": "y0xlFQ7FoHQA",
        "colab": {
          "base_uri": "https://localhost:8080/"
        },
        "outputId": "c8758191-11af-4c9f-f31e-cb4cdbbe55c4"
      },
      "execution_count": 42,
      "outputs": [
        {
          "output_type": "stream",
          "name": "stdout",
          "text": [
            "{1, 2, 3, 4, 5, 6}\n"
          ]
        }
      ]
    },
    {
      "cell_type": "code",
      "source": [
        "## Basics Sets Operation\n",
        "## Adiing and Removing Elements\n",
        "my_set.add(7)\n",
        "print(my_set)\n",
        "my_set.add(7)\n",
        "print(my_set)"
      ],
      "metadata": {
        "id": "6n-5r1utoHSz",
        "colab": {
          "base_uri": "https://localhost:8080/"
        },
        "outputId": "b0f27606-0c2e-49db-d4d5-7a553fd9bda3"
      },
      "execution_count": 43,
      "outputs": [
        {
          "output_type": "stream",
          "name": "stdout",
          "text": [
            "{1, 2, 3, 4, 5, 6, 7}\n",
            "{1, 2, 3, 4, 5, 6, 7}\n"
          ]
        }
      ]
    },
    {
      "cell_type": "code",
      "source": [
        "## Remove the elements from a set\n",
        "my_set.remove(8)\n",
        "print(my_set)"
      ],
      "metadata": {
        "id": "1W-DzXgWoHWa",
        "colab": {
          "base_uri": "https://localhost:8080/",
          "height": 185
        },
        "outputId": "7d602b10-1339-4801-83b8-e9a2bdb1153c"
      },
      "execution_count": 45,
      "outputs": [
        {
          "output_type": "error",
          "ename": "KeyError",
          "evalue": "8",
          "traceback": [
            "\u001b[0;31m---------------------------------------------------------------------------\u001b[0m",
            "\u001b[0;31mKeyError\u001b[0m                                  Traceback (most recent call last)",
            "\u001b[0;32m/tmp/ipython-input-3900781709.py\u001b[0m in \u001b[0;36m<cell line: 0>\u001b[0;34m()\u001b[0m\n\u001b[1;32m      1\u001b[0m \u001b[0;31m## Remove the elements from a set\u001b[0m\u001b[0;34m\u001b[0m\u001b[0;34m\u001b[0m\u001b[0m\n\u001b[0;32m----> 2\u001b[0;31m \u001b[0mmy_set\u001b[0m\u001b[0;34m.\u001b[0m\u001b[0mremove\u001b[0m\u001b[0;34m(\u001b[0m\u001b[0;36m8\u001b[0m\u001b[0;34m)\u001b[0m\u001b[0;34m\u001b[0m\u001b[0;34m\u001b[0m\u001b[0m\n\u001b[0m\u001b[1;32m      3\u001b[0m \u001b[0mprint\u001b[0m\u001b[0;34m(\u001b[0m\u001b[0mmy_set\u001b[0m\u001b[0;34m)\u001b[0m\u001b[0;34m\u001b[0m\u001b[0;34m\u001b[0m\u001b[0m\n",
            "\u001b[0;31mKeyError\u001b[0m: 8"
          ]
        }
      ]
    },
    {
      "cell_type": "code",
      "source": [
        "my_set.discard(9)\n",
        "print(my_set)"
      ],
      "metadata": {
        "id": "B7N9ezA6oHsw",
        "colab": {
          "base_uri": "https://localhost:8080/"
        },
        "outputId": "ef7e9f76-97ff-4022-efb5-347bc571919f"
      },
      "execution_count": 47,
      "outputs": [
        {
          "output_type": "stream",
          "name": "stdout",
          "text": [
            "{1, 2, 3, 4, 5}\n"
          ]
        }
      ]
    },
    {
      "cell_type": "code",
      "source": [
        "## Set Memebership test\n",
        "# In Python, the set membership test is used to check if an element is present in a set. You can do this using the in and not in operators\n",
        "\n",
        "my_set={1,2,3,4,5}\n",
        "print(3 in my_set)\n",
        "print(10 in my_set)"
      ],
      "metadata": {
        "id": "7DrD1_ZsoYhB",
        "colab": {
          "base_uri": "https://localhost:8080/"
        },
        "outputId": "4d1a3c40-48a9-4c89-eb9c-9164571d7ef9"
      },
      "execution_count": null,
      "outputs": [
        {
          "output_type": "stream",
          "name": "stdout",
          "text": [
            "True\n",
            "False\n"
          ]
        }
      ]
    },
    {
      "cell_type": "code",
      "source": [
        "# unions , intersections , difference ,symmetric difference"
      ],
      "metadata": {
        "id": "MJ9SzMZvoYj7"
      },
      "execution_count": null,
      "outputs": []
    },
    {
      "cell_type": "code",
      "source": [
        "### Counting Unique words in text\n",
        "text=\"In this tutorial we are discussing about sets this we are\"\n",
        "words = text.split()\n",
        "print(words)\n",
        "unique = set(words)\n",
        "print(unique)\n",
        "print(len(unique))\n"
      ],
      "metadata": {
        "id": "auHtWAAYoYmw",
        "colab": {
          "base_uri": "https://localhost:8080/"
        },
        "outputId": "d45983ff-9a79-4111-d1f8-e9a7c3d72d77"
      },
      "execution_count": 53,
      "outputs": [
        {
          "output_type": "stream",
          "name": "stdout",
          "text": [
            "['In', 'this', 'tutorial', 'we', 'are', 'discussing', 'about', 'sets', 'this', 'we', 'are']\n",
            "{'this', 'discussing', 'are', 'sets', 'In', 'we', 'tutorial', 'about'}\n",
            "8\n"
          ]
        }
      ]
    },
    {
      "cell_type": "code",
      "source": [],
      "metadata": {
        "id": "me-63e2FoYpG"
      },
      "execution_count": null,
      "outputs": []
    },
    {
      "cell_type": "code",
      "source": [],
      "metadata": {
        "id": "i3LNsynkoYsk"
      },
      "execution_count": null,
      "outputs": []
    }
  ]
}