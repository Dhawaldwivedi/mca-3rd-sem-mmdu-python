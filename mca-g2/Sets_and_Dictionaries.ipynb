{
  "nbformat": 4,
  "nbformat_minor": 0,
  "metadata": {
    "colab": {
      "provenance": [],
      "authorship_tag": "ABX9TyOWPMNGr0KV9nFDIUi4o4i2",
      "include_colab_link": true
    },
    "kernelspec": {
      "name": "python3",
      "display_name": "Python 3"
    },
    "language_info": {
      "name": "python"
    }
  },
  "cells": [
    {
      "cell_type": "markdown",
      "metadata": {
        "id": "view-in-github",
        "colab_type": "text"
      },
      "source": [
        "<a href=\"https://colab.research.google.com/github/Dhawaldwivedi/mca-3rd-sem-mmdu-python/blob/main/mca-g2/Sets_and_Dictionaries.ipynb\" target=\"_parent\"><img src=\"https://colab.research.google.com/assets/colab-badge.svg\" alt=\"Open In Colab\"/></a>"
      ]
    },
    {
      "cell_type": "code",
      "execution_count": null,
      "metadata": {
        "id": "1nnpVbMQBxiF"
      },
      "outputs": [],
      "source": []
    },
    {
      "cell_type": "markdown",
      "source": [
        "SETS - data is unordered\n",
        "    \n",
        "     - does not have duplicates ( contains unique values)\n",
        "\n",
        "\n",
        "     "
      ],
      "metadata": {
        "id": "MA-tvwVhDU6c"
      }
    },
    {
      "cell_type": "code",
      "source": [
        "# sets\n",
        "my_set = {1,2,3,4,5}\n",
        "my_set"
      ],
      "metadata": {
        "colab": {
          "base_uri": "https://localhost:8080/"
        },
        "id": "ad_EeUDjEH-z",
        "outputId": "f0951de0-bb86-44ae-8527-300c3a277869"
      },
      "execution_count": 3,
      "outputs": [
        {
          "output_type": "execute_result",
          "data": {
            "text/plain": [
              "{1, 2, 3, 4, 5}"
            ]
          },
          "metadata": {},
          "execution_count": 3
        }
      ]
    },
    {
      "cell_type": "code",
      "source": [
        "type(my_set)"
      ],
      "metadata": {
        "colab": {
          "base_uri": "https://localhost:8080/"
        },
        "id": "8BW9bTGEESHn",
        "outputId": "50f08d88-0bae-4f99-8a34-1176f8fdda0c"
      },
      "execution_count": 4,
      "outputs": [
        {
          "output_type": "execute_result",
          "data": {
            "text/plain": [
              "set"
            ]
          },
          "metadata": {},
          "execution_count": 4
        }
      ]
    },
    {
      "cell_type": "code",
      "source": [
        "s = {}\n",
        "type(s)"
      ],
      "metadata": {
        "colab": {
          "base_uri": "https://localhost:8080/"
        },
        "id": "NLcGoP2c4Hdp",
        "outputId": "b68e49b2-bc56-4ea2-8e27-5f67cfcf9307"
      },
      "execution_count": 5,
      "outputs": [
        {
          "output_type": "execute_result",
          "data": {
            "text/plain": [
              "dict"
            ]
          },
          "metadata": {},
          "execution_count": 5
        }
      ]
    },
    {
      "cell_type": "code",
      "source": [
        "my_set2 = set()\n",
        "my_set2\n"
      ],
      "metadata": {
        "colab": {
          "base_uri": "https://localhost:8080/"
        },
        "id": "MzR85AyEEXlG",
        "outputId": "f956b1b4-bbb0-4b22-ce86-69da73dc6408"
      },
      "execution_count": 6,
      "outputs": [
        {
          "output_type": "execute_result",
          "data": {
            "text/plain": [
              "set()"
            ]
          },
          "metadata": {},
          "execution_count": 6
        }
      ]
    },
    {
      "cell_type": "code",
      "source": [
        "my_set2 = set([1,2,34])\n",
        "my_set2"
      ],
      "metadata": {
        "id": "xahSInPuEepM"
      },
      "execution_count": null,
      "outputs": []
    },
    {
      "cell_type": "code",
      "source": [
        "my_set2 = {1,5,7,2,3,4,4,3,7,8}\n",
        "my_set2"
      ],
      "metadata": {
        "colab": {
          "base_uri": "https://localhost:8080/"
        },
        "id": "okadUjDNEr2C",
        "outputId": "bef5ea53-e067-4481-c94c-da8fb8fcbe35"
      },
      "execution_count": 7,
      "outputs": [
        {
          "output_type": "execute_result",
          "data": {
            "text/plain": [
              "{1, 2, 3, 4, 5, 7, 8}"
            ]
          },
          "metadata": {},
          "execution_count": 7
        }
      ]
    },
    {
      "cell_type": "code",
      "source": [
        "my_set"
      ],
      "metadata": {
        "colab": {
          "base_uri": "https://localhost:8080/"
        },
        "id": "nKZWabq2FcQx",
        "outputId": "254e5ad2-f07b-43e1-c47d-67decdd22592"
      },
      "execution_count": 8,
      "outputs": [
        {
          "output_type": "execute_result",
          "data": {
            "text/plain": [
              "{1, 2, 3, 4, 5}"
            ]
          },
          "metadata": {},
          "execution_count": 8
        }
      ]
    },
    {
      "cell_type": "code",
      "source": [
        "# add an element\n",
        "my_set.add(7)\n",
        "my_set"
      ],
      "metadata": {
        "colab": {
          "base_uri": "https://localhost:8080/"
        },
        "id": "4vzYEgVRGck4",
        "outputId": "8131f805-e5b9-47c8-8b2f-d9aec298d28c"
      },
      "execution_count": 9,
      "outputs": [
        {
          "output_type": "execute_result",
          "data": {
            "text/plain": [
              "{1, 2, 3, 4, 5, 7}"
            ]
          },
          "metadata": {},
          "execution_count": 9
        }
      ]
    },
    {
      "cell_type": "code",
      "source": [
        "my_set.add(7)\n",
        "my_set"
      ],
      "metadata": {
        "colab": {
          "base_uri": "https://localhost:8080/"
        },
        "id": "P-VfctQbGiY3",
        "outputId": "155ca409-0cdf-43bd-fc37-cb237c5a8bd8"
      },
      "execution_count": 10,
      "outputs": [
        {
          "output_type": "execute_result",
          "data": {
            "text/plain": [
              "{1, 2, 3, 4, 5, 7}"
            ]
          },
          "metadata": {},
          "execution_count": 10
        }
      ]
    },
    {
      "cell_type": "code",
      "source": [
        "# remove function\n",
        "my_set.remove(7)\n",
        "my_set"
      ],
      "metadata": {
        "colab": {
          "base_uri": "https://localhost:8080/"
        },
        "id": "XSTw9meqGm2V",
        "outputId": "d418aa02-0cdc-4c01-8c41-10381427fb33"
      },
      "execution_count": 11,
      "outputs": [
        {
          "output_type": "execute_result",
          "data": {
            "text/plain": [
              "{1, 2, 3, 4, 5}"
            ]
          },
          "metadata": {},
          "execution_count": 11
        }
      ]
    },
    {
      "cell_type": "code",
      "source": [
        "my_set.remove(0)"
      ],
      "metadata": {
        "colab": {
          "base_uri": "https://localhost:8080/",
          "height": 148
        },
        "id": "J9BYyMTGGyrW",
        "outputId": "ad0e3794-6b6b-4c3f-c872-2bcf0b65d9ad"
      },
      "execution_count": 12,
      "outputs": [
        {
          "output_type": "error",
          "ename": "KeyError",
          "evalue": "0",
          "traceback": [
            "\u001b[0;31m---------------------------------------------------------------------------\u001b[0m",
            "\u001b[0;31mKeyError\u001b[0m                                  Traceback (most recent call last)",
            "\u001b[0;32m/tmp/ipython-input-547273241.py\u001b[0m in \u001b[0;36m<cell line: 0>\u001b[0;34m()\u001b[0m\n\u001b[0;32m----> 1\u001b[0;31m \u001b[0mmy_set\u001b[0m\u001b[0;34m.\u001b[0m\u001b[0mremove\u001b[0m\u001b[0;34m(\u001b[0m\u001b[0;36m0\u001b[0m\u001b[0;34m)\u001b[0m\u001b[0;34m\u001b[0m\u001b[0;34m\u001b[0m\u001b[0m\n\u001b[0m",
            "\u001b[0;31mKeyError\u001b[0m: 0"
          ]
        }
      ]
    },
    {
      "cell_type": "code",
      "source": [
        "# discard\n",
        "my_set.discard(9)\n",
        "my_set"
      ],
      "metadata": {
        "id": "n1yIXi9iG3Qr",
        "colab": {
          "base_uri": "https://localhost:8080/"
        },
        "outputId": "b7d9a466-b23d-423e-cb14-96eaf395b545"
      },
      "execution_count": 14,
      "outputs": [
        {
          "output_type": "execute_result",
          "data": {
            "text/plain": [
              "{1, 2, 4, 5}"
            ]
          },
          "metadata": {},
          "execution_count": 14
        }
      ]
    },
    {
      "cell_type": "code",
      "source": [
        "my_set.discard(10)\n",
        "my_set"
      ],
      "metadata": {
        "id": "7grCNAdjHEsq",
        "colab": {
          "base_uri": "https://localhost:8080/"
        },
        "outputId": "779f6f98-186d-47ba-e818-8c71001e26de"
      },
      "execution_count": 15,
      "outputs": [
        {
          "output_type": "execute_result",
          "data": {
            "text/plain": [
              "{1, 2, 4, 5}"
            ]
          },
          "metadata": {},
          "execution_count": 15
        }
      ]
    },
    {
      "cell_type": "code",
      "source": [
        "# pop function\n",
        "my_set.pop()\n",
        "my_set"
      ],
      "metadata": {
        "id": "ulAzmFFpHZIQ",
        "colab": {
          "base_uri": "https://localhost:8080/"
        },
        "outputId": "2f057523-1623-4b21-887c-a28b3f388cd7"
      },
      "execution_count": 16,
      "outputs": [
        {
          "output_type": "execute_result",
          "data": {
            "text/plain": [
              "{2, 4, 5}"
            ]
          },
          "metadata": {},
          "execution_count": 16
        }
      ]
    },
    {
      "cell_type": "code",
      "source": [
        "#clear\n",
        "my_set.clear()\n",
        "my_set"
      ],
      "metadata": {
        "id": "5Vrex8fVIHZK",
        "colab": {
          "base_uri": "https://localhost:8080/"
        },
        "outputId": "de238263-8b89-4825-b08c-afcef6829a25"
      },
      "execution_count": 17,
      "outputs": [
        {
          "output_type": "execute_result",
          "data": {
            "text/plain": [
              "set()"
            ]
          },
          "metadata": {},
          "execution_count": 17
        }
      ]
    },
    {
      "cell_type": "code",
      "source": [
        "# set membership test\n",
        "my_set = {1,2,3,4,5}\n",
        "my_set"
      ],
      "metadata": {
        "id": "9Wmu08RoIhXP",
        "colab": {
          "base_uri": "https://localhost:8080/"
        },
        "outputId": "4af2ee99-4354-4388-d39b-a3b83bfd8228"
      },
      "execution_count": 18,
      "outputs": [
        {
          "output_type": "execute_result",
          "data": {
            "text/plain": [
              "{1, 2, 3, 4, 5}"
            ]
          },
          "metadata": {},
          "execution_count": 18
        }
      ]
    },
    {
      "cell_type": "code",
      "source": [
        "print(3 in my_set)"
      ],
      "metadata": {
        "id": "MFhcndhoIthe",
        "colab": {
          "base_uri": "https://localhost:8080/"
        },
        "outputId": "b0be430e-fdd6-46dd-9193-91ec5fedf361"
      },
      "execution_count": 19,
      "outputs": [
        {
          "output_type": "stream",
          "name": "stdout",
          "text": [
            "True\n"
          ]
        }
      ]
    },
    {
      "cell_type": "code",
      "source": [
        "print(8 in my_set)"
      ],
      "metadata": {
        "id": "du7JAINzIyJ-",
        "colab": {
          "base_uri": "https://localhost:8080/"
        },
        "outputId": "e9fbcdda-ad46-419a-fdf5-307452f3e276"
      },
      "execution_count": 20,
      "outputs": [
        {
          "output_type": "stream",
          "name": "stdout",
          "text": [
            "False\n"
          ]
        }
      ]
    },
    {
      "cell_type": "code",
      "source": [
        "# mathematical operations\n",
        "set1 = {1,2,3,4,5}\n",
        "set2 ={4,5,6,7,8,9}\n"
      ],
      "metadata": {
        "id": "tAcKJ4daI0fn"
      },
      "execution_count": 22,
      "outputs": []
    },
    {
      "cell_type": "code",
      "source": [
        "# union\n",
        "union_set = set1.union(set2)\n",
        "union_set"
      ],
      "metadata": {
        "id": "G9dmLc0hJHyN",
        "colab": {
          "base_uri": "https://localhost:8080/"
        },
        "outputId": "c9a2a721-68d8-4dc2-b073-2a4369654929"
      },
      "execution_count": 23,
      "outputs": [
        {
          "output_type": "execute_result",
          "data": {
            "text/plain": [
              "{1, 2, 3, 4, 5, 6, 7, 8, 9}"
            ]
          },
          "metadata": {},
          "execution_count": 23
        }
      ]
    },
    {
      "cell_type": "code",
      "source": [
        "# intersection\n",
        "intersection_set = set1.intersection(set2)\n",
        "intersection_set\n"
      ],
      "metadata": {
        "id": "2heuP_49JaqT",
        "colab": {
          "base_uri": "https://localhost:8080/"
        },
        "outputId": "215d9608-5646-4fe3-8d8f-b023725128a4"
      },
      "execution_count": 24,
      "outputs": [
        {
          "output_type": "execute_result",
          "data": {
            "text/plain": [
              "{4, 5}"
            ]
          },
          "metadata": {},
          "execution_count": 24
        }
      ]
    },
    {
      "cell_type": "code",
      "source": [
        "# difference\n",
        "set1 = {1,2,3,4,5,6}\n",
        "set2 = {4,5,6,7,8,9}\n",
        "\n",
        "diff_set = set1.difference(set2)\n",
        "diff_set\n",
        "# returns elements of set1 which are not present in set 2"
      ],
      "metadata": {
        "id": "xm6olaB5Ju_3",
        "colab": {
          "base_uri": "https://localhost:8080/"
        },
        "outputId": "b96dd903-6023-443f-a0a6-24aac2691892"
      },
      "execution_count": 25,
      "outputs": [
        {
          "output_type": "execute_result",
          "data": {
            "text/plain": [
              "{1, 2, 3}"
            ]
          },
          "metadata": {},
          "execution_count": 25
        }
      ]
    },
    {
      "cell_type": "code",
      "source": [
        "# returns elements of set2 which are not present in set 1\n",
        "diff_set2 = set2.difference(set1)\n",
        "diff_set2"
      ],
      "metadata": {
        "id": "wvKCj1lpKahm",
        "colab": {
          "base_uri": "https://localhost:8080/"
        },
        "outputId": "45fd15cc-c84f-440e-f4d7-f5e2e23bae75"
      },
      "execution_count": 26,
      "outputs": [
        {
          "output_type": "execute_result",
          "data": {
            "text/plain": [
              "{7, 8, 9}"
            ]
          },
          "metadata": {},
          "execution_count": 26
        }
      ]
    },
    {
      "cell_type": "code",
      "source": [
        "# symmetric difference\n",
        "sym_diff = set1.symmetric_difference(set2)\n",
        "sym_diff"
      ],
      "metadata": {
        "id": "Vxsva6tLKqIJ",
        "colab": {
          "base_uri": "https://localhost:8080/"
        },
        "outputId": "48f458a6-9320-475a-b449-42993e2f59bd"
      },
      "execution_count": 27,
      "outputs": [
        {
          "output_type": "execute_result",
          "data": {
            "text/plain": [
              "{1, 2, 3, 7, 8, 9}"
            ]
          },
          "metadata": {},
          "execution_count": 27
        }
      ]
    },
    {
      "cell_type": "code",
      "source": [
        "# union - intersection = symmetric difference"
      ],
      "metadata": {
        "id": "eAjY1usuLRZB"
      },
      "execution_count": null,
      "outputs": []
    },
    {
      "cell_type": "code",
      "source": [
        "# set methods - subset , superset\n",
        "set1 = {1,2,3,4,5}\n",
        "set2 = {3,4,5}\n",
        "set2.issubset(set1)\n",
        "\n",
        "\n"
      ],
      "metadata": {
        "id": "PDv4H6YaLrfb",
        "colab": {
          "base_uri": "https://localhost:8080/"
        },
        "outputId": "353828e5-f8b9-43d6-ca61-f7934b4de4d1"
      },
      "execution_count": 28,
      "outputs": [
        {
          "output_type": "execute_result",
          "data": {
            "text/plain": [
              "True"
            ]
          },
          "metadata": {},
          "execution_count": 28
        }
      ]
    },
    {
      "cell_type": "code",
      "source": [
        "set1.issuperset(set2)\n"
      ],
      "metadata": {
        "colab": {
          "base_uri": "https://localhost:8080/"
        },
        "id": "RrhGXxW7M4JO",
        "outputId": "9f873c39-6b84-439c-8585-11b81c67cf03"
      },
      "execution_count": 29,
      "outputs": [
        {
          "output_type": "execute_result",
          "data": {
            "text/plain": [
              "True"
            ]
          },
          "metadata": {},
          "execution_count": 29
        }
      ]
    },
    {
      "cell_type": "code",
      "source": [
        "lst= [2,5,4,6,7,8,8,6,7,4]\n",
        "print(lst)\n",
        "set1 = set(lst)\n",
        "print(set1)"
      ],
      "metadata": {
        "id": "pZhPo0HFNEmg",
        "colab": {
          "base_uri": "https://localhost:8080/"
        },
        "outputId": "3ac66ad3-644a-44e5-cb61-6740d8a91152"
      },
      "execution_count": 30,
      "outputs": [
        {
          "output_type": "stream",
          "name": "stdout",
          "text": [
            "[2, 5, 4, 6, 7, 8, 8, 6, 7, 4]\n",
            "{2, 4, 5, 6, 7, 8}\n"
          ]
        }
      ]
    },
    {
      "cell_type": "code",
      "source": [
        "# count the unique words in this text\n",
        "text = \" hi everyone i am from gfg data science , data analytics , data engineering , i am teaching in this batch , thanks everyone\"\n",
        "text"
      ],
      "metadata": {
        "colab": {
          "base_uri": "https://localhost:8080/",
          "height": 36
        },
        "id": "LY2aIXU5Nk2P",
        "outputId": "2aa17f49-e877-4c85-d98d-a55e5cc5c67a"
      },
      "execution_count": 32,
      "outputs": [
        {
          "output_type": "execute_result",
          "data": {
            "text/plain": [
              "' hi everyone i am from gfg data science , data analytics , data engineering , i am teaching in this batch , thanks everyone'"
            ],
            "application/vnd.google.colaboratory.intrinsic+json": {
              "type": "string"
            }
          },
          "metadata": {},
          "execution_count": 32
        }
      ]
    },
    {
      "cell_type": "code",
      "source": [
        "unique = set(text)\n",
        "print(unique)\n",
        "print(len(unique))"
      ],
      "metadata": {
        "id": "dNyszVzMOrua",
        "colab": {
          "base_uri": "https://localhost:8080/"
        },
        "outputId": "11611b95-ef3b-4126-c0a5-13ade534dd75"
      },
      "execution_count": 34,
      "outputs": [
        {
          "output_type": "stream",
          "name": "stdout",
          "text": [
            "{'a', 'i', 'l', ' ', ',', 'g', 'f', 'h', 'r', 'm', 'o', 'n', 'y', 'b', 'k', 'c', 'v', 'd', 'e', 't', 's'}\n",
            "21\n"
          ]
        }
      ]
    },
    {
      "cell_type": "code",
      "source": [
        "words = text.split()\n",
        "print(words)\n",
        "print(len(words))"
      ],
      "metadata": {
        "colab": {
          "base_uri": "https://localhost:8080/"
        },
        "id": "WLFA-AFdHiy_",
        "outputId": "133b81bd-b4ea-4acc-c2b5-609a0567d5f7"
      },
      "execution_count": 36,
      "outputs": [
        {
          "output_type": "stream",
          "name": "stdout",
          "text": [
            "['hi', 'everyone', 'i', 'am', 'from', 'gfg', 'data', 'science', ',', 'data', 'analytics', ',', 'data', 'engineering', ',', 'i', 'am', 'teaching', 'in', 'this', 'batch', ',', 'thanks', 'everyone']\n",
            "24\n"
          ]
        }
      ]
    },
    {
      "cell_type": "code",
      "source": [
        "uni = set(words)\n",
        "print(uni)\n",
        "print(len(uni))"
      ],
      "metadata": {
        "colab": {
          "base_uri": "https://localhost:8080/"
        },
        "id": "pVtdeHepHi1_",
        "outputId": "01c1181e-c16f-4e76-dd5c-e270a134e337"
      },
      "execution_count": 37,
      "outputs": [
        {
          "output_type": "stream",
          "name": "stdout",
          "text": [
            "{'thanks', 'i', 'data', 'batch', 'in', 'hi', 'science', 'analytics', 'engineering', 'everyone', 'am', 'this', 'from', ',', 'gfg', 'teaching'}\n",
            "16\n"
          ]
        }
      ]
    },
    {
      "cell_type": "code",
      "source": [],
      "metadata": {
        "id": "zFxtB9ltHi5H"
      },
      "execution_count": null,
      "outputs": []
    },
    {
      "cell_type": "code",
      "source": [],
      "metadata": {
        "id": "NYHarumAHi8n"
      },
      "execution_count": null,
      "outputs": []
    },
    {
      "cell_type": "code",
      "source": [],
      "metadata": {
        "id": "T4PF8hSOPdnp"
      },
      "execution_count": null,
      "outputs": []
    },
    {
      "cell_type": "code",
      "source": [],
      "metadata": {
        "id": "8aVxCx0DRMpV"
      },
      "execution_count": null,
      "outputs": []
    },
    {
      "cell_type": "markdown",
      "source": [
        "DICTIONARIES\n",
        "\n",
        "- variables ,lists\n",
        "- roll_no = [1,2,3,4,5] list1\n",
        "- name = [\"amit\",\"harsh\",\"dhawal\",\"gfg\",\"gfg2.0\"] list2"
      ],
      "metadata": {
        "id": "aQVZT1MpSO7x"
      }
    },
    {
      "cell_type": "code",
      "source": [
        "# dictionaries - key,value\n",
        "my_dict = {1:\"amit\",2:\"harsh\",3:\"dhawal\",4:\"gfg\",5:\"gfg2.0\"}\n",
        "print(my_dict)\n",
        "print(type(my_dict))\n"
      ],
      "metadata": {
        "colab": {
          "base_uri": "https://localhost:8080/"
        },
        "id": "t6OhtxtgSA8H",
        "outputId": "c73c98b4-5477-49be-f66e-46ebc6750a89"
      },
      "execution_count": 38,
      "outputs": [
        {
          "output_type": "stream",
          "name": "stdout",
          "text": [
            "{1: 'amit', 2: 'harsh', 3: 'dhawal', 4: 'gfg', 5: 'gfg2.0'}\n",
            "<class 'dict'>\n"
          ]
        }
      ]
    },
    {
      "cell_type": "code",
      "source": [
        "my_dict = {2,3,4,5,7}\n",
        "type(my_dict)"
      ],
      "metadata": {
        "colab": {
          "base_uri": "https://localhost:8080/"
        },
        "id": "x0V_wJVGTjHp",
        "outputId": "2cf5640f-0eca-4c9f-e986-fe7366e0e412"
      },
      "execution_count": 39,
      "outputs": [
        {
          "output_type": "execute_result",
          "data": {
            "text/plain": [
              "set"
            ]
          },
          "metadata": {},
          "execution_count": 39
        }
      ]
    },
    {
      "cell_type": "code",
      "source": [
        "student = {\"name\":\"gfg\",\"age\":34,\"marks\":88,\"name\":\"Dhawal\"}\n",
        "student"
      ],
      "metadata": {
        "colab": {
          "base_uri": "https://localhost:8080/"
        },
        "id": "GWwQQhMtTyJN",
        "outputId": "c42e320f-3d93-4486-e211-61d26a6bba56"
      },
      "execution_count": 40,
      "outputs": [
        {
          "output_type": "execute_result",
          "data": {
            "text/plain": [
              "{'name': 'Dhawal', 'age': 34, 'marks': 88}"
            ]
          },
          "metadata": {},
          "execution_count": 40
        }
      ]
    },
    {
      "cell_type": "code",
      "source": [
        "# accesing the elements\n",
        "student[34]"
      ],
      "metadata": {
        "colab": {
          "base_uri": "https://localhost:8080/",
          "height": 166
        },
        "id": "2k5G30BhUiRd",
        "outputId": "d3ee8483-6a1b-44e5-e00b-258ad9454818"
      },
      "execution_count": 43,
      "outputs": [
        {
          "output_type": "error",
          "ename": "KeyError",
          "evalue": "34",
          "traceback": [
            "\u001b[0;31m---------------------------------------------------------------------------\u001b[0m",
            "\u001b[0;31mKeyError\u001b[0m                                  Traceback (most recent call last)",
            "\u001b[0;32m/tmp/ipython-input-2866791400.py\u001b[0m in \u001b[0;36m<cell line: 0>\u001b[0;34m()\u001b[0m\n\u001b[1;32m      1\u001b[0m \u001b[0;31m# accesing the elements\u001b[0m\u001b[0;34m\u001b[0m\u001b[0;34m\u001b[0m\u001b[0m\n\u001b[0;32m----> 2\u001b[0;31m \u001b[0mstudent\u001b[0m\u001b[0;34m[\u001b[0m\u001b[0;36m34\u001b[0m\u001b[0;34m]\u001b[0m\u001b[0;34m\u001b[0m\u001b[0;34m\u001b[0m\u001b[0m\n\u001b[0m",
            "\u001b[0;31mKeyError\u001b[0m: 34"
          ]
        }
      ]
    },
    {
      "cell_type": "code",
      "source": [],
      "metadata": {
        "id": "D-qedfqxU_uS"
      },
      "execution_count": null,
      "outputs": []
    },
    {
      "cell_type": "code",
      "source": [
        "# get method\n",
        "student.get('name','Not present')"
      ],
      "metadata": {
        "id": "Ld9MvHUgVZ_4",
        "colab": {
          "base_uri": "https://localhost:8080/",
          "height": 36
        },
        "outputId": "84fd4d4a-950f-45b0-e030-045420b2a8e6"
      },
      "execution_count": 48,
      "outputs": [
        {
          "output_type": "execute_result",
          "data": {
            "text/plain": [
              "'Dhawal'"
            ],
            "application/vnd.google.colaboratory.intrinsic+json": {
              "type": "string"
            }
          },
          "metadata": {},
          "execution_count": 48
        }
      ]
    },
    {
      "cell_type": "code",
      "source": [
        "student.get(\"grade\")"
      ],
      "metadata": {
        "id": "gyRTokKfWBq3"
      },
      "execution_count": null,
      "outputs": []
    },
    {
      "cell_type": "code",
      "source": [
        " # default value\n"
      ],
      "metadata": {
        "id": "yHAukFVZWElE"
      },
      "execution_count": null,
      "outputs": []
    },
    {
      "cell_type": "code",
      "source": [
        "student[\"name\"]=\"Ram\"\n",
        "student"
      ],
      "metadata": {
        "id": "RW0z6CcGWJTi",
        "colab": {
          "base_uri": "https://localhost:8080/"
        },
        "outputId": "6c975d6d-9378-46c8-c831-19fe26417259"
      },
      "execution_count": 49,
      "outputs": [
        {
          "output_type": "execute_result",
          "data": {
            "text/plain": [
              "{'name': 'Ram', 'age': 34, 'marks': 88}"
            ]
          },
          "metadata": {},
          "execution_count": 49
        }
      ]
    },
    {
      "cell_type": "code",
      "source": [
        "student[\"country\"]= \"India\"\n",
        "student"
      ],
      "metadata": {
        "id": "RDmXjpVhWN27",
        "colab": {
          "base_uri": "https://localhost:8080/"
        },
        "outputId": "af896cb5-858b-41ee-b471-b09fd50a1a1c"
      },
      "execution_count": 50,
      "outputs": [
        {
          "output_type": "execute_result",
          "data": {
            "text/plain": [
              "{'name': 'Ram', 'age': 34, 'marks': 88, 'country': 'India'}"
            ]
          },
          "metadata": {},
          "execution_count": 50
        }
      ]
    },
    {
      "cell_type": "code",
      "source": [
        "del student[\"country\"] # deleting key and value both\n",
        "student"
      ],
      "metadata": {
        "id": "W5qzy6svXnuR",
        "colab": {
          "base_uri": "https://localhost:8080/"
        },
        "outputId": "807c63d8-a777-4f9e-fa14-624ce32aac05"
      },
      "execution_count": 51,
      "outputs": [
        {
          "output_type": "execute_result",
          "data": {
            "text/plain": [
              "{'name': 'Ram', 'age': 34, 'marks': 88}"
            ]
          },
          "metadata": {},
          "execution_count": 51
        }
      ]
    },
    {
      "cell_type": "code",
      "source": [
        "student2 = {\"name\":\"gfg\",\"age\":34,\"marks\":88,\"age\":45}\n",
        "student2\n",
        "## dictionary methods -\n",
        "\n"
      ],
      "metadata": {
        "id": "Qh1mmUA9X89b",
        "colab": {
          "base_uri": "https://localhost:8080/"
        },
        "outputId": "4926768b-e046-4e44-9ca0-80a09e438304"
      },
      "execution_count": 52,
      "outputs": [
        {
          "output_type": "execute_result",
          "data": {
            "text/plain": [
              "{'name': 'gfg', 'age': 45, 'marks': 88}"
            ]
          },
          "metadata": {},
          "execution_count": 52
        }
      ]
    },
    {
      "cell_type": "code",
      "source": [
        "k = student2.keys()\n",
        "k"
      ],
      "metadata": {
        "colab": {
          "base_uri": "https://localhost:8080/"
        },
        "id": "yA5oNH_sq-33",
        "outputId": "3b73fa10-ac09-42c0-adc5-4779d65311ca"
      },
      "execution_count": 53,
      "outputs": [
        {
          "output_type": "execute_result",
          "data": {
            "text/plain": [
              "dict_keys(['name', 'age', 'marks'])"
            ]
          },
          "metadata": {},
          "execution_count": 53
        }
      ]
    },
    {
      "cell_type": "code",
      "source": [
        "v= student2.values()\n",
        "v"
      ],
      "metadata": {
        "colab": {
          "base_uri": "https://localhost:8080/"
        },
        "id": "XPSLgGsEq--3",
        "outputId": "db819df3-1551-4eea-a75f-a3f88eae1200"
      },
      "execution_count": 54,
      "outputs": [
        {
          "output_type": "execute_result",
          "data": {
            "text/plain": [
              "dict_values(['gfg', 45, 88])"
            ]
          },
          "metadata": {},
          "execution_count": 54
        }
      ]
    },
    {
      "cell_type": "code",
      "source": [
        "i = student2.items()\n",
        "i"
      ],
      "metadata": {
        "colab": {
          "base_uri": "https://localhost:8080/"
        },
        "id": "zyLggQcOq_JQ",
        "outputId": "90a95b71-4018-4886-c21d-96e238d9ec26"
      },
      "execution_count": 55,
      "outputs": [
        {
          "output_type": "execute_result",
          "data": {
            "text/plain": [
              "dict_items([('name', 'gfg'), ('age', 45), ('marks', 88)])"
            ]
          },
          "metadata": {},
          "execution_count": 55
        }
      ]
    },
    {
      "cell_type": "code",
      "source": [
        "# shallow copy\n",
        "student_copy= student2\n",
        "\n"
      ],
      "metadata": {
        "id": "aj1kEnC9q_Uf"
      },
      "execution_count": 56,
      "outputs": []
    },
    {
      "cell_type": "code",
      "source": [
        "student_copy"
      ],
      "metadata": {
        "colab": {
          "base_uri": "https://localhost:8080/"
        },
        "id": "0iIZzigAOPMN",
        "outputId": "88b2d8fb-c97b-4171-8c73-5b5c1bdf1932"
      },
      "execution_count": 57,
      "outputs": [
        {
          "output_type": "execute_result",
          "data": {
            "text/plain": [
              "{'name': 'gfg', 'age': 45, 'marks': 88}"
            ]
          },
          "metadata": {},
          "execution_count": 57
        }
      ]
    },
    {
      "cell_type": "code",
      "source": [
        "student2[\"name\"] = \"gfg2\"\n",
        "student2"
      ],
      "metadata": {
        "colab": {
          "base_uri": "https://localhost:8080/"
        },
        "id": "l2N9-R62OPbo",
        "outputId": "0ef2d244-86c2-4924-d8d2-b186a2abf4fa"
      },
      "execution_count": 58,
      "outputs": [
        {
          "output_type": "execute_result",
          "data": {
            "text/plain": [
              "{'name': 'gfg2', 'age': 45, 'marks': 88}"
            ]
          },
          "metadata": {},
          "execution_count": 58
        }
      ]
    },
    {
      "cell_type": "code",
      "source": [
        "student_copy"
      ],
      "metadata": {
        "colab": {
          "base_uri": "https://localhost:8080/"
        },
        "id": "-Fn5xtfxOP5A",
        "outputId": "b5f4f1f3-c42c-49a7-8f8c-83e60695e540"
      },
      "execution_count": 59,
      "outputs": [
        {
          "output_type": "execute_result",
          "data": {
            "text/plain": [
              "{'name': 'gfg2', 'age': 45, 'marks': 88}"
            ]
          },
          "metadata": {},
          "execution_count": 59
        }
      ]
    },
    {
      "cell_type": "code",
      "source": [
        "student_copy1 = student2.copy() # copy function\n",
        "student_copy1"
      ],
      "metadata": {
        "colab": {
          "base_uri": "https://localhost:8080/"
        },
        "id": "7XgguTndOmPX",
        "outputId": "fa02b88a-f5d1-4c74-e5df-083401a6b8a9"
      },
      "execution_count": 60,
      "outputs": [
        {
          "output_type": "execute_result",
          "data": {
            "text/plain": [
              "{'name': 'gfg2', 'age': 45, 'marks': 88}"
            ]
          },
          "metadata": {},
          "execution_count": 60
        }
      ]
    },
    {
      "cell_type": "code",
      "source": [
        "student2[\"name\"]= \"gfg3\"\n",
        "student2"
      ],
      "metadata": {
        "colab": {
          "base_uri": "https://localhost:8080/"
        },
        "id": "HNGpF3WMOmX2",
        "outputId": "ba8a7831-7303-4b0f-c703-675324551d15"
      },
      "execution_count": 61,
      "outputs": [
        {
          "output_type": "execute_result",
          "data": {
            "text/plain": [
              "{'name': 'gfg3', 'age': 45, 'marks': 88}"
            ]
          },
          "metadata": {},
          "execution_count": 61
        }
      ]
    },
    {
      "cell_type": "code",
      "source": [
        "student_copy1"
      ],
      "metadata": {
        "colab": {
          "base_uri": "https://localhost:8080/"
        },
        "id": "18jnfkqBOmbN",
        "outputId": "73798779-5391-4510-e4d1-13e69fcaa74b"
      },
      "execution_count": 62,
      "outputs": [
        {
          "output_type": "execute_result",
          "data": {
            "text/plain": [
              "{'name': 'gfg2', 'age': 45, 'marks': 88}"
            ]
          },
          "metadata": {},
          "execution_count": 62
        }
      ]
    },
    {
      "cell_type": "code",
      "source": [
        "student_copy"
      ],
      "metadata": {
        "colab": {
          "base_uri": "https://localhost:8080/"
        },
        "id": "ryw3_vmxPUx_",
        "outputId": "9cd33cb0-f879-47cb-d350-d1689fa14121"
      },
      "execution_count": 63,
      "outputs": [
        {
          "output_type": "execute_result",
          "data": {
            "text/plain": [
              "{'name': 'gfg3', 'age': 45, 'marks': 88}"
            ]
          },
          "metadata": {},
          "execution_count": 63
        }
      ]
    },
    {
      "cell_type": "code",
      "source": [
        "student_copy[\"name\"]= \"gfg4\"\n",
        "student_copy"
      ],
      "metadata": {
        "id": "oS5nzUMwPU-w"
      },
      "execution_count": null,
      "outputs": []
    },
    {
      "cell_type": "code",
      "source": [
        "student2"
      ],
      "metadata": {
        "id": "B51EC_XMPVEw"
      },
      "execution_count": null,
      "outputs": []
    },
    {
      "cell_type": "code",
      "source": [
        "student_copy1"
      ],
      "metadata": {
        "id": "BF1bDiojPVII"
      },
      "execution_count": null,
      "outputs": []
    },
    {
      "cell_type": "code",
      "source": [
        "# dictionary iteration\n",
        "# key iteration\n",
        "for key in student2.keys():\n",
        "  print(key)\n"
      ],
      "metadata": {
        "colab": {
          "base_uri": "https://localhost:8080/"
        },
        "id": "okozW1KuPVKc",
        "outputId": "d34b2932-62fc-4f82-b932-6bd58c9e657d"
      },
      "execution_count": 64,
      "outputs": [
        {
          "output_type": "stream",
          "name": "stdout",
          "text": [
            "name\n",
            "age\n",
            "marks\n"
          ]
        }
      ]
    },
    {
      "cell_type": "code",
      "source": [
        "# value iteration\n",
        "for value in student2.values():\n",
        "  print(value)"
      ],
      "metadata": {
        "colab": {
          "base_uri": "https://localhost:8080/"
        },
        "id": "FSJa-y_nQa4t",
        "outputId": "a2f00c81-2948-45b6-e4c3-b3d58884b6c0"
      },
      "execution_count": 65,
      "outputs": [
        {
          "output_type": "stream",
          "name": "stdout",
          "text": [
            "gfg3\n",
            "45\n",
            "88\n"
          ]
        }
      ]
    },
    {
      "cell_type": "code",
      "source": [
        "for key,value in student2.items():\n",
        "  print(f\"{key}:{value}\")"
      ],
      "metadata": {
        "colab": {
          "base_uri": "https://localhost:8080/"
        },
        "id": "UEOx5BARQa_y",
        "outputId": "682a322f-2f04-44c4-d130-e906a0bf85a1"
      },
      "execution_count": 66,
      "outputs": [
        {
          "output_type": "stream",
          "name": "stdout",
          "text": [
            "name:gfg3\n",
            "age:45\n",
            "marks:88\n"
          ]
        }
      ]
    },
    {
      "cell_type": "code",
      "source": [
        "# nested dictionaries\n",
        "students = {\n",
        "    \"student1\":{\"name\":\"gfg\",\"age\":22},\n",
        "    \"student2\":{\"name\":\"gfg2\",\"age\":44},\n",
        "    \"student3\":{\"name\":\"gfg3\",\"age\":33}\n",
        "}\n",
        "students\n"
      ],
      "metadata": {
        "colab": {
          "base_uri": "https://localhost:8080/"
        },
        "id": "chTKxjvWQbDI",
        "outputId": "10ff9fca-ddc8-47e5-8472-be0f063f50fd"
      },
      "execution_count": 67,
      "outputs": [
        {
          "output_type": "execute_result",
          "data": {
            "text/plain": [
              "{'student1': {'name': 'gfg', 'age': 22},\n",
              " 'student2': {'name': 'gfg2', 'age': 44},\n",
              " 'student3': {'name': 'gfg3', 'age': 33}}"
            ]
          },
          "metadata": {},
          "execution_count": 67
        }
      ]
    },
    {
      "cell_type": "code",
      "source": [
        "students[\"student2\"][\"name\"]"
      ],
      "metadata": {
        "colab": {
          "base_uri": "https://localhost:8080/",
          "height": 36
        },
        "id": "RAC6HyncQbGc",
        "outputId": "226dd941-db88-43be-a558-6d05ca5a3c10"
      },
      "execution_count": 68,
      "outputs": [
        {
          "output_type": "execute_result",
          "data": {
            "text/plain": [
              "'gfg2'"
            ],
            "application/vnd.google.colaboratory.intrinsic+json": {
              "type": "string"
            }
          },
          "metadata": {},
          "execution_count": 68
        }
      ]
    },
    {
      "cell_type": "code",
      "source": [
        "students[\"student3\"][\"age\"]"
      ],
      "metadata": {
        "colab": {
          "base_uri": "https://localhost:8080/"
        },
        "id": "5O8WD4r8S24I",
        "outputId": "34361231-3f36-4444-e744-1ae4cf89c6ef"
      },
      "execution_count": 69,
      "outputs": [
        {
          "output_type": "execute_result",
          "data": {
            "text/plain": [
              "33"
            ]
          },
          "metadata": {},
          "execution_count": 69
        }
      ]
    },
    {
      "cell_type": "code",
      "source": [
        "students.items()"
      ],
      "metadata": {
        "colab": {
          "base_uri": "https://localhost:8080/"
        },
        "id": "117tOn3TS27-",
        "outputId": "add38564-b3ee-4130-ba84-e072af70262b"
      },
      "execution_count": 70,
      "outputs": [
        {
          "output_type": "execute_result",
          "data": {
            "text/plain": [
              "dict_items([('student1', {'name': 'gfg', 'age': 22}), ('student2', {'name': 'gfg2', 'age': 44}), ('student3', {'name': 'gfg3', 'age': 33})])"
            ]
          },
          "metadata": {},
          "execution_count": 70
        }
      ]
    },
    {
      "cell_type": "code",
      "source": [
        "for student_id , student_info in students.items():\n",
        "  print(f\"{student_id}:{student_info}\")\n",
        "  for key,value in student_info.items():\n",
        "    print(f\"{key}:{value}\")"
      ],
      "metadata": {
        "colab": {
          "base_uri": "https://localhost:8080/"
        },
        "id": "08lIGUISS2-_",
        "outputId": "dee6a507-e38f-44e1-80f8-bcb84d049055"
      },
      "execution_count": 71,
      "outputs": [
        {
          "output_type": "stream",
          "name": "stdout",
          "text": [
            "student1:{'name': 'gfg', 'age': 22}\n",
            "name:gfg\n",
            "age:22\n",
            "student2:{'name': 'gfg2', 'age': 44}\n",
            "name:gfg2\n",
            "age:44\n",
            "student3:{'name': 'gfg3', 'age': 33}\n",
            "name:gfg3\n",
            "age:33\n"
          ]
        }
      ]
    },
    {
      "cell_type": "code",
      "source": [
        "a = [student[\"age\"] for student in students.values()]\n",
        "a"
      ],
      "metadata": {
        "colab": {
          "base_uri": "https://localhost:8080/"
        },
        "id": "VY1o3RCIVIcN",
        "outputId": "da3485d3-ba1b-43d1-95fd-0a82c0d21524"
      },
      "execution_count": 72,
      "outputs": [
        {
          "output_type": "execute_result",
          "data": {
            "text/plain": [
              "[22, 44, 33]"
            ]
          },
          "metadata": {},
          "execution_count": 72
        }
      ]
    },
    {
      "cell_type": "code",
      "source": [
        "# dictionary comprehension\n",
        "square = {x:x**2 for x in range(5)}\n",
        "square\n"
      ],
      "metadata": {
        "colab": {
          "base_uri": "https://localhost:8080/"
        },
        "id": "hgRDUctTVIfw",
        "outputId": "b8e79e26-4c23-4ee0-95fb-c331e188dd82"
      },
      "execution_count": 74,
      "outputs": [
        {
          "output_type": "execute_result",
          "data": {
            "text/plain": [
              "{0: 0, 1: 1, 2: 4, 3: 9, 4: 16}"
            ]
          },
          "metadata": {},
          "execution_count": 74
        }
      ]
    },
    {
      "cell_type": "code",
      "source": [
        "sqaure = {x:x**2 for x in range(5)}\n",
        "sqaure"
      ],
      "metadata": {
        "id": "7ZL4Btb3YAK5"
      },
      "execution_count": null,
      "outputs": []
    },
    {
      "cell_type": "code",
      "source": [
        "## count each number occurance in a list\n",
        "numbers = [1,2,2,3,3,3,4,4,4,4]\n",
        "freq = {}\n",
        "for i in numbers:    # {1:1,2:2,3:1}\n",
        "  if i in freq:\n",
        "    freq[i]+=1\n",
        "  else:\n",
        "    freq[i]=1\n",
        "\n",
        "print(freq)\n"
      ],
      "metadata": {
        "colab": {
          "base_uri": "https://localhost:8080/"
        },
        "id": "xKvS83MnYAOO",
        "outputId": "59164429-940d-48e5-ab12-5cd93921daf5"
      },
      "execution_count": 75,
      "outputs": [
        {
          "output_type": "stream",
          "name": "stdout",
          "text": [
            "{1: 1, 2: 2, 3: 3, 4: 4}\n"
          ]
        }
      ]
    },
    {
      "cell_type": "code",
      "source": [],
      "metadata": {
        "id": "-kLynUrXYAbO"
      },
      "execution_count": null,
      "outputs": []
    },
    {
      "cell_type": "code",
      "source": [],
      "metadata": {
        "id": "G-6ahwmXYAek"
      },
      "execution_count": null,
      "outputs": []
    },
    {
      "cell_type": "code",
      "source": [],
      "metadata": {
        "id": "WWVsrmZgS3Cf"
      },
      "execution_count": null,
      "outputs": []
    },
    {
      "cell_type": "markdown",
      "source": [
        "Question:\n",
        "\n",
        "You are given a list of integers representing the IDs of students who have signed up for an event, but some students have signed up multiple times by mistake. Your task is to:\n",
        "\n",
        "Remove duplicates to get the unique IDs of students who signed up. Identify students who have both signed up and attended the event (IDs are given in a separate list of attendees). Classify each student as: \"Attended\" if they signed up and attended. \"No-show\" if they signed up but did not attend. Finally, print a summary showing the count of \"Attended\" and \"No-show\" students. Input:\n",
        "\n",
        "A list of integers signups, where each element represents a student ID who signed up for the event. (It may contain duplicates.) A list of integers attendees, where each element represents a student ID who attended the event. Output: Print each unique student ID along with its status (\"Attended\" or \"No-show\") and a summary like the example below."
      ],
      "metadata": {
        "id": "etcIHDdtrAjA"
      }
    },
    {
      "cell_type": "code",
      "source": [
        "signups = [101,102,103,104,101,105,106,102]\n",
        "attendees = [102,104,106,107]"
      ],
      "metadata": {
        "id": "d1J-tmPBrDmW"
      },
      "execution_count": null,
      "outputs": []
    },
    {
      "cell_type": "code",
      "source": [
        "# expected output\n",
        "101:no show\n",
        "102:attended\n",
        "103:no show\n",
        "107:no signups\n",
        "\n",
        "summary\n",
        "attended :\n",
        "no show"
      ],
      "metadata": {
        "id": "75-s2NaNJ2M6"
      },
      "execution_count": null,
      "outputs": []
    },
    {
      "cell_type": "code",
      "source": [
        "signups = [101,102,103,104,101,105,106,102]\n",
        "attendees = [102,104,106,107]\n",
        "\n",
        "unique_signups = set(signups)\n",
        "unique_attendees = set(attendees)\n",
        "print(unique_signups)\n",
        "print(unique_attendees)"
      ],
      "metadata": {
        "id": "BiLs3LX3cicV"
      },
      "execution_count": null,
      "outputs": []
    },
    {
      "cell_type": "code",
      "source": [
        "attended_count=0\n",
        "no_show_count=0\n",
        "for student_id in unique_signups:\n",
        "  if student_id in unique_attendees:\n",
        "    attended_count+=1\n",
        "    print(f\"{student_id}:attended\")\n",
        "  else:\n",
        "    no_show_count+=1\n",
        "    print(f\"{student_id}:no show\")\n",
        "\n",
        "print(\"\\nsummmary\")\n",
        "print(attended_count)\n",
        "print(no_show_count)"
      ],
      "metadata": {
        "id": "kGNY4UlwcipJ"
      },
      "execution_count": null,
      "outputs": []
    },
    {
      "cell_type": "code",
      "source": [],
      "metadata": {
        "id": "YuvBrBNaJ2ji"
      },
      "execution_count": null,
      "outputs": []
    },
    {
      "cell_type": "markdown",
      "source": [
        "Unique Common Elements\n",
        "Problem: You are given two lists of integers. Write a program to:\n",
        "\n",
        "Find the unique common elements between the two lists. Print these common elements in sorted order. If there are no common elements, print \"No common elements\"."
      ],
      "metadata": {
        "id": "t2Ve-Wk1rE4_"
      }
    },
    {
      "cell_type": "code",
      "source": [
        "list1 = [5,6,7,1,2,3,4,8,9,2]\n",
        "\n",
        "list2 = [8,9,5,6,10,6]\n",
        "\n"
      ],
      "metadata": {
        "id": "4fY0CfX4sd5g"
      },
      "execution_count": null,
      "outputs": []
    },
    {
      "cell_type": "code",
      "source": [
        "set1 = set(list1)\n",
        "set2 = set(list2)\n",
        "print(set1)\n",
        "print(set2)"
      ],
      "metadata": {
        "id": "VNx0FQqxslmb"
      },
      "execution_count": null,
      "outputs": []
    },
    {
      "cell_type": "code",
      "source": [
        "Common_elements = set1.intersection(set2)\n",
        "if Common_elements:\n",
        "  print(\"common elements are \",sorted(Common_elements))\n",
        "else:\n",
        "  print(\"no commmon elements\")"
      ],
      "metadata": {
        "id": "5g0mM_IyJ33W"
      },
      "execution_count": null,
      "outputs": []
    },
    {
      "cell_type": "code",
      "source": [
        "type(Common_elements)"
      ],
      "metadata": {
        "id": "s0GkvVq7hp_s"
      },
      "execution_count": null,
      "outputs": []
    },
    {
      "cell_type": "markdown",
      "source": [
        "Shopping Cart Analysis\n",
        "Problem: You are given two lists:\n",
        "\n",
        "**CART:**\n",
        " A list of items purchased by a user (may contain duplicates).\n",
        "**INVENTORY:**\n",
        "   A list of items left in stock. Write a program to:\n",
        "\n",
        "- Identify and print items purchased by the user that are not in stock.\n",
        "-  Count the number of unique items purchased by the user."
      ],
      "metadata": {
        "id": "x3tXNvEdzxdZ"
      }
    },
    {
      "cell_type": "code",
      "source": [
        "cart = [\"apple\",\"mango\",\"banana\",\"orange\",\"apple\",\"grapes\"]\n",
        "inventory = [\"apple\",\"mango\",\"banana\",\"grape\"]\n",
        "# output\n",
        "# out of stock items = {orange}\n",
        "# unique items purchased\n"
      ],
      "metadata": {
        "id": "kwiQ0-w5zzHy"
      },
      "execution_count": null,
      "outputs": []
    }
  ]
}