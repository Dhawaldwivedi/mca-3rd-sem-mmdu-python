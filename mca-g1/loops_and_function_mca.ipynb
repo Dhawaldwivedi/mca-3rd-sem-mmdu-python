{
  "nbformat": 4,
  "nbformat_minor": 0,
  "metadata": {
    "colab": {
      "provenance": [],
      "authorship_tag": "ABX9TyOklI4r8fgmhyFn3Vct2f2H",
      "include_colab_link": true
    },
    "kernelspec": {
      "name": "python3",
      "display_name": "Python 3"
    },
    "language_info": {
      "name": "python"
    }
  },
  "cells": [
    {
      "cell_type": "markdown",
      "metadata": {
        "id": "view-in-github",
        "colab_type": "text"
      },
      "source": [
        "<a href=\"https://colab.research.google.com/github/Dhawaldwivedi/mca-3rd-sem-mmdu-python/blob/main/mca-g1/loops_and_function_mca.ipynb\" target=\"_parent\"><img src=\"https://colab.research.google.com/assets/colab-badge.svg\" alt=\"Open In Colab\"/></a>"
      ]
    },
    {
      "cell_type": "code",
      "execution_count": null,
      "metadata": {
        "id": "Di9cl7F4wR7U"
      },
      "outputs": [],
      "source": []
    },
    {
      "cell_type": "markdown",
      "source": [
        "# Loops"
      ],
      "metadata": {
        "id": "i6AcLzknwfSm"
      }
    },
    {
      "cell_type": "code",
      "source": [
        "# for loop\n",
        "for i in range(2,10):\n",
        "  print(i)"
      ],
      "metadata": {
        "id": "HyfgCCu0wh8b",
        "colab": {
          "base_uri": "https://localhost:8080/"
        },
        "outputId": "70f70136-bec8-48db-f47b-e0f99662026c"
      },
      "execution_count": null,
      "outputs": [
        {
          "output_type": "stream",
          "name": "stdout",
          "text": [
            "2\n",
            "3\n",
            "4\n",
            "5\n",
            "6\n",
            "7\n",
            "8\n",
            "9\n"
          ]
        }
      ]
    },
    {
      "cell_type": "code",
      "source": [
        "# step size\n",
        "for i in range(10,2,-1):\n",
        "  print(i)"
      ],
      "metadata": {
        "id": "puB-E6a3wnKS",
        "colab": {
          "base_uri": "https://localhost:8080/"
        },
        "outputId": "15c0b53d-d287-41ec-a921-6c3f1e3ade00"
      },
      "execution_count": null,
      "outputs": [
        {
          "output_type": "stream",
          "name": "stdout",
          "text": [
            "10\n",
            "9\n",
            "8\n",
            "7\n",
            "6\n",
            "5\n",
            "4\n",
            "3\n"
          ]
        }
      ]
    },
    {
      "cell_type": "code",
      "source": [
        "# iterating a string\n",
        "s = \"mmdu\"\n",
        "for i in s:\n",
        "  print(i)"
      ],
      "metadata": {
        "id": "jA5M1C3AwqtK",
        "colab": {
          "base_uri": "https://localhost:8080/"
        },
        "outputId": "03eb5a47-7027-4eaf-9906-f7c9973dbc49"
      },
      "execution_count": null,
      "outputs": [
        {
          "output_type": "stream",
          "name": "stdout",
          "text": [
            "m\n",
            "m\n",
            "d\n",
            "u\n"
          ]
        }
      ]
    },
    {
      "cell_type": "code",
      "source": [
        "# while loop\n",
        "i = 0\n",
        "while i<5:\n",
        "  print(i)\n",
        "  i+=1\n"
      ],
      "metadata": {
        "id": "H3zb83DZwsl9",
        "colab": {
          "base_uri": "https://localhost:8080/"
        },
        "outputId": "5bd43c25-ba84-4fc2-bd47-22b019c5abdc"
      },
      "execution_count": null,
      "outputs": [
        {
          "output_type": "stream",
          "name": "stdout",
          "text": [
            "0\n",
            "1\n",
            "2\n",
            "3\n",
            "4\n"
          ]
        }
      ]
    },
    {
      "cell_type": "code",
      "source": [
        "# break\n",
        "for i in range(10):\n",
        "  if i==5:\n",
        "    break\n",
        "  print(i)"
      ],
      "metadata": {
        "id": "0PGSUbWZwvlX",
        "colab": {
          "base_uri": "https://localhost:8080/"
        },
        "outputId": "edbd1cff-2f82-490b-833f-e15e34fc2f02"
      },
      "execution_count": null,
      "outputs": [
        {
          "output_type": "stream",
          "name": "stdout",
          "text": [
            "0\n",
            "1\n",
            "2\n",
            "3\n",
            "4\n"
          ]
        }
      ]
    },
    {
      "cell_type": "code",
      "source": [
        "#continue\n",
        "for i in range(10):\n",
        "\n",
        "  if i==5:\n",
        "\n",
        "    continue\n",
        "  print(i)"
      ],
      "metadata": {
        "id": "q5daM10AwxdP",
        "colab": {
          "base_uri": "https://localhost:8080/"
        },
        "outputId": "62a50b94-61b9-4aa3-e169-bff746964831"
      },
      "execution_count": null,
      "outputs": [
        {
          "output_type": "stream",
          "name": "stdout",
          "text": [
            "0\n",
            "1\n",
            "2\n",
            "3\n",
            "4\n",
            "6\n",
            "7\n",
            "8\n",
            "9\n"
          ]
        }
      ]
    },
    {
      "cell_type": "code",
      "source": [
        "# nested loops\n",
        "for i in range(3):\n",
        "    for j in range(2):\n",
        "        print(f\"i:{i} and j:{j}\")"
      ],
      "metadata": {
        "id": "WfrP7pqzwzKh",
        "colab": {
          "base_uri": "https://localhost:8080/"
        },
        "outputId": "353282e1-169f-4858-db24-400e95b5f144"
      },
      "execution_count": null,
      "outputs": [
        {
          "output_type": "stream",
          "name": "stdout",
          "text": [
            "i:0 and j:0\n",
            "i:0 and j:1\n",
            "i:1 and j:0\n",
            "i:1 and j:1\n",
            "i:2 and j:0\n",
            "i:2 and j:1\n"
          ]
        }
      ]
    },
    {
      "cell_type": "code",
      "source": [
        "# calculate sum of first n natural numbers\n",
        "# sum = 0\n",
        "# sum+=i"
      ],
      "metadata": {
        "id": "b5vpvKwAw7hx"
      },
      "execution_count": null,
      "outputs": []
    },
    {
      "cell_type": "code",
      "source": [
        "# pattern printing\n",
        "''' *****\n",
        "    *****\n",
        "    *****\n",
        "    *****\n",
        "    *****  '''\n",
        "rows = 5\n",
        "for i in range(rows):\n",
        "  for j in range(rows):\n",
        "    print(\"*\",end =\"\")\n",
        "  print()\n"
      ],
      "metadata": {
        "id": "qiM9I2sYw7nf",
        "colab": {
          "base_uri": "https://localhost:8080/"
        },
        "outputId": "cd7cebc9-0b02-49de-a333-1575976ce637"
      },
      "execution_count": null,
      "outputs": [
        {
          "output_type": "stream",
          "name": "stdout",
          "text": [
            "*****\n",
            "*****\n",
            "*****\n",
            "*****\n",
            "*****\n"
          ]
        }
      ]
    },
    {
      "cell_type": "code",
      "source": [
        "rows = 5\n",
        "for i in range(rows):\n",
        "  for j in range(i):\n",
        "    print(\"*\",end =\"\")\n",
        "  print()"
      ],
      "metadata": {
        "colab": {
          "base_uri": "https://localhost:8080/"
        },
        "id": "CyHYx43bw7rF",
        "outputId": "2866c5fa-318a-49b3-9746-67e269a2eba7"
      },
      "execution_count": null,
      "outputs": [
        {
          "output_type": "stream",
          "name": "stdout",
          "text": [
            "\n",
            "*\n",
            "**\n",
            "***\n",
            "****\n"
          ]
        }
      ]
    },
    {
      "cell_type": "code",
      "source": [
        "# find prime numbers between 1 to 100"
      ],
      "metadata": {
        "id": "u-iiXbyAxmXW"
      },
      "execution_count": null,
      "outputs": []
    },
    {
      "cell_type": "code",
      "source": [],
      "metadata": {
        "id": "EuyEVJtEx_5i"
      },
      "execution_count": null,
      "outputs": []
    },
    {
      "cell_type": "markdown",
      "source": [
        "# Functions"
      ],
      "metadata": {
        "id": "IsQkVlG7yW-b"
      }
    },
    {
      "cell_type": "code",
      "source": [
        "# function definition\n",
        "def greet():\n",
        "  print(\"hello\")"
      ],
      "metadata": {
        "id": "yopY3qh1yY7j"
      },
      "execution_count": null,
      "outputs": []
    },
    {
      "cell_type": "code",
      "source": [
        "# function call\n",
        "greet()"
      ],
      "metadata": {
        "id": "b9JuAeD9ybEC",
        "colab": {
          "base_uri": "https://localhost:8080/"
        },
        "outputId": "54041b76-f89f-488a-aa40-21658bd0e4e7"
      },
      "execution_count": null,
      "outputs": [
        {
          "output_type": "stream",
          "name": "stdout",
          "text": [
            "hello\n"
          ]
        }
      ]
    },
    {
      "cell_type": "code",
      "source": [
        "# types of function"
      ],
      "metadata": {
        "id": "15sVjTbnycvc"
      },
      "execution_count": null,
      "outputs": []
    },
    {
      "cell_type": "code",
      "source": [
        "# local and global variables\n",
        "a = 2  # global\n",
        "def fun():\n",
        "  b=3   # local\n",
        "\n",
        "b"
      ],
      "metadata": {
        "id": "e-fEUHhLfuM6",
        "colab": {
          "base_uri": "https://localhost:8080/",
          "height": 185
        },
        "outputId": "28d7e43e-8c61-49ba-8f9a-8c4c46fea382"
      },
      "execution_count": null,
      "outputs": [
        {
          "output_type": "error",
          "ename": "NameError",
          "evalue": "name 'b' is not defined",
          "traceback": [
            "\u001b[0;31m---------------------------------------------------------------------------\u001b[0m",
            "\u001b[0;31mNameError\u001b[0m                                 Traceback (most recent call last)",
            "\u001b[0;32m/tmp/ipython-input-980418884.py\u001b[0m in \u001b[0;36m<cell line: 0>\u001b[0;34m()\u001b[0m\n\u001b[1;32m      4\u001b[0m   \u001b[0mb\u001b[0m\u001b[0;34m=\u001b[0m\u001b[0;36m3\u001b[0m\u001b[0;34m\u001b[0m\u001b[0;34m\u001b[0m\u001b[0m\n\u001b[1;32m      5\u001b[0m \u001b[0;34m\u001b[0m\u001b[0m\n\u001b[0;32m----> 6\u001b[0;31m \u001b[0mb\u001b[0m\u001b[0;34m\u001b[0m\u001b[0;34m\u001b[0m\u001b[0m\n\u001b[0m",
            "\u001b[0;31mNameError\u001b[0m: name 'b' is not defined"
          ]
        }
      ]
    },
    {
      "cell_type": "code",
      "source": [
        "# parameters in a function\n",
        "def add(a,b):\n",
        "  print(a+b)\n",
        "\n",
        "add(2,5)"
      ],
      "metadata": {
        "id": "OaYcg5Cnye7E",
        "colab": {
          "base_uri": "https://localhost:8080/"
        },
        "outputId": "4b7b88c4-da70-407d-9dcc-252b93d1c08b"
      },
      "execution_count": null,
      "outputs": [
        {
          "output_type": "stream",
          "name": "stdout",
          "text": [
            "7\n"
          ]
        }
      ]
    },
    {
      "cell_type": "code",
      "source": [
        "# return statement\n",
        "def fun(a,b):\n",
        "  return a+b,a-b,a*b\n",
        "\n",
        "fun(4,7)"
      ],
      "metadata": {
        "id": "QkGYUF2sy4ur",
        "colab": {
          "base_uri": "https://localhost:8080/"
        },
        "outputId": "644e8386-ed28-4fe0-e88c-c269bc139a60"
      },
      "execution_count": 26,
      "outputs": [
        {
          "output_type": "execute_result",
          "data": {
            "text/plain": [
              "(11, -3, 28)"
            ]
          },
          "metadata": {},
          "execution_count": 26
        }
      ]
    },
    {
      "cell_type": "code",
      "source": [
        "# keyword and positional arguments\n",
        "# positional\n",
        "def student(name,age):\n",
        "  print(f\"{name} is {age} years old\")\n",
        "\n",
        "student(30,\"Amit\")"
      ],
      "metadata": {
        "id": "AJyHgwTSy5Q3",
        "colab": {
          "base_uri": "https://localhost:8080/"
        },
        "outputId": "a7474040-f8fb-4a42-be37-ebe152b4f559"
      },
      "execution_count": 28,
      "outputs": [
        {
          "output_type": "stream",
          "name": "stdout",
          "text": [
            "30 is Amit years old\n"
          ]
        }
      ]
    },
    {
      "cell_type": "code",
      "source": [
        "student(age=30,name=\"Amit\")"
      ],
      "metadata": {
        "colab": {
          "base_uri": "https://localhost:8080/"
        },
        "id": "O8I0wLflo_gL",
        "outputId": "b069c826-3364-4bd5-a9a6-a39cdf8836d1"
      },
      "execution_count": 29,
      "outputs": [
        {
          "output_type": "stream",
          "name": "stdout",
          "text": [
            "Amit is 30 years old\n"
          ]
        }
      ]
    },
    {
      "cell_type": "code",
      "source": [
        "# wap to find max of 3 numbers\n",
        "max(a,b,c)"
      ],
      "metadata": {
        "id": "vB2JLI7YXB_M"
      },
      "execution_count": null,
      "outputs": []
    },
    {
      "cell_type": "code",
      "source": [
        "# print multiplication table of a number"
      ],
      "metadata": {
        "id": "UX_PJkULXCk4"
      },
      "execution_count": null,
      "outputs": []
    },
    {
      "cell_type": "code",
      "source": [
        "2000"
      ],
      "metadata": {
        "id": "2WwEiorBiSW6"
      },
      "execution_count": null,
      "outputs": []
    },
    {
      "cell_type": "markdown",
      "source": [
        "# Check if a given year is leap year or not"
      ],
      "metadata": {
        "id": "ClaenKsGirVS"
      }
    },
    {
      "cell_type": "code",
      "source": [
        "def is_leap_year(year):\n",
        "  \"\"\"Checks if a given year is a leap year.\"\"\"\n",
        "  if (year % 4 == 0 and year % 100 != 0) or (year % 400 == 0):\n",
        "    return True\n",
        "  else:\n",
        "    return False\n",
        "\n",
        "y = int(input(\"enter a year \"))\n",
        "print(is_leap_year(y))"
      ],
      "metadata": {
        "colab": {
          "base_uri": "https://localhost:8080/"
        },
        "id": "KDqF-cXbiv5m",
        "outputId": "346388d6-26a8-47d1-9abe-3738a4fe67d3"
      },
      "execution_count": null,
      "outputs": [
        {
          "output_type": "stream",
          "name": "stdout",
          "text": [
            "enter a year 1600\n",
            "True\n"
          ]
        }
      ]
    },
    {
      "cell_type": "code",
      "source": [],
      "metadata": {
        "id": "5N7Eewnni-so"
      },
      "execution_count": null,
      "outputs": []
    },
    {
      "cell_type": "code",
      "source": [],
      "metadata": {
        "id": "PprRWChCpiQD"
      },
      "execution_count": null,
      "outputs": []
    }
  ]
}