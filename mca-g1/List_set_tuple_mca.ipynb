{
  "nbformat": 4,
  "nbformat_minor": 0,
  "metadata": {
    "colab": {
      "provenance": [],
      "authorship_tag": "ABX9TyOsmQPn2z4cyr7xXihseeMf",
      "include_colab_link": true
    },
    "kernelspec": {
      "name": "python3",
      "display_name": "Python 3"
    },
    "language_info": {
      "name": "python"
    }
  },
  "cells": [
    {
      "cell_type": "markdown",
      "metadata": {
        "id": "view-in-github",
        "colab_type": "text"
      },
      "source": [
        "<a href=\"https://colab.research.google.com/github/Dhawaldwivedi/mca-3rd-sem-mmdu-python/blob/main/mca-g1/List_set_tuple_mca.ipynb\" target=\"_parent\"><img src=\"https://colab.research.google.com/assets/colab-badge.svg\" alt=\"Open In Colab\"/></a>"
      ]
    },
    {
      "cell_type": "code",
      "execution_count": 1,
      "metadata": {
        "id": "Bk1bwffLj19z",
        "colab": {
          "base_uri": "https://localhost:8080/"
        },
        "outputId": "b082c506-1279-46e1-e3e6-4ebad53f8506"
      },
      "outputs": [
        {
          "output_type": "execute_result",
          "data": {
            "text/plain": [
              "list"
            ]
          },
          "metadata": {},
          "execution_count": 1
        }
      ],
      "source": [
        "# empty list\n",
        "lst = []\n",
        "type(lst)"
      ]
    },
    {
      "cell_type": "code",
      "source": [
        "names=[\"Harsh\",\"Rahul\",\"Nitin\",1,2,3,4,5.6,True]\n",
        "print(names)"
      ],
      "metadata": {
        "id": "ZY0HIo0fkFoI",
        "colab": {
          "base_uri": "https://localhost:8080/"
        },
        "outputId": "a067132e-6c1b-4ac3-c15d-c908d4b02c93"
      },
      "execution_count": 3,
      "outputs": [
        {
          "output_type": "stream",
          "name": "stdout",
          "text": [
            "['Harsh', 'Rahul', 'Nitin', 1, 2, 3, 4, 5.6, True]\n"
          ]
        }
      ]
    },
    {
      "cell_type": "code",
      "source": [
        "mixed_list=[1,\"Hello\",3.14,True]\n",
        "print(mixed_list)"
      ],
      "metadata": {
        "id": "3jIbyS3vkFq0"
      },
      "execution_count": null,
      "outputs": []
    },
    {
      "cell_type": "code",
      "source": [
        "### Accessing List Elements\n",
        "\n",
        "fruits=[\"apple\",\"banana\",\"cherry\",\"kiwi\",\"gauva\"]"
      ],
      "metadata": {
        "id": "hpbzo8w1kFtn"
      },
      "execution_count": 5,
      "outputs": []
    },
    {
      "cell_type": "code",
      "source": [
        "print(fruits[0])\n",
        "print(fruits[2])\n",
        "print(fruits[4])\n",
        "print(fruits[-1])"
      ],
      "metadata": {
        "id": "q5lY81m1kFwa",
        "colab": {
          "base_uri": "https://localhost:8080/"
        },
        "outputId": "2e70c667-c94f-4ec3-93b0-6de8140536bf"
      },
      "execution_count": 6,
      "outputs": [
        {
          "output_type": "stream",
          "name": "stdout",
          "text": [
            "apple\n",
            "cherry\n",
            "gauva\n",
            "gauva\n"
          ]
        }
      ]
    },
    {
      "cell_type": "code",
      "source": [],
      "metadata": {
        "id": "K8vODw_GkFzL"
      },
      "execution_count": null,
      "outputs": []
    },
    {
      "cell_type": "code",
      "source": [
        "fruits[1]=\"watermelon\"\n",
        "print(fruits)"
      ],
      "metadata": {
        "id": "Q6Re9sQukF19",
        "colab": {
          "base_uri": "https://localhost:8080/"
        },
        "outputId": "62ccdb07-a027-4e61-ccaf-90fede770583"
      },
      "execution_count": 7,
      "outputs": [
        {
          "output_type": "stream",
          "name": "stdout",
          "text": [
            "['apple', 'watermelon', 'cherry', 'kiwi', 'gauva']\n"
          ]
        }
      ]
    },
    {
      "cell_type": "code",
      "source": [
        "fruits=[\"apple\",\"banana\",\"cherry\",\"kiwi\",\"gauva\"]"
      ],
      "metadata": {
        "id": "Lq48PS5-kF5T"
      },
      "execution_count": null,
      "outputs": []
    },
    {
      "cell_type": "code",
      "source": [
        "## List Methods\n",
        "\n",
        "fruits.append(\"orange\") ## Add an item to the end\n",
        "print(fruits)"
      ],
      "metadata": {
        "id": "lgdZBIozkzKW",
        "colab": {
          "base_uri": "https://localhost:8080/"
        },
        "outputId": "fa43b1b7-7383-493c-b4a3-5970a81a09e2"
      },
      "execution_count": 8,
      "outputs": [
        {
          "output_type": "stream",
          "name": "stdout",
          "text": [
            "['apple', 'watermelon', 'cherry', 'kiwi', 'gauva', 'orange']\n"
          ]
        }
      ]
    },
    {
      "cell_type": "code",
      "source": [
        "fruits.insert(1,\"watermelon\")\n",
        "print(fruits)"
      ],
      "metadata": {
        "id": "tlb2osUCkzNK",
        "colab": {
          "base_uri": "https://localhost:8080/"
        },
        "outputId": "5cb5245c-c0c1-4685-9574-1a46462a4ccd"
      },
      "execution_count": 9,
      "outputs": [
        {
          "output_type": "stream",
          "name": "stdout",
          "text": [
            "['apple', 'watermelon', 'watermelon', 'cherry', 'kiwi', 'gauva', 'orange']\n"
          ]
        }
      ]
    },
    {
      "cell_type": "code",
      "source": [
        "fruits.remove(\"watermelon\") ## Removing the first occurance of an item\n",
        "print(fruits)"
      ],
      "metadata": {
        "id": "xd7-QpGSkzQJ",
        "colab": {
          "base_uri": "https://localhost:8080/"
        },
        "outputId": "2362a87c-ace3-4175-d4a0-ba9b48337251"
      },
      "execution_count": 10,
      "outputs": [
        {
          "output_type": "stream",
          "name": "stdout",
          "text": [
            "['apple', 'watermelon', 'cherry', 'kiwi', 'gauva', 'orange']\n"
          ]
        }
      ]
    },
    {
      "cell_type": "code",
      "source": [
        "## Remove and return the last element\n",
        "popped_fruits=fruits.pop(3)\n",
        "print(popped_fruits)\n",
        "print(fruits)"
      ],
      "metadata": {
        "id": "iDaXcmXmkzS6",
        "colab": {
          "base_uri": "https://localhost:8080/"
        },
        "outputId": "d7ba8d7a-273f-4024-f2dc-9abcf8f25ec7"
      },
      "execution_count": 12,
      "outputs": [
        {
          "output_type": "stream",
          "name": "stdout",
          "text": [
            "kiwi\n",
            "['apple', 'watermelon', 'cherry', 'gauva']\n"
          ]
        }
      ]
    },
    {
      "cell_type": "code",
      "source": [
        "index=fruits.index(\"cherry\")\n",
        "print(index)"
      ],
      "metadata": {
        "id": "bBhWOB7skzV7",
        "colab": {
          "base_uri": "https://localhost:8080/"
        },
        "outputId": "7ab6cb55-99d8-49ee-a228-78749dbf3d32"
      },
      "execution_count": 13,
      "outputs": [
        {
          "output_type": "stream",
          "name": "stdout",
          "text": [
            "2\n"
          ]
        }
      ]
    },
    {
      "cell_type": "code",
      "source": [
        "fruits.insert(2,\"banana\")\n",
        "print(fruits.count(\"banana\"))"
      ],
      "metadata": {
        "id": "qxI_vnYjkzYn",
        "colab": {
          "base_uri": "https://localhost:8080/"
        },
        "outputId": "3a86e239-80e5-462b-cdd2-136faaaf9609"
      },
      "execution_count": 14,
      "outputs": [
        {
          "output_type": "stream",
          "name": "stdout",
          "text": [
            "1\n"
          ]
        }
      ]
    },
    {
      "cell_type": "code",
      "source": [
        " ## SSorts the list in ascending order\n",
        "fruits.sort()\n",
        "fruits"
      ],
      "metadata": {
        "id": "StuMqmeikzbO",
        "colab": {
          "base_uri": "https://localhost:8080/"
        },
        "outputId": "cf7d1ca5-1e0d-4603-f319-f18886ef9997"
      },
      "execution_count": 19,
      "outputs": [
        {
          "output_type": "execute_result",
          "data": {
            "text/plain": [
              "['apple', 'banana', 'cherry', 'gauva', 'watermelon']"
            ]
          },
          "metadata": {},
          "execution_count": 19
        }
      ]
    },
    {
      "cell_type": "code",
      "source": [
        " ## REverse the list\n",
        "fruits.reverse()\n",
        "fruits"
      ],
      "metadata": {
        "id": "Lwfj_tNwkzd0",
        "colab": {
          "base_uri": "https://localhost:8080/"
        },
        "outputId": "17534892-4799-451b-d8c6-f07df1739a09"
      },
      "execution_count": 20,
      "outputs": [
        {
          "output_type": "execute_result",
          "data": {
            "text/plain": [
              "['watermelon', 'gauva', 'cherry', 'banana', 'apple']"
            ]
          },
          "metadata": {},
          "execution_count": 20
        }
      ]
    },
    {
      "cell_type": "code",
      "source": [
        " ## Remove all items from the list\n",
        "fruits.clear()\n",
        "\n",
        "print(fruits)"
      ],
      "metadata": {
        "id": "CPy7reO-kzgo",
        "colab": {
          "base_uri": "https://localhost:8080/"
        },
        "outputId": "a3aae124-c9ed-46d3-b6a2-aa5ac1a3362c"
      },
      "execution_count": 22,
      "outputs": [
        {
          "output_type": "stream",
          "name": "stdout",
          "text": [
            "[]\n"
          ]
        }
      ]
    },
    {
      "cell_type": "code",
      "source": [
        "## Slicing List\n",
        "numbers = [1, 2, 3, 4, 5, 6, 7, 8, 9, 10]\n",
        "numbers[::-1]"
      ],
      "metadata": {
        "id": "hsFhQcuMkzjY",
        "colab": {
          "base_uri": "https://localhost:8080/"
        },
        "outputId": "47672ee3-675b-43a3-e2c4-31c6bf5d0b91"
      },
      "execution_count": 29,
      "outputs": [
        {
          "output_type": "execute_result",
          "data": {
            "text/plain": [
              "[10, 9, 8, 7, 6, 5, 4, 3, 2, 1]"
            ]
          },
          "metadata": {},
          "execution_count": 29
        }
      ]
    },
    {
      "cell_type": "code",
      "source": [
        "## List comprehension\n",
        "lst = [0,1,2,3,4,5,6,7,8,9]\n",
        "for i in lst:\n",
        "  print(lst[i]**2)\n"
      ],
      "metadata": {
        "id": "KpHLSdw3kzmt"
      },
      "execution_count": null,
      "outputs": []
    },
    {
      "cell_type": "code",
      "source": [
        "[x**2 for x in range(10) if x%2==0]"
      ],
      "metadata": {
        "id": "JSeZjpoxlaeD",
        "colab": {
          "base_uri": "https://localhost:8080/"
        },
        "outputId": "86b91b9a-c647-4e64-b586-82c54b235e66"
      },
      "execution_count": 31,
      "outputs": [
        {
          "output_type": "execute_result",
          "data": {
            "text/plain": [
              "[0, 4, 16, 36, 64]"
            ]
          },
          "metadata": {},
          "execution_count": 31
        }
      ]
    },
    {
      "cell_type": "markdown",
      "source": [
        "Example 1. Manage A To Do List\n",
        "\n",
        "Create a To Do List To Keep Track OF Tasks"
      ],
      "metadata": {
        "id": "pBaSM2Svlpd5"
      }
    },
    {
      "cell_type": "code",
      "source": [
        "to_do_list=[\"Buy Groceries\",\"Clean the house\",\"Pay bills\"]"
      ],
      "metadata": {
        "id": "kwzAskSOlc4Z"
      },
      "execution_count": null,
      "outputs": []
    },
    {
      "cell_type": "markdown",
      "source": [
        "# Tuples"
      ],
      "metadata": {
        "id": "w83d-InQlz6r"
      }
    },
    {
      "cell_type": "code",
      "source": [
        "## creating a tuple\n",
        "empty_tuple=()\n",
        "print(empty_tuple)\n",
        "print(type(empty_tuple))"
      ],
      "metadata": {
        "id": "rSTsaWYtlc70",
        "colab": {
          "base_uri": "https://localhost:8080/"
        },
        "outputId": "3c041037-fed5-409d-a992-e1a887ec52cb"
      },
      "execution_count": 32,
      "outputs": [
        {
          "output_type": "stream",
          "name": "stdout",
          "text": [
            "()\n",
            "<class 'tuple'>\n"
          ]
        }
      ]
    },
    {
      "cell_type": "code",
      "source": [
        "lst=list()\n",
        "print(type(lst))\n",
        "tpl=tuple()\n",
        "print(type(tpl))"
      ],
      "metadata": {
        "id": "64wNQ7MClc_R"
      },
      "execution_count": null,
      "outputs": []
    },
    {
      "cell_type": "code",
      "source": [
        "numbers=tuple([1,2,3,4,5,6])\n",
        "numbers"
      ],
      "metadata": {
        "id": "d9SwEQsml9Ke",
        "colab": {
          "base_uri": "https://localhost:8080/"
        },
        "outputId": "a1054764-72fb-4ece-ef42-2639261a87b4"
      },
      "execution_count": 33,
      "outputs": [
        {
          "output_type": "execute_result",
          "data": {
            "text/plain": [
              "(1, 2, 3, 4, 5, 6)"
            ]
          },
          "metadata": {},
          "execution_count": 33
        }
      ]
    },
    {
      "cell_type": "code",
      "source": [
        "mixed_tuple=(1,\"Hello World\",3.14, True)\n",
        "print(mixed_tuple)"
      ],
      "metadata": {
        "id": "sObH1Y92l9Nc",
        "colab": {
          "base_uri": "https://localhost:8080/"
        },
        "outputId": "9a21f77e-b9d8-46d0-a539-48596215fd12"
      },
      "execution_count": 34,
      "outputs": [
        {
          "output_type": "stream",
          "name": "stdout",
          "text": [
            "(1, 'Hello World', 3.14, True)\n"
          ]
        }
      ]
    },
    {
      "cell_type": "code",
      "source": [
        "print(numbers[2])\n",
        "print(numbers[-1])"
      ],
      "metadata": {
        "id": "Q93a17cGl9Qg",
        "colab": {
          "base_uri": "https://localhost:8080/"
        },
        "outputId": "7ff91f4b-59a9-42fb-a05e-ec9867f2c744"
      },
      "execution_count": 35,
      "outputs": [
        {
          "output_type": "stream",
          "name": "stdout",
          "text": [
            "3\n",
            "6\n"
          ]
        }
      ]
    },
    {
      "cell_type": "code",
      "source": [
        "## Tuple Operations\n",
        "\n",
        "concatenation_tuple=numbers + mixed_tuple\n",
        "print(concatenation_tuple)"
      ],
      "metadata": {
        "id": "3wFqJeTEl9TJ",
        "colab": {
          "base_uri": "https://localhost:8080/"
        },
        "outputId": "62234f2b-5be7-438b-86c7-2f1adabdc0b4"
      },
      "execution_count": 36,
      "outputs": [
        {
          "output_type": "stream",
          "name": "stdout",
          "text": [
            "(1, 2, 3, 4, 5, 6, 1, 'Hello World', 3.14, True)\n"
          ]
        }
      ]
    },
    {
      "cell_type": "code",
      "source": [
        "mixed_tuple*3"
      ],
      "metadata": {
        "colab": {
          "base_uri": "https://localhost:8080/"
        },
        "id": "7OS-qIv5tYHo",
        "outputId": "7c82ed7e-72c7-4a95-a3e2-72f756f8557a"
      },
      "execution_count": 37,
      "outputs": [
        {
          "output_type": "execute_result",
          "data": {
            "text/plain": [
              "(1,\n",
              " 'Hello World',\n",
              " 3.14,\n",
              " True,\n",
              " 1,\n",
              " 'Hello World',\n",
              " 3.14,\n",
              " True,\n",
              " 1,\n",
              " 'Hello World',\n",
              " 3.14,\n",
              " True)"
            ]
          },
          "metadata": {},
          "execution_count": 37
        }
      ]
    },
    {
      "cell_type": "code",
      "source": [
        "lst=[1,2,3,4,5]\n",
        "print(lst)\n",
        "\n",
        "lst[1]=\"Krish\"\n",
        "print(lst)"
      ],
      "metadata": {
        "id": "uSTk1OMQl9Wm",
        "colab": {
          "base_uri": "https://localhost:8080/"
        },
        "outputId": "0d13a577-dbde-4701-ddcc-337d8906d2d2"
      },
      "execution_count": 38,
      "outputs": [
        {
          "output_type": "stream",
          "name": "stdout",
          "text": [
            "[1, 2, 3, 4, 5]\n",
            "[1, 'Krish', 3, 4, 5]\n"
          ]
        }
      ]
    },
    {
      "cell_type": "code",
      "source": [
        "numbers[1] = 6"
      ],
      "metadata": {
        "colab": {
          "base_uri": "https://localhost:8080/",
          "height": 148
        },
        "id": "4t_XOLLutoHi",
        "outputId": "d8daaa19-8171-4016-a96a-9d22888f1f6c"
      },
      "execution_count": 39,
      "outputs": [
        {
          "output_type": "error",
          "ename": "TypeError",
          "evalue": "'tuple' object does not support item assignment",
          "traceback": [
            "\u001b[0;31m---------------------------------------------------------------------------\u001b[0m",
            "\u001b[0;31mTypeError\u001b[0m                                 Traceback (most recent call last)",
            "\u001b[0;32m/tmp/ipython-input-1676683664.py\u001b[0m in \u001b[0;36m<cell line: 0>\u001b[0;34m()\u001b[0m\n\u001b[0;32m----> 1\u001b[0;31m \u001b[0mnumbers\u001b[0m\u001b[0;34m[\u001b[0m\u001b[0;36m1\u001b[0m\u001b[0;34m]\u001b[0m \u001b[0;34m=\u001b[0m \u001b[0;36m6\u001b[0m\u001b[0;34m\u001b[0m\u001b[0;34m\u001b[0m\u001b[0m\n\u001b[0m",
            "\u001b[0;31mTypeError\u001b[0m: 'tuple' object does not support item assignment"
          ]
        }
      ]
    },
    {
      "cell_type": "code",
      "source": [
        "## Tuple Methods\n",
        "print(numbers.count(1))\n",
        "print(numbers.index(3))"
      ],
      "metadata": {
        "id": "nKoTUiaVmJt3",
        "colab": {
          "base_uri": "https://localhost:8080/"
        },
        "outputId": "8bac840a-a96a-489a-b017-79491092f616"
      },
      "execution_count": 40,
      "outputs": [
        {
          "output_type": "stream",
          "name": "stdout",
          "text": [
            "1\n",
            "2\n"
          ]
        }
      ]
    },
    {
      "cell_type": "code",
      "source": [
        "## Packing and Unpacking tuple\n",
        "## packing\n",
        "packed_tuple=(1,\"Hello\",3.14)\n",
        "print(packed_tuple)"
      ],
      "metadata": {
        "id": "Cn_oobSTmJw-",
        "colab": {
          "base_uri": "https://localhost:8080/"
        },
        "outputId": "06ca23a2-c036-43bf-d364-015a4948fff2"
      },
      "execution_count": 41,
      "outputs": [
        {
          "output_type": "stream",
          "name": "stdout",
          "text": [
            "(1, 'Hello', 3.14)\n"
          ]
        }
      ]
    },
    {
      "cell_type": "code",
      "source": [
        "##unpacking a tuple\n",
        "a,b,c=packed_tuple\n",
        "\n",
        "print(a)\n",
        "print(b)\n",
        "print(c)"
      ],
      "metadata": {
        "id": "Lla_gvBGmJzp",
        "colab": {
          "base_uri": "https://localhost:8080/"
        },
        "outputId": "24d4d3b4-6c35-495f-f6cd-464d6035870d"
      },
      "execution_count": 43,
      "outputs": [
        {
          "output_type": "stream",
          "name": "stdout",
          "text": [
            "1\n",
            "Hello\n",
            "3.14\n"
          ]
        }
      ]
    },
    {
      "cell_type": "code",
      "source": [
        "## Unpacking with *\n",
        "numbers=(1,2,3,4,5,6)\n",
        "first,middle,*last=numbers\n",
        "print(first)\n",
        "print(middle)\n",
        "print(last)"
      ],
      "metadata": {
        "id": "CriIzldRmJ2O",
        "colab": {
          "base_uri": "https://localhost:8080/"
        },
        "outputId": "3505f7ef-774f-4905-8c6a-14ccadc6c21c"
      },
      "execution_count": 45,
      "outputs": [
        {
          "output_type": "stream",
          "name": "stdout",
          "text": [
            "1\n",
            "2\n",
            "[3, 4, 5, 6]\n"
          ]
        }
      ]
    },
    {
      "cell_type": "code",
      "source": [
        "## Nested Tuple\n",
        "## Nested List\n",
        "lst=[[1,2,3,4],[6,7,8,9],[1,\"Hello\",3.14,\"c\"]]\n",
        "lst[2][2:4]"
      ],
      "metadata": {
        "id": "njHp1eWAmJ45",
        "colab": {
          "base_uri": "https://localhost:8080/"
        },
        "outputId": "9e9b4404-2cc0-4c02-ce65-8be2d54d48b7"
      },
      "execution_count": 47,
      "outputs": [
        {
          "output_type": "execute_result",
          "data": {
            "text/plain": [
              "[3.14, 'c']"
            ]
          },
          "metadata": {},
          "execution_count": 47
        }
      ]
    },
    {
      "cell_type": "code",
      "source": [
        "nested_tuple = ((1, 2, 3), (\"a\", \"b\", \"c\"), (True, False))\n",
        "\n",
        "## access the elements inside a tuple\n",
        "print(nested_tuple[0])\n",
        "print(nested_tuple[1][2])"
      ],
      "metadata": {
        "id": "1VLmLgjImJ7d"
      },
      "execution_count": null,
      "outputs": []
    },
    {
      "cell_type": "markdown",
      "source": [
        "# Sets"
      ],
      "metadata": {
        "id": "hMpLyEtZmjkQ"
      }
    },
    {
      "cell_type": "code",
      "source": [
        "##create a set\n",
        "my_set={1,2,3,4,5} # if empty its a dict\n",
        "print(my_set)\n",
        "print(type(my_set))"
      ],
      "metadata": {
        "id": "mTCPzhQwmlWW",
        "colab": {
          "base_uri": "https://localhost:8080/"
        },
        "outputId": "8f852fcc-9bbd-4c09-e8fb-143807f3797e"
      },
      "execution_count": 48,
      "outputs": [
        {
          "output_type": "stream",
          "name": "stdout",
          "text": [
            "{1, 2, 3, 4, 5}\n",
            "<class 'set'>\n"
          ]
        }
      ]
    },
    {
      "cell_type": "code",
      "source": [
        "my_set=set([1,2,3,4,5,6])\n",
        "print(my_set)"
      ],
      "metadata": {
        "id": "zB7RuUxHoHM2"
      },
      "execution_count": null,
      "outputs": []
    },
    {
      "cell_type": "code",
      "source": [
        "my_empty_set=set([1,2,3,6,5,4,5,6]) # Contains unique values\n",
        "print(my_empty_set)"
      ],
      "metadata": {
        "id": "y0xlFQ7FoHQA",
        "colab": {
          "base_uri": "https://localhost:8080/"
        },
        "outputId": "c9a0c926-cd39-4b48-8c04-f9b75f9a2472"
      },
      "execution_count": 49,
      "outputs": [
        {
          "output_type": "stream",
          "name": "stdout",
          "text": [
            "{1, 2, 3, 4, 5, 6}\n"
          ]
        }
      ]
    },
    {
      "cell_type": "code",
      "source": [
        "## Basics Sets Operation\n",
        "## Adiing and Removing Elements\n",
        "my_set.add(7)\n",
        "print(my_set)\n",
        "my_set.add(7)\n",
        "print(my_set)"
      ],
      "metadata": {
        "id": "6n-5r1utoHSz",
        "colab": {
          "base_uri": "https://localhost:8080/"
        },
        "outputId": "664ee0cd-124f-48be-9ce9-4373d4a26c6e"
      },
      "execution_count": 50,
      "outputs": [
        {
          "output_type": "stream",
          "name": "stdout",
          "text": [
            "{1, 2, 3, 4, 5, 7}\n",
            "{1, 2, 3, 4, 5, 7}\n"
          ]
        }
      ]
    },
    {
      "cell_type": "code",
      "source": [
        "## Remove the elements from a set\n",
        "my_set.remove(6)\n",
        "print(my_set)"
      ],
      "metadata": {
        "id": "1W-DzXgWoHWa",
        "colab": {
          "base_uri": "https://localhost:8080/",
          "height": 185
        },
        "outputId": "168a0616-f876-4c58-e7e3-687b816a5842"
      },
      "execution_count": 52,
      "outputs": [
        {
          "output_type": "error",
          "ename": "KeyError",
          "evalue": "6",
          "traceback": [
            "\u001b[0;31m---------------------------------------------------------------------------\u001b[0m",
            "\u001b[0;31mKeyError\u001b[0m                                  Traceback (most recent call last)",
            "\u001b[0;32m/tmp/ipython-input-3943281451.py\u001b[0m in \u001b[0;36m<cell line: 0>\u001b[0;34m()\u001b[0m\n\u001b[1;32m      1\u001b[0m \u001b[0;31m## Remove the elements from a set\u001b[0m\u001b[0;34m\u001b[0m\u001b[0;34m\u001b[0m\u001b[0m\n\u001b[0;32m----> 2\u001b[0;31m \u001b[0mmy_set\u001b[0m\u001b[0;34m.\u001b[0m\u001b[0mremove\u001b[0m\u001b[0;34m(\u001b[0m\u001b[0;36m6\u001b[0m\u001b[0;34m)\u001b[0m\u001b[0;34m\u001b[0m\u001b[0;34m\u001b[0m\u001b[0m\n\u001b[0m\u001b[1;32m      3\u001b[0m \u001b[0mprint\u001b[0m\u001b[0;34m(\u001b[0m\u001b[0mmy_set\u001b[0m\u001b[0;34m)\u001b[0m\u001b[0;34m\u001b[0m\u001b[0;34m\u001b[0m\u001b[0m\n",
            "\u001b[0;31mKeyError\u001b[0m: 6"
          ]
        }
      ]
    },
    {
      "cell_type": "code",
      "source": [
        "my_set.discard(0)\n",
        "print(my_set)"
      ],
      "metadata": {
        "id": "B7N9ezA6oHsw",
        "colab": {
          "base_uri": "https://localhost:8080/"
        },
        "outputId": "13b23da2-3e69-4dda-a7ce-af0ace012b16"
      },
      "execution_count": 54,
      "outputs": [
        {
          "output_type": "stream",
          "name": "stdout",
          "text": [
            "{1, 2, 3, 5}\n"
          ]
        }
      ]
    },
    {
      "cell_type": "code",
      "source": [
        "## Set Memebership test\n",
        "# In Python, the set membership test is used to check if an element is present in a set. You can do this using the in and not in operators\n",
        "\n",
        "my_set={1,2,3,4,5}\n",
        "print(3 in my_set)\n",
        "print(10 in my_set)"
      ],
      "metadata": {
        "id": "7DrD1_ZsoYhB",
        "colab": {
          "base_uri": "https://localhost:8080/"
        },
        "outputId": "4d1a3c40-48a9-4c89-eb9c-9164571d7ef9"
      },
      "execution_count": 55,
      "outputs": [
        {
          "output_type": "stream",
          "name": "stdout",
          "text": [
            "True\n",
            "False\n"
          ]
        }
      ]
    },
    {
      "cell_type": "code",
      "source": [
        "# unions , intersections , difference ,symmetric difference"
      ],
      "metadata": {
        "id": "MJ9SzMZvoYj7"
      },
      "execution_count": null,
      "outputs": []
    },
    {
      "cell_type": "code",
      "source": [
        "### Counting Unique words in text\n",
        "\n",
        "text=\"In this tutorial we are discussing about sets this we are\"\n",
        "words = text.split()\n",
        "print(words)\n",
        "unique = set(words)\n",
        "print(unique)\n",
        "print(len(unique))"
      ],
      "metadata": {
        "id": "auHtWAAYoYmw",
        "colab": {
          "base_uri": "https://localhost:8080/"
        },
        "outputId": "76255620-1375-4465-c25b-4d57aefa2aed"
      },
      "execution_count": 58,
      "outputs": [
        {
          "output_type": "stream",
          "name": "stdout",
          "text": [
            "['In', 'this', 'tutorial', 'we', 'are', 'discussing', 'about', 'sets', 'this', 'we', 'are']\n",
            "{'discussing', 'about', 'this', 'In', 'tutorial', 'we', 'are', 'sets'}\n",
            "8\n"
          ]
        }
      ]
    },
    {
      "cell_type": "code",
      "source": [],
      "metadata": {
        "id": "me-63e2FoYpG"
      },
      "execution_count": null,
      "outputs": []
    },
    {
      "cell_type": "code",
      "source": [],
      "metadata": {
        "id": "i3LNsynkoYsk"
      },
      "execution_count": null,
      "outputs": []
    }
  ]
}