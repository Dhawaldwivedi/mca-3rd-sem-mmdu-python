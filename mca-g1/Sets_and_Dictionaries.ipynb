{
  "nbformat": 4,
  "nbformat_minor": 0,
  "metadata": {
    "colab": {
      "provenance": [],
      "authorship_tag": "ABX9TyMLCKGeeIlyxw+YczQCX2Vn",
      "include_colab_link": true
    },
    "kernelspec": {
      "name": "python3",
      "display_name": "Python 3"
    },
    "language_info": {
      "name": "python"
    }
  },
  "cells": [
    {
      "cell_type": "markdown",
      "metadata": {
        "id": "view-in-github",
        "colab_type": "text"
      },
      "source": [
        "<a href=\"https://colab.research.google.com/github/Dhawaldwivedi/mca-3rd-sem-mmdu-python/blob/main/mca-g1/Sets_and_Dictionaries.ipynb\" target=\"_parent\"><img src=\"https://colab.research.google.com/assets/colab-badge.svg\" alt=\"Open In Colab\"/></a>"
      ]
    },
    {
      "cell_type": "code",
      "execution_count": null,
      "metadata": {
        "id": "1nnpVbMQBxiF"
      },
      "outputs": [],
      "source": []
    },
    {
      "cell_type": "markdown",
      "source": [
        "SETS - data is unordered\n",
        "    \n",
        "     - does not have duplicates ( contains unique values)\n",
        "\n",
        "\n",
        "     "
      ],
      "metadata": {
        "id": "MA-tvwVhDU6c"
      }
    },
    {
      "cell_type": "code",
      "source": [
        "# sets\n",
        "my_set = {1,2,3,4,5}\n",
        "my_set"
      ],
      "metadata": {
        "colab": {
          "base_uri": "https://localhost:8080/"
        },
        "id": "ad_EeUDjEH-z",
        "outputId": "7f11fc98-b2e2-4c23-afcf-35c92cc4814e"
      },
      "execution_count": null,
      "outputs": [
        {
          "output_type": "execute_result",
          "data": {
            "text/plain": [
              "{1, 2, 3, 4, 5}"
            ]
          },
          "metadata": {},
          "execution_count": 2
        }
      ]
    },
    {
      "cell_type": "code",
      "source": [
        "type(my_set)"
      ],
      "metadata": {
        "colab": {
          "base_uri": "https://localhost:8080/"
        },
        "id": "8BW9bTGEESHn",
        "outputId": "b37bb9a2-44e6-40eb-c9d0-345df5678a0e"
      },
      "execution_count": null,
      "outputs": [
        {
          "output_type": "execute_result",
          "data": {
            "text/plain": [
              "set"
            ]
          },
          "metadata": {},
          "execution_count": 3
        }
      ]
    },
    {
      "cell_type": "code",
      "source": [
        "my_set2 = set()\n",
        "my_set2\n"
      ],
      "metadata": {
        "colab": {
          "base_uri": "https://localhost:8080/"
        },
        "id": "MzR85AyEEXlG",
        "outputId": "70156d5c-8a6a-4cbc-8c4d-4ef94b63574f"
      },
      "execution_count": null,
      "outputs": [
        {
          "output_type": "execute_result",
          "data": {
            "text/plain": [
              "set()"
            ]
          },
          "metadata": {},
          "execution_count": 4
        }
      ]
    },
    {
      "cell_type": "code",
      "source": [
        "my_set2 = set([1,2,34])\n",
        "my_set2"
      ],
      "metadata": {
        "colab": {
          "base_uri": "https://localhost:8080/"
        },
        "id": "xahSInPuEepM",
        "outputId": "a5cf7f16-b2b8-40ce-bc04-3972eba7eda6"
      },
      "execution_count": null,
      "outputs": [
        {
          "output_type": "execute_result",
          "data": {
            "text/plain": [
              "{1, 2, 34}"
            ]
          },
          "metadata": {},
          "execution_count": 5
        }
      ]
    },
    {
      "cell_type": "code",
      "source": [
        "my_set2 = {1,5,7,2,3,4,4,3,7,8}\n",
        "my_set2"
      ],
      "metadata": {
        "colab": {
          "base_uri": "https://localhost:8080/"
        },
        "id": "okadUjDNEr2C",
        "outputId": "af5fc1a2-0f99-4a17-d7fb-074549b201f4"
      },
      "execution_count": null,
      "outputs": [
        {
          "output_type": "execute_result",
          "data": {
            "text/plain": [
              "{1, 2, 3, 4, 5, 7, 8}"
            ]
          },
          "metadata": {},
          "execution_count": 6
        }
      ]
    },
    {
      "cell_type": "code",
      "source": [
        "my_set"
      ],
      "metadata": {
        "colab": {
          "base_uri": "https://localhost:8080/"
        },
        "id": "nKZWabq2FcQx",
        "outputId": "027772e5-0c7c-400c-df8b-637a9d4ee18c"
      },
      "execution_count": null,
      "outputs": [
        {
          "output_type": "execute_result",
          "data": {
            "text/plain": [
              "{1, 2, 3, 4, 5}"
            ]
          },
          "metadata": {},
          "execution_count": 7
        }
      ]
    },
    {
      "cell_type": "code",
      "source": [
        "# add an element\n",
        "my_set.add(7)\n",
        "my_set"
      ],
      "metadata": {
        "colab": {
          "base_uri": "https://localhost:8080/"
        },
        "id": "4vzYEgVRGck4",
        "outputId": "0f77d9f9-2b89-4e11-8c36-9a000f0ac775"
      },
      "execution_count": null,
      "outputs": [
        {
          "output_type": "execute_result",
          "data": {
            "text/plain": [
              "{1, 2, 3, 4, 5, 7}"
            ]
          },
          "metadata": {},
          "execution_count": 8
        }
      ]
    },
    {
      "cell_type": "code",
      "source": [
        "my_set.add(7)\n",
        "my_set"
      ],
      "metadata": {
        "colab": {
          "base_uri": "https://localhost:8080/"
        },
        "id": "P-VfctQbGiY3",
        "outputId": "1b002ee9-4069-4821-b08e-1f08ca5dc9e2"
      },
      "execution_count": null,
      "outputs": [
        {
          "output_type": "execute_result",
          "data": {
            "text/plain": [
              "{1, 2, 3, 4, 5, 7}"
            ]
          },
          "metadata": {},
          "execution_count": 9
        }
      ]
    },
    {
      "cell_type": "code",
      "source": [
        "# remove function\n",
        "my_set.remove(7)\n",
        "my_set"
      ],
      "metadata": {
        "colab": {
          "base_uri": "https://localhost:8080/"
        },
        "id": "XSTw9meqGm2V",
        "outputId": "07f01da2-9806-466e-b684-beda88d2a1ef"
      },
      "execution_count": null,
      "outputs": [
        {
          "output_type": "execute_result",
          "data": {
            "text/plain": [
              "{1, 2, 3, 4, 5}"
            ]
          },
          "metadata": {},
          "execution_count": 10
        }
      ]
    },
    {
      "cell_type": "code",
      "source": [
        "my_set.remove(7)"
      ],
      "metadata": {
        "colab": {
          "base_uri": "https://localhost:8080/",
          "height": 146
        },
        "id": "J9BYyMTGGyrW",
        "outputId": "bef1ca07-15fd-4e64-f546-dc7bf5f265f6"
      },
      "execution_count": null,
      "outputs": [
        {
          "output_type": "error",
          "ename": "KeyError",
          "evalue": "7",
          "traceback": [
            "\u001b[0;31m---------------------------------------------------------------------------\u001b[0m",
            "\u001b[0;31mKeyError\u001b[0m                                  Traceback (most recent call last)",
            "\u001b[0;32m<ipython-input-11-3b6ad967bf1d>\u001b[0m in \u001b[0;36m<cell line: 0>\u001b[0;34m()\u001b[0m\n\u001b[0;32m----> 1\u001b[0;31m \u001b[0mmy_set\u001b[0m\u001b[0;34m.\u001b[0m\u001b[0mremove\u001b[0m\u001b[0;34m(\u001b[0m\u001b[0;36m7\u001b[0m\u001b[0;34m)\u001b[0m\u001b[0;34m\u001b[0m\u001b[0;34m\u001b[0m\u001b[0m\n\u001b[0m",
            "\u001b[0;31mKeyError\u001b[0m: 7"
          ]
        }
      ]
    },
    {
      "cell_type": "code",
      "source": [
        "# discard\n",
        "my_set.discard(4)\n",
        "my_set"
      ],
      "metadata": {
        "id": "n1yIXi9iG3Qr"
      },
      "execution_count": null,
      "outputs": []
    },
    {
      "cell_type": "code",
      "source": [
        "my_set.discard(4)\n",
        "my_set"
      ],
      "metadata": {
        "id": "7grCNAdjHEsq"
      },
      "execution_count": null,
      "outputs": []
    },
    {
      "cell_type": "code",
      "source": [
        "# pop function\n",
        "my_set.pop()\n",
        "my_set"
      ],
      "metadata": {
        "id": "ulAzmFFpHZIQ"
      },
      "execution_count": null,
      "outputs": []
    },
    {
      "cell_type": "code",
      "source": [
        "#clear\n",
        "my_set.clear()\n",
        "my_set"
      ],
      "metadata": {
        "id": "5Vrex8fVIHZK"
      },
      "execution_count": null,
      "outputs": []
    },
    {
      "cell_type": "code",
      "source": [
        "# set membership test\n",
        "my_set = {1,2,3,4,5}\n",
        "my_set"
      ],
      "metadata": {
        "id": "9Wmu08RoIhXP"
      },
      "execution_count": null,
      "outputs": []
    },
    {
      "cell_type": "code",
      "source": [
        "print(3 in my_set)"
      ],
      "metadata": {
        "id": "MFhcndhoIthe"
      },
      "execution_count": null,
      "outputs": []
    },
    {
      "cell_type": "code",
      "source": [
        "print(8 in my_set)"
      ],
      "metadata": {
        "id": "du7JAINzIyJ-"
      },
      "execution_count": null,
      "outputs": []
    },
    {
      "cell_type": "code",
      "source": [
        "# mathematical operations\n",
        "set1 = {1,2,3,4,5}\n",
        "set2 ={4,5,6,7,8,9}\n"
      ],
      "metadata": {
        "id": "tAcKJ4daI0fn"
      },
      "execution_count": 2,
      "outputs": []
    },
    {
      "cell_type": "code",
      "source": [
        "# union\n",
        "union_set = set1.union(set2)\n",
        "union_set"
      ],
      "metadata": {
        "id": "G9dmLc0hJHyN",
        "colab": {
          "base_uri": "https://localhost:8080/"
        },
        "outputId": "58d1c056-af44-4496-d17c-666d9e847d0b"
      },
      "execution_count": 3,
      "outputs": [
        {
          "output_type": "execute_result",
          "data": {
            "text/plain": [
              "{1, 2, 3, 4, 5, 6, 7, 8, 9}"
            ]
          },
          "metadata": {},
          "execution_count": 3
        }
      ]
    },
    {
      "cell_type": "code",
      "source": [
        "# intersection\n",
        "intersection_set = set1.intersection(set2)\n",
        "intersection_set\n"
      ],
      "metadata": {
        "id": "2heuP_49JaqT",
        "colab": {
          "base_uri": "https://localhost:8080/"
        },
        "outputId": "799f3ab1-38ec-4afa-e8ec-29aedbf93209"
      },
      "execution_count": 4,
      "outputs": [
        {
          "output_type": "execute_result",
          "data": {
            "text/plain": [
              "{4, 5}"
            ]
          },
          "metadata": {},
          "execution_count": 4
        }
      ]
    },
    {
      "cell_type": "code",
      "source": [
        "# difference\n",
        "set1 = {1,2,3,4,5,6}\n",
        "set2 = {4,5,6,7,8,9}\n",
        "\n",
        "diff_set = set1.difference(set2)\n",
        "diff_set\n",
        "# returns elements of set1 which are not present in set 2"
      ],
      "metadata": {
        "id": "xm6olaB5Ju_3",
        "colab": {
          "base_uri": "https://localhost:8080/"
        },
        "outputId": "97709d54-9bb5-4f69-dfcc-dafcec9c0348"
      },
      "execution_count": 5,
      "outputs": [
        {
          "output_type": "execute_result",
          "data": {
            "text/plain": [
              "{1, 2, 3}"
            ]
          },
          "metadata": {},
          "execution_count": 5
        }
      ]
    },
    {
      "cell_type": "code",
      "source": [
        "# returns elements of set2 which are not present in set 1\n",
        "diff_set2 = set2.difference(set1)\n",
        "diff_set2"
      ],
      "metadata": {
        "id": "wvKCj1lpKahm",
        "colab": {
          "base_uri": "https://localhost:8080/"
        },
        "outputId": "869f9623-f72b-4327-ab85-e5c7cf41d1d6"
      },
      "execution_count": 6,
      "outputs": [
        {
          "output_type": "execute_result",
          "data": {
            "text/plain": [
              "{7, 8, 9}"
            ]
          },
          "metadata": {},
          "execution_count": 6
        }
      ]
    },
    {
      "cell_type": "code",
      "source": [
        "# symmetric difference\n",
        "sym_diff = set1.symmetric_difference(set2)\n",
        "sym_diff"
      ],
      "metadata": {
        "id": "Vxsva6tLKqIJ",
        "colab": {
          "base_uri": "https://localhost:8080/"
        },
        "outputId": "9742a51f-5d57-4524-c461-12cd0d5e3e45"
      },
      "execution_count": 7,
      "outputs": [
        {
          "output_type": "execute_result",
          "data": {
            "text/plain": [
              "{1, 2, 3, 7, 8, 9}"
            ]
          },
          "metadata": {},
          "execution_count": 7
        }
      ]
    },
    {
      "cell_type": "code",
      "source": [
        "# union - intersection = symmetric difference"
      ],
      "metadata": {
        "id": "eAjY1usuLRZB"
      },
      "execution_count": null,
      "outputs": []
    },
    {
      "cell_type": "code",
      "source": [
        "# set methods - subset , superset\n",
        "set1 = {1,2,3,4,5}\n",
        "set2 = {3,4,5}\n",
        "set2.issubset(set1)\n",
        "\n",
        "\n"
      ],
      "metadata": {
        "id": "PDv4H6YaLrfb",
        "colab": {
          "base_uri": "https://localhost:8080/"
        },
        "outputId": "99ebd5db-a082-4acb-b9b2-a405254c49c6"
      },
      "execution_count": 8,
      "outputs": [
        {
          "output_type": "execute_result",
          "data": {
            "text/plain": [
              "True"
            ]
          },
          "metadata": {},
          "execution_count": 8
        }
      ]
    },
    {
      "cell_type": "code",
      "source": [
        "set1.issuperset(set2)\n"
      ],
      "metadata": {
        "colab": {
          "base_uri": "https://localhost:8080/"
        },
        "id": "RrhGXxW7M4JO",
        "outputId": "b93fbfd7-ffce-47bb-a638-b6c33312caec"
      },
      "execution_count": 9,
      "outputs": [
        {
          "output_type": "execute_result",
          "data": {
            "text/plain": [
              "True"
            ]
          },
          "metadata": {},
          "execution_count": 9
        }
      ]
    },
    {
      "cell_type": "code",
      "source": [
        "lst= [2,5,4,6,7,8,8,6,7,4]\n",
        "set(lst)"
      ],
      "metadata": {
        "id": "pZhPo0HFNEmg"
      },
      "execution_count": null,
      "outputs": []
    },
    {
      "cell_type": "code",
      "source": [
        "text = \" hi everyone i am from gfg data science , data analytics , data engineering , i am teaching in this batch , thanks everyone\"\n",
        "text"
      ],
      "metadata": {
        "colab": {
          "base_uri": "https://localhost:8080/",
          "height": 36
        },
        "id": "LY2aIXU5Nk2P",
        "outputId": "1c89148e-314d-4086-b963-f9dca7812a54"
      },
      "execution_count": 11,
      "outputs": [
        {
          "output_type": "execute_result",
          "data": {
            "text/plain": [
              "' hi everyone i am from gfg data science , data analytics , data engineering , i am teaching in this batch , thanks everyone'"
            ],
            "application/vnd.google.colaboratory.intrinsic+json": {
              "type": "string"
            }
          },
          "metadata": {},
          "execution_count": 11
        }
      ]
    },
    {
      "cell_type": "code",
      "source": [
        "unique = set(text)\n",
        "print(unique)\n",
        "print(len(unique))"
      ],
      "metadata": {
        "id": "dNyszVzMOrua",
        "colab": {
          "base_uri": "https://localhost:8080/"
        },
        "outputId": "ba98b72a-0057-4fad-a8e2-825ffd7cae33"
      },
      "execution_count": 13,
      "outputs": [
        {
          "output_type": "stream",
          "name": "stdout",
          "text": [
            "{'n', 'c', 'r', ' ', 'd', 'i', 'b', 'e', 'f', 'm', 'k', 'v', 'y', 'g', 'h', 'o', ',', 't', 'l', 's', 'a'}\n",
            "21\n"
          ]
        }
      ]
    },
    {
      "cell_type": "code",
      "source": [
        "words = text.split()\n",
        "print(words)"
      ],
      "metadata": {
        "colab": {
          "base_uri": "https://localhost:8080/"
        },
        "id": "WLFA-AFdHiy_",
        "outputId": "07e231da-bf34-4b7e-d953-75ebcbb45935"
      },
      "execution_count": 14,
      "outputs": [
        {
          "output_type": "stream",
          "name": "stdout",
          "text": [
            "['hi', 'everyone', 'i', 'am', 'from', 'gfg', 'data', 'science', ',', 'data', 'analytics', ',', 'data', 'engineering', ',', 'i', 'am', 'teaching', 'in', 'this', 'batch', ',', 'thanks', 'everyone']\n"
          ]
        }
      ]
    },
    {
      "cell_type": "code",
      "source": [
        "unique = set(words)\n",
        "print(unique)\n",
        "print(len(unique))"
      ],
      "metadata": {
        "colab": {
          "base_uri": "https://localhost:8080/"
        },
        "id": "pVtdeHepHi1_",
        "outputId": "971fa4ff-062f-41b0-aa77-deeb2296f4c3"
      },
      "execution_count": 15,
      "outputs": [
        {
          "output_type": "stream",
          "name": "stdout",
          "text": [
            "{'thanks', 'batch', ',', 'science', 'data', 'in', 'everyone', 'engineering', 'hi', 'gfg', 'am', 'analytics', 'i', 'teaching', 'from', 'this'}\n",
            "16\n"
          ]
        }
      ]
    },
    {
      "cell_type": "code",
      "source": [],
      "metadata": {
        "id": "zFxtB9ltHi5H"
      },
      "execution_count": null,
      "outputs": []
    },
    {
      "cell_type": "code",
      "source": [],
      "metadata": {
        "id": "NYHarumAHi8n"
      },
      "execution_count": null,
      "outputs": []
    },
    {
      "cell_type": "code",
      "source": [
        "words"
      ],
      "metadata": {
        "colab": {
          "base_uri": "https://localhost:8080/"
        },
        "id": "T4PF8hSOPdnp",
        "outputId": "62d82e11-d865-41b9-de9a-e0ab5cd0afc6"
      },
      "execution_count": null,
      "outputs": [
        {
          "output_type": "execute_result",
          "data": {
            "text/plain": [
              "['hi',\n",
              " 'everyone',\n",
              " 'i',\n",
              " 'am',\n",
              " 'from',\n",
              " 'gfg',\n",
              " 'data',\n",
              " 'science',\n",
              " ',',\n",
              " 'data',\n",
              " 'analytics',\n",
              " ',',\n",
              " 'data',\n",
              " 'engineering',\n",
              " ',',\n",
              " 'i',\n",
              " 'am',\n",
              " 'teaching',\n",
              " 'in',\n",
              " 'this',\n",
              " 'batch',\n",
              " ',',\n",
              " 'thanks',\n",
              " 'everyone']"
            ]
          },
          "metadata": {},
          "execution_count": 15
        }
      ]
    },
    {
      "cell_type": "code",
      "source": [
        "type(words)"
      ],
      "metadata": {
        "colab": {
          "base_uri": "https://localhost:8080/"
        },
        "id": "rzLnJvUrRILe",
        "outputId": "21c52f58-c760-4c88-f84b-cc7e861fa005"
      },
      "execution_count": null,
      "outputs": [
        {
          "output_type": "execute_result",
          "data": {
            "text/plain": [
              "list"
            ]
          },
          "metadata": {},
          "execution_count": 16
        }
      ]
    },
    {
      "cell_type": "code",
      "source": [
        "unique_words = set(words)\n",
        "unique_words"
      ],
      "metadata": {
        "colab": {
          "base_uri": "https://localhost:8080/"
        },
        "id": "8aVxCx0DRMpV",
        "outputId": "5bd5f14d-fe5f-4e0c-e885-5b14c5e03385"
      },
      "execution_count": null,
      "outputs": [
        {
          "output_type": "execute_result",
          "data": {
            "text/plain": [
              "{',',\n",
              " 'am',\n",
              " 'analytics',\n",
              " 'batch',\n",
              " 'data',\n",
              " 'engineering',\n",
              " 'everyone',\n",
              " 'from',\n",
              " 'gfg',\n",
              " 'hi',\n",
              " 'i',\n",
              " 'in',\n",
              " 'science',\n",
              " 'teaching',\n",
              " 'thanks',\n",
              " 'this'}"
            ]
          },
          "metadata": {},
          "execution_count": 17
        }
      ]
    },
    {
      "cell_type": "code",
      "source": [
        "len(unique_words)"
      ],
      "metadata": {
        "colab": {
          "base_uri": "https://localhost:8080/"
        },
        "id": "hkds80kmRa1d",
        "outputId": "44224967-7aff-4090-b871-5592f075e6f1"
      },
      "execution_count": null,
      "outputs": [
        {
          "output_type": "execute_result",
          "data": {
            "text/plain": [
              "16"
            ]
          },
          "metadata": {},
          "execution_count": 18
        }
      ]
    },
    {
      "cell_type": "code",
      "source": [
        "len(words)-len(unique_words)"
      ],
      "metadata": {
        "colab": {
          "base_uri": "https://localhost:8080/"
        },
        "id": "2P5urug0R6ex",
        "outputId": "da2f8ca2-b7ef-4e04-a40c-cd02c51c0ee5"
      },
      "execution_count": null,
      "outputs": [
        {
          "output_type": "execute_result",
          "data": {
            "text/plain": [
              "8"
            ]
          },
          "metadata": {},
          "execution_count": 19
        }
      ]
    },
    {
      "cell_type": "markdown",
      "source": [
        "DICTIONARIES\n",
        "\n",
        "- variables ,lists\n",
        "- roll_no = [1,2,3,4,5] list1\n",
        "- name = [\"amit\",\"harsh\",\"dhawal\",\"gfg\",\"gfg2.0\"] list2"
      ],
      "metadata": {
        "id": "aQVZT1MpSO7x"
      }
    },
    {
      "cell_type": "code",
      "source": [
        "# dictionaries - key,value\n",
        "my_dict = {1:\"amit\",2:\"harsh\",3:\"dhawal\",4:\"gfg\",5:\"gfg2.0\"}\n",
        "print(my_dict)\n",
        "print(type(my_dict))\n"
      ],
      "metadata": {
        "colab": {
          "base_uri": "https://localhost:8080/"
        },
        "id": "t6OhtxtgSA8H",
        "outputId": "0cffc297-b909-4f05-8892-138ed859e590"
      },
      "execution_count": 16,
      "outputs": [
        {
          "output_type": "stream",
          "name": "stdout",
          "text": [
            "{1: 'amit', 2: 'harsh', 3: 'dhawal', 4: 'gfg', 5: 'gfg2.0'}\n",
            "<class 'dict'>\n"
          ]
        }
      ]
    },
    {
      "cell_type": "code",
      "source": [
        "my_dict = {2,3,4,5,7}\n",
        "type(my_dict)"
      ],
      "metadata": {
        "colab": {
          "base_uri": "https://localhost:8080/"
        },
        "id": "x0V_wJVGTjHp",
        "outputId": "1c45845b-043f-48d2-9399-2d6fa5850caa"
      },
      "execution_count": 17,
      "outputs": [
        {
          "output_type": "execute_result",
          "data": {
            "text/plain": [
              "set"
            ]
          },
          "metadata": {},
          "execution_count": 17
        }
      ]
    },
    {
      "cell_type": "code",
      "source": [
        "student = {\"name\":\"gfg\",\"age\":34,\"marks\":88,\"name\":\"Dhawal\"}\n",
        "student"
      ],
      "metadata": {
        "colab": {
          "base_uri": "https://localhost:8080/"
        },
        "id": "GWwQQhMtTyJN",
        "outputId": "e3ccb870-4c52-46be-9adf-bdde71b5afb8"
      },
      "execution_count": 19,
      "outputs": [
        {
          "output_type": "execute_result",
          "data": {
            "text/plain": [
              "{'name': 'Dhawal', 'age': 34, 'marks': 88}"
            ]
          },
          "metadata": {},
          "execution_count": 19
        }
      ]
    },
    {
      "cell_type": "code",
      "source": [
        "# accesing the elements\n",
        "student[\"grade\"]"
      ],
      "metadata": {
        "colab": {
          "base_uri": "https://localhost:8080/",
          "height": 166
        },
        "id": "2k5G30BhUiRd",
        "outputId": "efef9c26-75f4-4102-a145-b2ae78ec7a0e"
      },
      "execution_count": 25,
      "outputs": [
        {
          "output_type": "error",
          "ename": "KeyError",
          "evalue": "'grade'",
          "traceback": [
            "\u001b[0;31m---------------------------------------------------------------------------\u001b[0m",
            "\u001b[0;31mKeyError\u001b[0m                                  Traceback (most recent call last)",
            "\u001b[0;32m/tmp/ipython-input-2223471867.py\u001b[0m in \u001b[0;36m<cell line: 0>\u001b[0;34m()\u001b[0m\n\u001b[1;32m      1\u001b[0m \u001b[0;31m# accesing the elements\u001b[0m\u001b[0;34m\u001b[0m\u001b[0;34m\u001b[0m\u001b[0m\n\u001b[0;32m----> 2\u001b[0;31m \u001b[0mstudent\u001b[0m\u001b[0;34m[\u001b[0m\u001b[0;34m\"grade\"\u001b[0m\u001b[0;34m]\u001b[0m\u001b[0;34m\u001b[0m\u001b[0;34m\u001b[0m\u001b[0m\n\u001b[0m",
            "\u001b[0;31mKeyError\u001b[0m: 'grade'"
          ]
        }
      ]
    },
    {
      "cell_type": "code",
      "source": [],
      "metadata": {
        "colab": {
          "base_uri": "https://localhost:8080/",
          "height": 164
        },
        "id": "D-qedfqxU_uS",
        "outputId": "d13e9ce3-5737-4245-9a60-e1d3ec3d1d6a"
      },
      "execution_count": null,
      "outputs": [
        {
          "output_type": "error",
          "ename": "KeyError",
          "evalue": "'gfg'",
          "traceback": [
            "\u001b[0;31m---------------------------------------------------------------------------\u001b[0m",
            "\u001b[0;31mKeyError\u001b[0m                                  Traceback (most recent call last)",
            "\u001b[0;32m<ipython-input-24-76584d46112d>\u001b[0m in \u001b[0;36m<cell line: 0>\u001b[0;34m()\u001b[0m\n\u001b[1;32m      1\u001b[0m \u001b[0;31m# we cant access the key from the value\u001b[0m\u001b[0;34m\u001b[0m\u001b[0;34m\u001b[0m\u001b[0m\n\u001b[0;32m----> 2\u001b[0;31m \u001b[0mstudent\u001b[0m\u001b[0;34m[\u001b[0m\u001b[0;34m\"gfg\"\u001b[0m\u001b[0;34m]\u001b[0m\u001b[0;34m\u001b[0m\u001b[0;34m\u001b[0m\u001b[0m\n\u001b[0m",
            "\u001b[0;31mKeyError\u001b[0m: 'gfg'"
          ]
        }
      ]
    },
    {
      "cell_type": "code",
      "source": [
        "# get method\n",
        "student.get(\"name\")"
      ],
      "metadata": {
        "id": "Ld9MvHUgVZ_4",
        "colab": {
          "base_uri": "https://localhost:8080/",
          "height": 36
        },
        "outputId": "daa24228-8503-4822-a118-9ab5d1772eb2"
      },
      "execution_count": 23,
      "outputs": [
        {
          "output_type": "execute_result",
          "data": {
            "text/plain": [
              "'Dhawal'"
            ],
            "application/vnd.google.colaboratory.intrinsic+json": {
              "type": "string"
            }
          },
          "metadata": {},
          "execution_count": 23
        }
      ]
    },
    {
      "cell_type": "code",
      "source": [
        "student.get(\"grade\")"
      ],
      "metadata": {
        "id": "gyRTokKfWBq3"
      },
      "execution_count": 26,
      "outputs": []
    },
    {
      "cell_type": "code",
      "source": [
        "student.get(\"name\",\"not available\") # default value\n"
      ],
      "metadata": {
        "id": "yHAukFVZWElE",
        "colab": {
          "base_uri": "https://localhost:8080/",
          "height": 36
        },
        "outputId": "a14542a6-20d0-4889-f5e2-3c4f8429b06c"
      },
      "execution_count": 28,
      "outputs": [
        {
          "output_type": "execute_result",
          "data": {
            "text/plain": [
              "'Dhawal'"
            ],
            "application/vnd.google.colaboratory.intrinsic+json": {
              "type": "string"
            }
          },
          "metadata": {},
          "execution_count": 28
        }
      ]
    },
    {
      "cell_type": "code",
      "source": [
        "student[\"name\"]=\"Ram\"\n",
        "student"
      ],
      "metadata": {
        "id": "RW0z6CcGWJTi"
      },
      "execution_count": null,
      "outputs": []
    },
    {
      "cell_type": "code",
      "source": [
        "student[\"country\"]= \"India\"\n",
        "student"
      ],
      "metadata": {
        "id": "RDmXjpVhWN27",
        "colab": {
          "base_uri": "https://localhost:8080/"
        },
        "outputId": "366b9bc7-e2c1-4cac-94f8-066202553049"
      },
      "execution_count": 29,
      "outputs": [
        {
          "output_type": "execute_result",
          "data": {
            "text/plain": [
              "{'name': 'Dhawal', 'age': 34, 'marks': 88, 'country': 'India'}"
            ]
          },
          "metadata": {},
          "execution_count": 29
        }
      ]
    },
    {
      "cell_type": "code",
      "source": [
        "del student[\"country\"] # deleting key and value both\n",
        "student"
      ],
      "metadata": {
        "id": "W5qzy6svXnuR",
        "colab": {
          "base_uri": "https://localhost:8080/"
        },
        "outputId": "dccaf07b-1de2-4171-b2ea-c674fd0d53f7"
      },
      "execution_count": 30,
      "outputs": [
        {
          "output_type": "execute_result",
          "data": {
            "text/plain": [
              "{'name': 'Dhawal', 'age': 34, 'marks': 88}"
            ]
          },
          "metadata": {},
          "execution_count": 30
        }
      ]
    },
    {
      "cell_type": "code",
      "source": [
        "student2 = {\"name\":\"gfg\",\"age\":34,\"marks\":88,\"age\":45}\n",
        "student2\n",
        "## dictionary methods -\n",
        "\n"
      ],
      "metadata": {
        "id": "Qh1mmUA9X89b",
        "colab": {
          "base_uri": "https://localhost:8080/"
        },
        "outputId": "40415bd6-609c-492e-d2c6-61789737a46e"
      },
      "execution_count": 31,
      "outputs": [
        {
          "output_type": "execute_result",
          "data": {
            "text/plain": [
              "{'name': 'gfg', 'age': 45, 'marks': 88}"
            ]
          },
          "metadata": {},
          "execution_count": 31
        }
      ]
    },
    {
      "cell_type": "code",
      "source": [
        "k = student2.keys()\n",
        "k"
      ],
      "metadata": {
        "colab": {
          "base_uri": "https://localhost:8080/"
        },
        "id": "yA5oNH_sq-33",
        "outputId": "2dab1f14-4f0c-42d0-af56-3a85727fb3b8"
      },
      "execution_count": 32,
      "outputs": [
        {
          "output_type": "execute_result",
          "data": {
            "text/plain": [
              "dict_keys(['name', 'age', 'marks'])"
            ]
          },
          "metadata": {},
          "execution_count": 32
        }
      ]
    },
    {
      "cell_type": "code",
      "source": [
        "v= student2.values()\n",
        "v"
      ],
      "metadata": {
        "colab": {
          "base_uri": "https://localhost:8080/"
        },
        "id": "XPSLgGsEq--3",
        "outputId": "a7ab6e0c-9aec-468a-e3f4-c0652f18b2f7"
      },
      "execution_count": 33,
      "outputs": [
        {
          "output_type": "execute_result",
          "data": {
            "text/plain": [
              "dict_values(['gfg', 45, 88])"
            ]
          },
          "metadata": {},
          "execution_count": 33
        }
      ]
    },
    {
      "cell_type": "code",
      "source": [
        "i = student2.items()\n",
        "i"
      ],
      "metadata": {
        "colab": {
          "base_uri": "https://localhost:8080/"
        },
        "id": "zyLggQcOq_JQ",
        "outputId": "edff0c96-d986-4da1-c52b-58a62582cb64"
      },
      "execution_count": 34,
      "outputs": [
        {
          "output_type": "execute_result",
          "data": {
            "text/plain": [
              "dict_items([('name', 'gfg'), ('age', 45), ('marks', 88)])"
            ]
          },
          "metadata": {},
          "execution_count": 34
        }
      ]
    },
    {
      "cell_type": "code",
      "source": [
        "# shallow copy\n",
        "student_copy= student2\n",
        "\n"
      ],
      "metadata": {
        "id": "aj1kEnC9q_Uf"
      },
      "execution_count": 35,
      "outputs": []
    },
    {
      "cell_type": "code",
      "source": [
        "student_copy"
      ],
      "metadata": {
        "colab": {
          "base_uri": "https://localhost:8080/"
        },
        "id": "0iIZzigAOPMN",
        "outputId": "132dd8fe-2080-418a-ff21-4df92a52d18e"
      },
      "execution_count": 36,
      "outputs": [
        {
          "output_type": "execute_result",
          "data": {
            "text/plain": [
              "{'name': 'gfg', 'age': 45, 'marks': 88}"
            ]
          },
          "metadata": {},
          "execution_count": 36
        }
      ]
    },
    {
      "cell_type": "code",
      "source": [
        "student2[\"name\"] = \"gfg2\"\n",
        "student2"
      ],
      "metadata": {
        "colab": {
          "base_uri": "https://localhost:8080/"
        },
        "id": "l2N9-R62OPbo",
        "outputId": "ff4ffed4-757c-486c-eb42-b91832379420"
      },
      "execution_count": 37,
      "outputs": [
        {
          "output_type": "execute_result",
          "data": {
            "text/plain": [
              "{'name': 'gfg2', 'age': 45, 'marks': 88}"
            ]
          },
          "metadata": {},
          "execution_count": 37
        }
      ]
    },
    {
      "cell_type": "code",
      "source": [
        "student_copy"
      ],
      "metadata": {
        "colab": {
          "base_uri": "https://localhost:8080/"
        },
        "id": "-Fn5xtfxOP5A",
        "outputId": "f7d71bfd-d90f-4e90-d082-a29a0d040618"
      },
      "execution_count": 38,
      "outputs": [
        {
          "output_type": "execute_result",
          "data": {
            "text/plain": [
              "{'name': 'gfg2', 'age': 45, 'marks': 88}"
            ]
          },
          "metadata": {},
          "execution_count": 38
        }
      ]
    },
    {
      "cell_type": "code",
      "source": [
        "student_copy1 = student2.copy() # copy function\n",
        "student_copy1"
      ],
      "metadata": {
        "colab": {
          "base_uri": "https://localhost:8080/"
        },
        "id": "7XgguTndOmPX",
        "outputId": "3f246c25-c4a5-497e-e75e-d949a0301dc4"
      },
      "execution_count": 39,
      "outputs": [
        {
          "output_type": "execute_result",
          "data": {
            "text/plain": [
              "{'name': 'gfg2', 'age': 45, 'marks': 88}"
            ]
          },
          "metadata": {},
          "execution_count": 39
        }
      ]
    },
    {
      "cell_type": "code",
      "source": [
        "student2[\"name\"]= \"gfg3\"\n",
        "student2"
      ],
      "metadata": {
        "colab": {
          "base_uri": "https://localhost:8080/"
        },
        "id": "HNGpF3WMOmX2",
        "outputId": "7e04dbb9-c164-4e94-e325-a8d289adb40f"
      },
      "execution_count": 40,
      "outputs": [
        {
          "output_type": "execute_result",
          "data": {
            "text/plain": [
              "{'name': 'gfg3', 'age': 45, 'marks': 88}"
            ]
          },
          "metadata": {},
          "execution_count": 40
        }
      ]
    },
    {
      "cell_type": "code",
      "source": [
        "student_copy1"
      ],
      "metadata": {
        "colab": {
          "base_uri": "https://localhost:8080/"
        },
        "id": "18jnfkqBOmbN",
        "outputId": "e1ce2b70-5b01-4cbb-f27c-fbb5c0a5f7c6"
      },
      "execution_count": 41,
      "outputs": [
        {
          "output_type": "execute_result",
          "data": {
            "text/plain": [
              "{'name': 'gfg2', 'age': 45, 'marks': 88}"
            ]
          },
          "metadata": {},
          "execution_count": 41
        }
      ]
    },
    {
      "cell_type": "code",
      "source": [
        "student_copy"
      ],
      "metadata": {
        "colab": {
          "base_uri": "https://localhost:8080/"
        },
        "id": "ryw3_vmxPUx_",
        "outputId": "5077cf55-ea2c-4b06-cdb4-8a8743d4e827"
      },
      "execution_count": null,
      "outputs": [
        {
          "output_type": "execute_result",
          "data": {
            "text/plain": [
              "{'name': 'gfg3', 'age': 45, 'marks': 88}"
            ]
          },
          "metadata": {},
          "execution_count": 36
        }
      ]
    },
    {
      "cell_type": "code",
      "source": [
        "student_copy[\"name\"]= \"gfg4\"\n",
        "student_copy"
      ],
      "metadata": {
        "colab": {
          "base_uri": "https://localhost:8080/"
        },
        "id": "oS5nzUMwPU-w",
        "outputId": "49de1ac4-6be5-4a1c-8b9d-27cde219417d"
      },
      "execution_count": null,
      "outputs": [
        {
          "output_type": "execute_result",
          "data": {
            "text/plain": [
              "{'name': 'gfg4', 'age': 45, 'marks': 88}"
            ]
          },
          "metadata": {},
          "execution_count": 37
        }
      ]
    },
    {
      "cell_type": "code",
      "source": [
        "student2"
      ],
      "metadata": {
        "colab": {
          "base_uri": "https://localhost:8080/"
        },
        "id": "B51EC_XMPVEw",
        "outputId": "2133903a-c889-44fc-c926-7d6f28ffe65e"
      },
      "execution_count": null,
      "outputs": [
        {
          "output_type": "execute_result",
          "data": {
            "text/plain": [
              "{'name': 'gfg4', 'age': 45, 'marks': 88}"
            ]
          },
          "metadata": {},
          "execution_count": 39
        }
      ]
    },
    {
      "cell_type": "code",
      "source": [
        "student_copy1"
      ],
      "metadata": {
        "colab": {
          "base_uri": "https://localhost:8080/"
        },
        "id": "BF1bDiojPVII",
        "outputId": "a8cb6531-65f7-4adf-8423-10b6fc2dd3aa"
      },
      "execution_count": null,
      "outputs": [
        {
          "output_type": "execute_result",
          "data": {
            "text/plain": [
              "{'name': 'gfg2', 'age': 45, 'marks': 88}"
            ]
          },
          "metadata": {},
          "execution_count": 40
        }
      ]
    },
    {
      "cell_type": "code",
      "source": [
        "# dictionary iteration\n",
        "# key iteration\n",
        "for key in student2.keys():\n",
        "  print(key)\n"
      ],
      "metadata": {
        "colab": {
          "base_uri": "https://localhost:8080/"
        },
        "id": "okozW1KuPVKc",
        "outputId": "8053235a-ac88-421b-97bf-e69b72b54051"
      },
      "execution_count": null,
      "outputs": [
        {
          "output_type": "stream",
          "name": "stdout",
          "text": [
            "name\n",
            "age\n",
            "marks\n"
          ]
        }
      ]
    },
    {
      "cell_type": "code",
      "source": [
        "# value iteration\n",
        "for value in student2.values():\n",
        "  print(value)"
      ],
      "metadata": {
        "colab": {
          "base_uri": "https://localhost:8080/"
        },
        "id": "FSJa-y_nQa4t",
        "outputId": "55cef2e2-2627-4ad3-edcf-51065282bb94"
      },
      "execution_count": null,
      "outputs": [
        {
          "output_type": "stream",
          "name": "stdout",
          "text": [
            "gfg4\n",
            "45\n",
            "88\n"
          ]
        }
      ]
    },
    {
      "cell_type": "code",
      "source": [
        "for key,value in student2.items():\n",
        "  print(f\"{key}:{value}\")"
      ],
      "metadata": {
        "colab": {
          "base_uri": "https://localhost:8080/"
        },
        "id": "UEOx5BARQa_y",
        "outputId": "bdf1994e-afd4-479f-ea4d-d0193cc710aa"
      },
      "execution_count": null,
      "outputs": [
        {
          "output_type": "stream",
          "name": "stdout",
          "text": [
            "name:gfg4\n",
            "age:45\n",
            "marks:88\n"
          ]
        }
      ]
    },
    {
      "cell_type": "code",
      "source": [
        "# nested dictionaries\n",
        "students = {\n",
        "    \"student1\":{\"name\":\"gfg\",\"age\":22},\n",
        "    \"student2\":{\"name\":\"gfg2\",\"age\":44},\n",
        "    \"student3\":{\"name\":\"gfg3\",\"age\":33}\n",
        "}\n",
        "students\n"
      ],
      "metadata": {
        "colab": {
          "base_uri": "https://localhost:8080/"
        },
        "id": "chTKxjvWQbDI",
        "outputId": "14676013-fd4d-420f-9484-14d119052797"
      },
      "execution_count": 42,
      "outputs": [
        {
          "output_type": "execute_result",
          "data": {
            "text/plain": [
              "{'student1': {'name': 'gfg', 'age': 22},\n",
              " 'student2': {'name': 'gfg2', 'age': 44},\n",
              " 'student3': {'name': 'gfg3', 'age': 33}}"
            ]
          },
          "metadata": {},
          "execution_count": 42
        }
      ]
    },
    {
      "cell_type": "code",
      "source": [
        "students[\"student2\"][\"name\"]"
      ],
      "metadata": {
        "colab": {
          "base_uri": "https://localhost:8080/",
          "height": 36
        },
        "id": "RAC6HyncQbGc",
        "outputId": "d45548ef-03e1-4b3a-a273-bfb41c57f985"
      },
      "execution_count": 43,
      "outputs": [
        {
          "output_type": "execute_result",
          "data": {
            "text/plain": [
              "'gfg2'"
            ],
            "application/vnd.google.colaboratory.intrinsic+json": {
              "type": "string"
            }
          },
          "metadata": {},
          "execution_count": 43
        }
      ]
    },
    {
      "cell_type": "code",
      "source": [
        "students[\"student3\"][\"age\"]"
      ],
      "metadata": {
        "colab": {
          "base_uri": "https://localhost:8080/"
        },
        "id": "5O8WD4r8S24I",
        "outputId": "2d310e78-e73e-4514-d24d-f296c8b33d63"
      },
      "execution_count": null,
      "outputs": [
        {
          "output_type": "execute_result",
          "data": {
            "text/plain": [
              "33"
            ]
          },
          "metadata": {},
          "execution_count": 48
        }
      ]
    },
    {
      "cell_type": "code",
      "source": [
        "students.items()"
      ],
      "metadata": {
        "colab": {
          "base_uri": "https://localhost:8080/"
        },
        "id": "117tOn3TS27-",
        "outputId": "ed2ee27a-40d8-490f-fd96-479544e9aaa3"
      },
      "execution_count": null,
      "outputs": [
        {
          "output_type": "execute_result",
          "data": {
            "text/plain": [
              "dict_items([('student1', {'name': 'gfg', 'age': 22}), ('student2', {'name': 'gfg2', 'age': 44}), ('student3', {'name': 'gfg3', 'age': 33})])"
            ]
          },
          "metadata": {},
          "execution_count": 49
        }
      ]
    },
    {
      "cell_type": "code",
      "source": [
        "for student_id , student_info in students.items():\n",
        "  print(f\"{student_id}:{student_info}\")\n",
        "  for key,value in student_info.items():\n",
        "    print(f\"{key}:{value}\")"
      ],
      "metadata": {
        "colab": {
          "base_uri": "https://localhost:8080/"
        },
        "id": "08lIGUISS2-_",
        "outputId": "bdfb292f-2930-476d-d286-6534a051d326"
      },
      "execution_count": null,
      "outputs": [
        {
          "output_type": "stream",
          "name": "stdout",
          "text": [
            "student1:{'name': 'gfg', 'age': 22}\n",
            "name:gfg\n",
            "age:22\n",
            "student2:{'name': 'gfg2', 'age': 44}\n",
            "name:gfg2\n",
            "age:44\n",
            "student3:{'name': 'gfg3', 'age': 33}\n",
            "name:gfg3\n",
            "age:33\n"
          ]
        }
      ]
    },
    {
      "cell_type": "code",
      "source": [
        "a = [student[\"age\"] for student in students.values()]\n",
        "a"
      ],
      "metadata": {
        "colab": {
          "base_uri": "https://localhost:8080/"
        },
        "id": "VY1o3RCIVIcN",
        "outputId": "ace51448-5667-4559-b87a-32ffd4d33f41"
      },
      "execution_count": null,
      "outputs": [
        {
          "output_type": "execute_result",
          "data": {
            "text/plain": [
              "[22, 44, 33]"
            ]
          },
          "metadata": {},
          "execution_count": 55
        }
      ]
    },
    {
      "cell_type": "code",
      "source": [
        "# dictionary comprehension\n",
        "square = [x**2 for x in range(5)]\n",
        "square\n"
      ],
      "metadata": {
        "colab": {
          "base_uri": "https://localhost:8080/"
        },
        "id": "hgRDUctTVIfw",
        "outputId": "56459c53-cc50-4788-f0d6-aa165f3b4b00"
      },
      "execution_count": 44,
      "outputs": [
        {
          "output_type": "execute_result",
          "data": {
            "text/plain": [
              "[0, 1, 4, 9, 16]"
            ]
          },
          "metadata": {},
          "execution_count": 44
        }
      ]
    },
    {
      "cell_type": "code",
      "source": [
        "sqaure = {x:x**2 for x in range(5)}\n",
        "sqaure"
      ],
      "metadata": {
        "colab": {
          "base_uri": "https://localhost:8080/"
        },
        "id": "7ZL4Btb3YAK5",
        "outputId": "619eba3e-dfb4-467e-d1c1-24fffd0c7fae"
      },
      "execution_count": 45,
      "outputs": [
        {
          "output_type": "execute_result",
          "data": {
            "text/plain": [
              "{0: 0, 1: 1, 2: 4, 3: 9, 4: 16}"
            ]
          },
          "metadata": {},
          "execution_count": 45
        }
      ]
    },
    {
      "cell_type": "code",
      "source": [
        "## count each number occurance in a list\n",
        "numbers = [1,2,2,3,3,3,4,4,4,4]\n",
        "freq = {}\n",
        "for i in numbers:   # {1:1,2:2  }\n",
        "  if i in freq:\n",
        "    freq[i]+=1\n",
        "  else:\n",
        "    freq[i]=1\n",
        "\n",
        "print(freq)"
      ],
      "metadata": {
        "colab": {
          "base_uri": "https://localhost:8080/"
        },
        "id": "xKvS83MnYAOO",
        "outputId": "ff41e832-3825-4086-c5ad-1627ddb4aaf8"
      },
      "execution_count": 46,
      "outputs": [
        {
          "output_type": "stream",
          "name": "stdout",
          "text": [
            "{1: 1, 2: 2, 3: 3, 4: 4}\n"
          ]
        }
      ]
    },
    {
      "cell_type": "code",
      "source": [],
      "metadata": {
        "id": "-kLynUrXYAbO"
      },
      "execution_count": null,
      "outputs": []
    },
    {
      "cell_type": "code",
      "source": [],
      "metadata": {
        "id": "G-6ahwmXYAek"
      },
      "execution_count": null,
      "outputs": []
    },
    {
      "cell_type": "code",
      "source": [],
      "metadata": {
        "id": "WWVsrmZgS3Cf"
      },
      "execution_count": null,
      "outputs": []
    },
    {
      "cell_type": "markdown",
      "source": [
        "Question:\n",
        "\n",
        "You are given a list of integers representing the IDs of students who have signed up for an event, but some students have signed up multiple times by mistake. Your task is to:\n",
        "\n",
        "Remove duplicates to get the unique IDs of students who signed up. Identify students who have both signed up and attended the event (IDs are given in a separate list of attendees). Classify each student as: \"Attended\" if they signed up and attended. \"No-show\" if they signed up but did not attend. Finally, print a summary showing the count of \"Attended\" and \"No-show\" students. Input:\n",
        "\n",
        "A list of integers signups, where each element represents a student ID who signed up for the event. (It may contain duplicates.) A list of integers attendees, where each element represents a student ID who attended the event. Output: Print each unique student ID along with its status (\"Attended\" or \"No-show\") and a summary like the example below."
      ],
      "metadata": {
        "id": "etcIHDdtrAjA"
      }
    },
    {
      "cell_type": "code",
      "source": [
        "signups = [101,102,103,104,101,105,106,102]\n",
        "attendees = [102,104,106,107]"
      ],
      "metadata": {
        "id": "d1J-tmPBrDmW"
      },
      "execution_count": null,
      "outputs": []
    },
    {
      "cell_type": "code",
      "source": [
        "# expected output\n",
        "101:no show\n",
        "102:attended\n",
        "103:no show\n",
        "107:no signups\n",
        "\n",
        "summary\n",
        "attended :\n",
        "no show"
      ],
      "metadata": {
        "id": "75-s2NaNJ2M6"
      },
      "execution_count": null,
      "outputs": []
    },
    {
      "cell_type": "code",
      "source": [
        "signups = [101,102,103,104,101,105,106,102]\n",
        "attendees = [102,104,106,107]\n",
        "\n",
        "unique_signups = set(signups)\n",
        "unique_attendees = set(attendees)\n",
        "print(unique_signups)\n",
        "print(unique_attendees)"
      ],
      "metadata": {
        "colab": {
          "base_uri": "https://localhost:8080/"
        },
        "id": "BiLs3LX3cicV",
        "outputId": "7bb47115-f587-46e4-8f38-bf719f1978db"
      },
      "execution_count": null,
      "outputs": [
        {
          "output_type": "stream",
          "name": "stdout",
          "text": [
            "{101, 102, 103, 104, 105, 106}\n",
            "{104, 106, 107, 102}\n"
          ]
        }
      ]
    },
    {
      "cell_type": "code",
      "source": [
        "attended_count=0\n",
        "no_show_count=0\n",
        "for student_id in unique_signups:\n",
        "  if student_id in unique_attendees:\n",
        "    attended_count+=1\n",
        "    print(f\"{student_id}:attended\")\n",
        "  else:\n",
        "    no_show_count+=1\n",
        "    print(f\"{student_id}:no show\")\n",
        "\n",
        "print(\"\\nsummmary\")\n",
        "print(attended_count)\n",
        "print(no_show_count)"
      ],
      "metadata": {
        "colab": {
          "base_uri": "https://localhost:8080/"
        },
        "id": "kGNY4UlwcipJ",
        "outputId": "c5cb0720-f61c-4ea8-f141-7b62148d61e7"
      },
      "execution_count": null,
      "outputs": [
        {
          "output_type": "stream",
          "name": "stdout",
          "text": [
            "101:no show\n",
            "102:attended\n",
            "103:no show\n",
            "104:attended\n",
            "105:no show\n",
            "106:attended\n",
            "\n",
            "summmary\n",
            "3\n",
            "3\n"
          ]
        }
      ]
    },
    {
      "cell_type": "code",
      "source": [],
      "metadata": {
        "id": "YuvBrBNaJ2ji"
      },
      "execution_count": null,
      "outputs": []
    },
    {
      "cell_type": "markdown",
      "source": [
        "Unique Common Elements\n",
        "Problem: You are given two lists of integers. Write a program to:\n",
        "\n",
        "Find the unique common elements between the two lists. Print these common elements in sorted order. If there are no common elements, print \"No common elements\"."
      ],
      "metadata": {
        "id": "t2Ve-Wk1rE4_"
      }
    },
    {
      "cell_type": "code",
      "source": [
        "list1 = [5,6,7,1,2,3,4,8,9,2]\n",
        "\n",
        "list2 = [8,9,5,6,10,6]\n",
        "\n"
      ],
      "metadata": {
        "id": "4fY0CfX4sd5g"
      },
      "execution_count": null,
      "outputs": []
    },
    {
      "cell_type": "code",
      "source": [
        "set1 = set(list1)\n",
        "set2 = set(list2)\n",
        "print(set1)\n",
        "print(set2)"
      ],
      "metadata": {
        "colab": {
          "base_uri": "https://localhost:8080/"
        },
        "id": "VNx0FQqxslmb",
        "outputId": "2cde6b8e-1c42-4f2b-8d98-e7597bb2b04d"
      },
      "execution_count": null,
      "outputs": [
        {
          "output_type": "stream",
          "name": "stdout",
          "text": [
            "{1, 2, 3, 4, 5, 6, 7, 8, 9}\n",
            "{5, 6, 8, 9, 10}\n"
          ]
        }
      ]
    },
    {
      "cell_type": "code",
      "source": [
        "Common_elements = set1.intersection(set2)\n",
        "if Common_elements:\n",
        "  print(\"common elements are \",sorted(Common_elements))\n",
        "else:\n",
        "  print(\"no commmon elements\")"
      ],
      "metadata": {
        "colab": {
          "base_uri": "https://localhost:8080/"
        },
        "id": "5g0mM_IyJ33W",
        "outputId": "c7733aa3-bf3a-4d05-f7c1-27cffca2730d"
      },
      "execution_count": null,
      "outputs": [
        {
          "output_type": "stream",
          "name": "stdout",
          "text": [
            "common elements are  [5, 6, 8, 9]\n"
          ]
        }
      ]
    },
    {
      "cell_type": "code",
      "source": [
        "type(Common_elements)"
      ],
      "metadata": {
        "colab": {
          "base_uri": "https://localhost:8080/"
        },
        "id": "s0GkvVq7hp_s",
        "outputId": "51b90b8d-00e6-41fb-aa75-832787dc0ed1"
      },
      "execution_count": null,
      "outputs": [
        {
          "output_type": "execute_result",
          "data": {
            "text/plain": [
              "set"
            ]
          },
          "metadata": {},
          "execution_count": 73
        }
      ]
    },
    {
      "cell_type": "markdown",
      "source": [
        "Shopping Cart Analysis\n",
        "Problem: You are given two lists:\n",
        "\n",
        "**CART:**\n",
        " A list of items purchased by a user (may contain duplicates).\n",
        "**INVENTORY:**\n",
        "   A list of items left in stock. Write a program to:\n",
        "\n",
        "- Identify and print items purchased by the user that are not in stock.\n",
        "-  Count the number of unique items purchased by the user."
      ],
      "metadata": {
        "id": "x3tXNvEdzxdZ"
      }
    },
    {
      "cell_type": "code",
      "source": [
        "cart = [\"apple\",\"mango\",\"banana\",\"orange\",\"apple\",\"grapes\"]\n",
        "inventory = [\"apple\",\"mango\",\"banana\",\"grape\"]\n",
        "# output\n",
        "# out of stock items = {orange}\n",
        "# unique items purchased\n"
      ],
      "metadata": {
        "id": "kwiQ0-w5zzHy"
      },
      "execution_count": null,
      "outputs": []
    }
  ]
}