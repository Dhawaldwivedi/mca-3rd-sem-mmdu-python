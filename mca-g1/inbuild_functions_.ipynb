{
  "nbformat": 4,
  "nbformat_minor": 0,
  "metadata": {
    "colab": {
      "provenance": [],
      "authorship_tag": "ABX9TyPkXCsCzpkINEAQ/J7smQvF",
      "include_colab_link": true
    },
    "kernelspec": {
      "name": "python3",
      "display_name": "Python 3"
    },
    "language_info": {
      "name": "python"
    }
  },
  "cells": [
    {
      "cell_type": "markdown",
      "metadata": {
        "id": "view-in-github",
        "colab_type": "text"
      },
      "source": [
        "<a href=\"https://colab.research.google.com/github/Dhawaldwivedi/mca-3rd-sem-mmdu-python/blob/main/mca-g1/inbuild_functions_.ipynb\" target=\"_parent\"><img src=\"https://colab.research.google.com/assets/colab-badge.svg\" alt=\"Open In Colab\"/></a>"
      ]
    },
    {
      "cell_type": "code",
      "source": [
        "# math\n",
        "import math"
      ],
      "metadata": {
        "id": "_EjA5DNnO_2m"
      },
      "execution_count": 1,
      "outputs": []
    },
    {
      "cell_type": "code",
      "source": [
        "x = 45.677"
      ],
      "metadata": {
        "id": "t8Sgtgxwb0t1"
      },
      "execution_count": 2,
      "outputs": []
    },
    {
      "cell_type": "code",
      "source": [
        "math.exp(x)"
      ],
      "metadata": {
        "colab": {
          "base_uri": "https://localhost:8080/"
        },
        "id": "uTkB25iib4Fj",
        "outputId": "c606e492-cf1d-42b2-ca80-18989b62bcd0"
      },
      "execution_count": 3,
      "outputs": [
        {
          "output_type": "execute_result",
          "data": {
            "text/plain": [
              "6.8749421784715665e+19"
            ]
          },
          "metadata": {},
          "execution_count": 3
        }
      ]
    },
    {
      "cell_type": "code",
      "source": [
        "math.log10(x)"
      ],
      "metadata": {
        "colab": {
          "base_uri": "https://localhost:8080/"
        },
        "id": "USg7h6sXb7qO",
        "outputId": "d07e5b04-fe88-472c-c92e-6abd26e90cce"
      },
      "execution_count": 4,
      "outputs": [
        {
          "output_type": "execute_result",
          "data": {
            "text/plain": [
              "1.659697572334321"
            ]
          },
          "metadata": {},
          "execution_count": 4
        }
      ]
    },
    {
      "cell_type": "code",
      "source": [
        "math.sin(x)"
      ],
      "metadata": {
        "colab": {
          "base_uri": "https://localhost:8080/"
        },
        "id": "NTEH-Juxb-mi",
        "outputId": "e12270b0-e21f-4a8b-8d13-c5f4945040a0"
      },
      "execution_count": 5,
      "outputs": [
        {
          "output_type": "execute_result",
          "data": {
            "text/plain": [
              "0.9923334029807036"
            ]
          },
          "metadata": {},
          "execution_count": 5
        }
      ]
    },
    {
      "cell_type": "code",
      "source": [
        "math.sqrt(x)"
      ],
      "metadata": {
        "colab": {
          "base_uri": "https://localhost:8080/"
        },
        "id": "P5_qBfEBcEKW",
        "outputId": "44eeb0e9-689f-4269-de5a-a1b265cfc5cc"
      },
      "execution_count": 6,
      "outputs": [
        {
          "output_type": "execute_result",
          "data": {
            "text/plain": [
              "6.758476159608762"
            ]
          },
          "metadata": {},
          "execution_count": 6
        }
      ]
    },
    {
      "cell_type": "code",
      "source": [
        "# ceil and floor functions\n",
        "math.ceil(x)"
      ],
      "metadata": {
        "colab": {
          "base_uri": "https://localhost:8080/"
        },
        "id": "O1IpmewmcG8u",
        "outputId": "9c6fb6d2-433c-4b84-8321-78e421b06146"
      },
      "execution_count": 7,
      "outputs": [
        {
          "output_type": "execute_result",
          "data": {
            "text/plain": [
              "46"
            ]
          },
          "metadata": {},
          "execution_count": 7
        }
      ]
    },
    {
      "cell_type": "code",
      "source": [
        "math.floor(x)"
      ],
      "metadata": {
        "colab": {
          "base_uri": "https://localhost:8080/"
        },
        "id": "OgWGUpRfdGOD",
        "outputId": "10a4c878-b397-41dc-a2de-f6f3348f0528"
      },
      "execution_count": 8,
      "outputs": [
        {
          "output_type": "execute_result",
          "data": {
            "text/plain": [
              "45"
            ]
          },
          "metadata": {},
          "execution_count": 8
        }
      ]
    },
    {
      "cell_type": "code",
      "source": [
        "math.trunc(x)"
      ],
      "metadata": {
        "colab": {
          "base_uri": "https://localhost:8080/"
        },
        "id": "MwfPF9FUdJhE",
        "outputId": "4b8a129a-baee-4c08-bd03-efdfc87b2bf7"
      },
      "execution_count": 9,
      "outputs": [
        {
          "output_type": "execute_result",
          "data": {
            "text/plain": [
              "45"
            ]
          },
          "metadata": {},
          "execution_count": 9
        }
      ]
    },
    {
      "cell_type": "code",
      "source": [
        "z = 6.138476159608762\n",
        "round(z,1)"
      ],
      "metadata": {
        "colab": {
          "base_uri": "https://localhost:8080/"
        },
        "id": "F8-rq-zedWK0",
        "outputId": "5abba38e-ca1a-482d-f95b-cde4fd06622e"
      },
      "execution_count": 51,
      "outputs": [
        {
          "output_type": "execute_result",
          "data": {
            "text/plain": [
              "6.1"
            ]
          },
          "metadata": {},
          "execution_count": 51
        }
      ]
    },
    {
      "cell_type": "code",
      "source": [
        "y = -46.65548"
      ],
      "metadata": {
        "id": "wyId7kevdjhX"
      },
      "execution_count": 12,
      "outputs": []
    },
    {
      "cell_type": "code",
      "source": [
        "math.ceil(y)"
      ],
      "metadata": {
        "colab": {
          "base_uri": "https://localhost:8080/"
        },
        "id": "dcRwPae7drht",
        "outputId": "243f6683-d299-473d-9f2f-46a659864f33"
      },
      "execution_count": 13,
      "outputs": [
        {
          "output_type": "execute_result",
          "data": {
            "text/plain": [
              "-46"
            ]
          },
          "metadata": {},
          "execution_count": 13
        }
      ]
    },
    {
      "cell_type": "code",
      "source": [
        "math.floor(y)"
      ],
      "metadata": {
        "colab": {
          "base_uri": "https://localhost:8080/"
        },
        "id": "WGdt6PJsdwMh",
        "outputId": "450d1b27-f00e-45f3-e57d-a16f96f857d8"
      },
      "execution_count": 14,
      "outputs": [
        {
          "output_type": "execute_result",
          "data": {
            "text/plain": [
              "-47"
            ]
          },
          "metadata": {},
          "execution_count": 14
        }
      ]
    },
    {
      "cell_type": "code",
      "source": [
        "math.trunc(y)"
      ],
      "metadata": {
        "id": "VaB8BrJad07F"
      },
      "execution_count": null,
      "outputs": []
    },
    {
      "cell_type": "code",
      "source": [
        "math.pi"
      ],
      "metadata": {
        "colab": {
          "base_uri": "https://localhost:8080/"
        },
        "id": "cqaF01fQd3Mp",
        "outputId": "8d673109-cb1c-45ba-acae-196984eb1fab"
      },
      "execution_count": 15,
      "outputs": [
        {
          "output_type": "execute_result",
          "data": {
            "text/plain": [
              "3.141592653589793"
            ]
          },
          "metadata": {},
          "execution_count": 15
        }
      ]
    },
    {
      "cell_type": "code",
      "source": [
        "# factorial 5! = 5*4*3*2*1= 120\n",
        "math.factorial(8)"
      ],
      "metadata": {
        "colab": {
          "base_uri": "https://localhost:8080/"
        },
        "id": "UVM_lSvEd_GH",
        "outputId": "d1a373ab-dc07-4dfd-efd6-f566f581c802"
      },
      "execution_count": 16,
      "outputs": [
        {
          "output_type": "execute_result",
          "data": {
            "text/plain": [
              "40320"
            ]
          },
          "metadata": {},
          "execution_count": 16
        }
      ]
    },
    {
      "cell_type": "code",
      "source": [
        "# random\n",
        "import random"
      ],
      "metadata": {
        "id": "p9o9BWGLeUM4"
      },
      "execution_count": 17,
      "outputs": []
    },
    {
      "cell_type": "code",
      "source": [
        "random.random()"
      ],
      "metadata": {
        "colab": {
          "base_uri": "https://localhost:8080/"
        },
        "id": "6qYpUj2iehuq",
        "outputId": "f5b1f218-e1ee-4ca9-aa0c-3db2707677c5"
      },
      "execution_count": 25,
      "outputs": [
        {
          "output_type": "execute_result",
          "data": {
            "text/plain": [
              "0.14148317354875428"
            ]
          },
          "metadata": {},
          "execution_count": 25
        }
      ]
    },
    {
      "cell_type": "code",
      "source": [
        "math.trunc(random.random()*100)"
      ],
      "metadata": {
        "colab": {
          "base_uri": "https://localhost:8080/"
        },
        "id": "qEaYt_vpekG3",
        "outputId": "26825de5-8fb7-414e-ec75-786b3233c71b"
      },
      "execution_count": 27,
      "outputs": [
        {
          "output_type": "execute_result",
          "data": {
            "text/plain": [
              "12"
            ]
          },
          "metadata": {},
          "execution_count": 27
        }
      ]
    },
    {
      "cell_type": "code",
      "source": [
        "random.randint(1,7)"
      ],
      "metadata": {
        "colab": {
          "base_uri": "https://localhost:8080/"
        },
        "id": "p7TbaP-zfUEl",
        "outputId": "58f675cb-5f8e-4ee9-db1e-7cc8c31c5e79"
      },
      "execution_count": 33,
      "outputs": [
        {
          "output_type": "execute_result",
          "data": {
            "text/plain": [
              "5"
            ]
          },
          "metadata": {},
          "execution_count": 33
        }
      ]
    },
    {
      "cell_type": "code",
      "source": [
        "random.choice([1,43,56,78,2,3,90])"
      ],
      "metadata": {
        "colab": {
          "base_uri": "https://localhost:8080/"
        },
        "id": "TNvItUfNfoGF",
        "outputId": "cb6da1f1-25dc-4ca0-c36b-893ae27dccef"
      },
      "execution_count": 38,
      "outputs": [
        {
          "output_type": "execute_result",
          "data": {
            "text/plain": [
              "43"
            ]
          },
          "metadata": {},
          "execution_count": 38
        }
      ]
    },
    {
      "cell_type": "code",
      "source": [
        "random.sample([1,43,56,78,2,3,90],5)"
      ],
      "metadata": {
        "colab": {
          "base_uri": "https://localhost:8080/"
        },
        "id": "Zb1WF9JUga4b",
        "outputId": "f78025ba-7e97-4e7e-8969-a6de4c3a5a68"
      },
      "execution_count": 42,
      "outputs": [
        {
          "output_type": "execute_result",
          "data": {
            "text/plain": [
              "[3, 56, 2, 1, 78]"
            ]
          },
          "metadata": {},
          "execution_count": 42
        }
      ]
    },
    {
      "cell_type": "code",
      "source": [
        "# write a function to calculate the compound interest - principle , rate , time\n",
        "# math.pow(a,b)\n"
      ],
      "metadata": {
        "id": "Na2p5WyXgsMB"
      },
      "execution_count": null,
      "outputs": []
    },
    {
      "cell_type": "code",
      "source": [
        "math.pow(5,4)"
      ],
      "metadata": {
        "colab": {
          "base_uri": "https://localhost:8080/"
        },
        "id": "T6QlP5TUj_k8",
        "outputId": "d0dd5e9c-b7ca-46d2-f3b9-b842027995b5"
      },
      "execution_count": 43,
      "outputs": [
        {
          "output_type": "execute_result",
          "data": {
            "text/plain": [
              "625.0"
            ]
          },
          "metadata": {},
          "execution_count": 43
        }
      ]
    },
    {
      "cell_type": "code",
      "source": [
        "# datetime\n",
        "import datetime"
      ],
      "metadata": {
        "id": "uZiF2x_VkT2E"
      },
      "execution_count": 52,
      "outputs": []
    },
    {
      "cell_type": "code",
      "source": [
        "print(datetime.datetime.now())"
      ],
      "metadata": {
        "colab": {
          "base_uri": "https://localhost:8080/"
        },
        "id": "sfVm6s7ulaHB",
        "outputId": "fff89046-84a2-4e4f-cdd4-6c3fcdf22159"
      },
      "execution_count": 53,
      "outputs": [
        {
          "output_type": "stream",
          "name": "stdout",
          "text": [
            "2025-09-17 03:50:12.474006\n"
          ]
        }
      ]
    },
    {
      "cell_type": "code",
      "source": [
        "print(datetime.datetime(2020,10,22,10,20,00))  # YY,MM,DD HH:MM:SS"
      ],
      "metadata": {
        "colab": {
          "base_uri": "https://localhost:8080/"
        },
        "id": "i9oOnATbldgu",
        "outputId": "f8ef3dc5-f821-439d-95c2-68c30d514af1"
      },
      "execution_count": 46,
      "outputs": [
        {
          "output_type": "stream",
          "name": "stdout",
          "text": [
            "2020-10-22 10:20:00\n"
          ]
        }
      ]
    },
    {
      "cell_type": "code",
      "source": [
        "#strftime\n",
        "print(datetime.datetime.now().strftime(\"%d/%m/%y %H:%M:%S\")) # formatting"
      ],
      "metadata": {
        "colab": {
          "base_uri": "https://localhost:8080/"
        },
        "id": "SaGpKE5Vl_dl",
        "outputId": "e9effef9-d804-46fe-e55f-0dd9b3596b38"
      },
      "execution_count": 54,
      "outputs": [
        {
          "output_type": "stream",
          "name": "stdout",
          "text": [
            "17/09/25 03:51:12\n"
          ]
        }
      ]
    },
    {
      "cell_type": "code",
      "source": [
        "import pytz"
      ],
      "metadata": {
        "id": "p9ZcJAusmpUy"
      },
      "execution_count": 55,
      "outputs": []
    },
    {
      "cell_type": "code",
      "source": [
        "timezone = pytz.timezone(\"Asia/Kolkata\")\n",
        "current_india_time = datetime.datetime.now(timezone)\n",
        "print(current_india_time)"
      ],
      "metadata": {
        "colab": {
          "base_uri": "https://localhost:8080/"
        },
        "id": "eLx1LbXhm4gR",
        "outputId": "410b3c26-37a2-454a-eb51-0ade0f99ed52"
      },
      "execution_count": 57,
      "outputs": [
        {
          "output_type": "stream",
          "name": "stdout",
          "text": [
            "2025-09-17 09:23:40.200376+05:30\n"
          ]
        }
      ]
    },
    {
      "cell_type": "code",
      "source": [
        "# string functions\n",
        "import string"
      ],
      "metadata": {
        "id": "b3VwP1Z6nLNC"
      },
      "execution_count": 58,
      "outputs": []
    },
    {
      "cell_type": "code",
      "source": [
        "print(string.digits)"
      ],
      "metadata": {
        "colab": {
          "base_uri": "https://localhost:8080/"
        },
        "id": "iphndKiOnhpB",
        "outputId": "91aa64ae-0155-4ecf-f829-0e1921761889"
      },
      "execution_count": 59,
      "outputs": [
        {
          "output_type": "stream",
          "name": "stdout",
          "text": [
            "0123456789\n"
          ]
        }
      ]
    },
    {
      "cell_type": "code",
      "source": [
        "x = \"data science\"\n",
        "type(x)"
      ],
      "metadata": {
        "colab": {
          "base_uri": "https://localhost:8080/"
        },
        "id": "YKQFfVWonlt6",
        "outputId": "abf313f5-7fb8-4113-c962-f420727770e4"
      },
      "execution_count": 60,
      "outputs": [
        {
          "output_type": "execute_result",
          "data": {
            "text/plain": [
              "str"
            ]
          },
          "metadata": {},
          "execution_count": 60
        }
      ]
    },
    {
      "cell_type": "code",
      "source": [
        "print(x.upper())"
      ],
      "metadata": {
        "colab": {
          "base_uri": "https://localhost:8080/"
        },
        "id": "vTY0SPGUnsOS",
        "outputId": "0c9b2fab-a253-4faa-dee5-977fc8e4add5"
      },
      "execution_count": 61,
      "outputs": [
        {
          "output_type": "stream",
          "name": "stdout",
          "text": [
            "DATA SCIENCE\n"
          ]
        }
      ]
    },
    {
      "cell_type": "code",
      "source": [
        "print(x.lower())\n",
        "print(x.title())\n",
        "print(x.capitalize())"
      ],
      "metadata": {
        "colab": {
          "base_uri": "https://localhost:8080/"
        },
        "id": "JiPD_2W-nx0R",
        "outputId": "bf0f60a6-8fbc-43b6-9470-7632bf95e3f1"
      },
      "execution_count": 62,
      "outputs": [
        {
          "output_type": "stream",
          "name": "stdout",
          "text": [
            "data science\n",
            "Data Science\n",
            "Data science\n"
          ]
        }
      ]
    },
    {
      "cell_type": "code",
      "source": [
        "y = \"233\"\n",
        "print(y.isdigit())\n",
        "print(x.isdigit())"
      ],
      "metadata": {
        "colab": {
          "base_uri": "https://localhost:8080/"
        },
        "id": "zJbZCbApn4Xf",
        "outputId": "495f5789-3366-49ec-94db-0c932281f9a3"
      },
      "execution_count": 63,
      "outputs": [
        {
          "output_type": "stream",
          "name": "stdout",
          "text": [
            "True\n",
            "False\n"
          ]
        }
      ]
    },
    {
      "cell_type": "code",
      "source": [
        "txt = ' '\n",
        "print(txt.isspace())"
      ],
      "metadata": {
        "colab": {
          "base_uri": "https://localhost:8080/"
        },
        "id": "5s-mZNwQoNQC",
        "outputId": "39b231e0-fe89-45a5-c59f-a4e95f9959b2"
      },
      "execution_count": 64,
      "outputs": [
        {
          "output_type": "stream",
          "name": "stdout",
          "text": [
            "True\n"
          ]
        }
      ]
    },
    {
      "cell_type": "code",
      "source": [
        "len(x)"
      ],
      "metadata": {
        "colab": {
          "base_uri": "https://localhost:8080/"
        },
        "id": "g5y1ZPX8oWzC",
        "outputId": "a23e7210-3589-4f91-f2b9-4a26936281f7"
      },
      "execution_count": 65,
      "outputs": [
        {
          "output_type": "execute_result",
          "data": {
            "text/plain": [
              "12"
            ]
          },
          "metadata": {},
          "execution_count": 65
        }
      ]
    },
    {
      "cell_type": "markdown",
      "source": [
        "Lambda Function"
      ],
      "metadata": {
        "id": "6bw3fZDdo0l3"
      }
    },
    {
      "cell_type": "code",
      "source": [
        "def add(a,b):\n",
        "  return a+b\n",
        "add(4,6)\n"
      ],
      "metadata": {
        "colab": {
          "base_uri": "https://localhost:8080/"
        },
        "id": "5AOC28bZodbH",
        "outputId": "57acd516-5152-4f79-a0d9-dbdc411cb2e0"
      },
      "execution_count": 66,
      "outputs": [
        {
          "output_type": "execute_result",
          "data": {
            "text/plain": [
              "10"
            ]
          },
          "metadata": {},
          "execution_count": 66
        }
      ]
    },
    {
      "cell_type": "code",
      "source": [
        "# lambda argument:expression\n",
        "# add 2 numbers\n",
        "addition = lambda a,b:a+b\n",
        "addition(2,4)\n",
        "\n"
      ],
      "metadata": {
        "colab": {
          "base_uri": "https://localhost:8080/"
        },
        "id": "J1MNdxoDpKxf",
        "outputId": "f877eca5-b6cb-46d1-d182-7c081835dad6"
      },
      "execution_count": 67,
      "outputs": [
        {
          "output_type": "execute_result",
          "data": {
            "text/plain": [
              "6"
            ]
          },
          "metadata": {},
          "execution_count": 67
        }
      ]
    },
    {
      "cell_type": "code",
      "source": [
        "sqr = lambda x:math.sqrt(x)\n",
        "sqr(100)"
      ],
      "metadata": {
        "colab": {
          "base_uri": "https://localhost:8080/"
        },
        "id": "WjJtGHbKpZFF",
        "outputId": "3a3bb9b8-77c3-4df2-bce2-edc343d729ef"
      },
      "execution_count": 68,
      "outputs": [
        {
          "output_type": "execute_result",
          "data": {
            "text/plain": [
              "10.0"
            ]
          },
          "metadata": {},
          "execution_count": 68
        }
      ]
    },
    {
      "cell_type": "code",
      "source": [
        "# finding even number\n",
        "even = lambda a:a%2==0\n",
        "even(4)"
      ],
      "metadata": {
        "colab": {
          "base_uri": "https://localhost:8080/"
        },
        "id": "I1vjnoR2psdS",
        "outputId": "0bef14d3-65f9-49a4-a4d1-f69952ae29fc"
      },
      "execution_count": 69,
      "outputs": [
        {
          "output_type": "execute_result",
          "data": {
            "text/plain": [
              "True"
            ]
          },
          "metadata": {},
          "execution_count": 69
        }
      ]
    },
    {
      "cell_type": "markdown",
      "source": [
        "Map Function"
      ],
      "metadata": {
        "id": "hBWxbqahqe19"
      }
    },
    {
      "cell_type": "code",
      "source": [
        "lst = [1,2,3,4,5]\n",
        "for i in lst:\n",
        "  print(lst[i]**2)"
      ],
      "metadata": {
        "id": "faQE7XbHqqeL"
      },
      "execution_count": null,
      "outputs": []
    },
    {
      "cell_type": "code",
      "source": [
        "def square(x):\n",
        "  return x*x\n",
        "\n",
        "lst = [1,2,3,4,5]\n",
        "list(map(square,lst))"
      ],
      "metadata": {
        "colab": {
          "base_uri": "https://localhost:8080/"
        },
        "id": "DpCzs6QIqba7",
        "outputId": "6d590919-7bc3-4fac-d6bb-e76aa5f4906f"
      },
      "execution_count": 71,
      "outputs": [
        {
          "output_type": "execute_result",
          "data": {
            "text/plain": [
              "[1, 4, 9, 16, 25]"
            ]
          },
          "metadata": {},
          "execution_count": 71
        }
      ]
    },
    {
      "cell_type": "code",
      "source": [
        "# combining lambda and map\n",
        "list(map(lambda x:x**2,lst))"
      ],
      "metadata": {
        "id": "M1lWMaJrrEu1",
        "colab": {
          "base_uri": "https://localhost:8080/"
        },
        "outputId": "2ec5044d-f1ea-48af-df8e-c70598a48b1b"
      },
      "execution_count": 72,
      "outputs": [
        {
          "output_type": "execute_result",
          "data": {
            "text/plain": [
              "[1, 4, 9, 16, 25]"
            ]
          },
          "metadata": {},
          "execution_count": 72
        }
      ]
    },
    {
      "cell_type": "code",
      "source": [
        "num1 = [1,2,3,4,5]\n",
        "num2 = [6,7,8,9,10]\n",
        "list(map(lambda a,b:a+b,num1,num2))"
      ],
      "metadata": {
        "colab": {
          "base_uri": "https://localhost:8080/"
        },
        "id": "9FRZnsG3rnq7",
        "outputId": "60e87df0-6d99-409d-a4b8-d5e88db45917"
      },
      "execution_count": 73,
      "outputs": [
        {
          "output_type": "execute_result",
          "data": {
            "text/plain": [
              "[7, 9, 11, 13, 15]"
            ]
          },
          "metadata": {},
          "execution_count": 73
        }
      ]
    },
    {
      "cell_type": "markdown",
      "source": [
        "*Filter function"
      ],
      "metadata": {
        "id": "734uovQZss90"
      }
    },
    {
      "cell_type": "code",
      "source": [
        "def even(x):\n",
        "  if x%2==0:\n",
        "    return True\n",
        "\n",
        "lst = [2,3,4,5,6,7,8,9]\n",
        "list(filter(even,lst))"
      ],
      "metadata": {
        "colab": {
          "base_uri": "https://localhost:8080/"
        },
        "id": "kZTHOIoUsD8G",
        "outputId": "a7fa2bf6-890f-4a0f-8c4f-dfd865e3e085"
      },
      "execution_count": 74,
      "outputs": [
        {
          "output_type": "execute_result",
          "data": {
            "text/plain": [
              "[2, 4, 6, 8]"
            ]
          },
          "metadata": {},
          "execution_count": 74
        }
      ]
    },
    {
      "cell_type": "code",
      "source": [
        "number = [1,2,3,4,5,6,7,8,9]\n",
        "print(list(filter(lambda x:x>4,number)))"
      ],
      "metadata": {
        "colab": {
          "base_uri": "https://localhost:8080/"
        },
        "id": "60SGZFHJt0Hq",
        "outputId": "abcd528d-9de0-49fd-a7bd-12e25116406b"
      },
      "execution_count": 75,
      "outputs": [
        {
          "output_type": "stream",
          "name": "stdout",
          "text": [
            "[5, 6, 7, 8, 9]\n"
          ]
        }
      ]
    },
    {
      "cell_type": "code",
      "source": [
        "# div by 3 or 5\n",
        "numbers = [1,2,3,4,5,6,7,8,9,3,44,56,32,87,66,54,98]\n",
        "list(filter(lambda x:x%3==0 or x%5==0,numbers))"
      ],
      "metadata": {
        "id": "_gB3yqzBuKm0",
        "colab": {
          "base_uri": "https://localhost:8080/"
        },
        "outputId": "77dba7df-5373-4317-d539-60c2c6a5ede4"
      },
      "execution_count": 76,
      "outputs": [
        {
          "output_type": "execute_result",
          "data": {
            "text/plain": [
              "[3, 5, 6, 9, 3, 87, 66, 54]"
            ]
          },
          "metadata": {},
          "execution_count": 76
        }
      ]
    },
    {
      "cell_type": "code",
      "source": [
        "name = [\"Dhawal\",\"Arun\",\"Mahesh\",\"Ankit\",\"Ajay\",\"Naveen\",\"Kajal\"]\n",
        "#return a list with names of length greater than 5"
      ],
      "metadata": {
        "id": "TupPp8-uu9PQ"
      },
      "execution_count": null,
      "outputs": []
    },
    {
      "cell_type": "code",
      "source": [
        "nums = [1,2,3,4,5,6]\n",
        "# double the numbers who are even\n",
        "\n"
      ],
      "metadata": {
        "id": "kML8iP5Vwe_Z"
      },
      "execution_count": null,
      "outputs": []
    },
    {
      "cell_type": "code",
      "source": [],
      "metadata": {
        "id": "7JzrYRsExvVT"
      },
      "execution_count": null,
      "outputs": []
    }
  ]
}